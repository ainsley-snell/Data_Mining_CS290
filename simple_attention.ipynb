{
  "nbformat": 4,
  "nbformat_minor": 0,
  "metadata": {
    "colab": {
      "provenance": [],
      "authorship_tag": "ABX9TyNsO7l60+6nRSML/6c+Ph2E",
      "include_colab_link": true
    },
    "kernelspec": {
      "name": "python3",
      "display_name": "Python 3"
    },
    "language_info": {
      "name": "python"
    }
  },
  "cells": [
    {
      "cell_type": "markdown",
      "metadata": {
        "id": "view-in-github",
        "colab_type": "text"
      },
      "source": [
        "<a href=\"https://colab.research.google.com/github/ainsley-snell/Data_Mining_CS290/blob/main/simple_attention.ipynb\" target=\"_parent\"><img src=\"https://colab.research.google.com/assets/colab-badge.svg\" alt=\"Open In Colab\"/></a>"
      ]
    },
    {
      "cell_type": "code",
      "execution_count": null,
      "metadata": {
        "id": "PTTrQikvZMiY"
      },
      "outputs": [],
      "source": [
        "import torch\n",
        "import tiktoken"
      ]
    },
    {
      "cell_type": "code",
      "source": [
        "raw_text=\"This is my dog Hazel\"\n",
        "tokenizer= tiktoken.get_encoding(\"gpt2\")\n",
        "enc_text= tokenizer.encode(raw_text)\n",
        "print(enc_text)"
      ],
      "metadata": {
        "colab": {
          "base_uri": "https://localhost:8080/"
        },
        "id": "59ct5HE2G5xL",
        "outputId": "75b021d1-7fbf-41d9-8c5d-22cb605c2313"
      },
      "execution_count": null,
      "outputs": [
        {
          "output_type": "stream",
          "name": "stdout",
          "text": [
            "[1212, 318, 616, 3290, 42805]\n"
          ]
        }
      ]
    },
    {
      "cell_type": "code",
      "source": [
        "vocab_size= 4\n",
        "output_dim= 8\n",
        "inputs= torch.nn.Embedding(vocab_size, output_dim)\n",
        "print(inputs.weight)"
      ],
      "metadata": {
        "colab": {
          "base_uri": "https://localhost:8080/"
        },
        "id": "faw6VsdAG9u3",
        "outputId": "91912c5b-9167-4e97-ffe4-094a0e775f10"
      },
      "execution_count": null,
      "outputs": [
        {
          "output_type": "stream",
          "name": "stdout",
          "text": [
            "Parameter containing:\n",
            "tensor([[-1.0583, -0.0852, -0.0109,  1.7738, -1.6722,  0.6944, -1.1482,  0.8530],\n",
            "        [ 1.1920,  0.0608, -1.5753,  1.9308, -0.3620,  0.8919, -0.1951,  0.8675],\n",
            "        [-1.2731, -0.6346, -0.0420, -1.5472, -0.8058,  0.8409,  1.7525,  0.3504],\n",
            "        [-0.2306, -1.0688, -0.5420,  1.0409, -1.3454, -2.0214, -1.4396,  1.8541]],\n",
            "       requires_grad=True)\n"
          ]
        }
      ]
    },
    {
      "cell_type": "code",
      "source": [
        "inputs= inputs.weight.data\n",
        "inputs"
      ],
      "metadata": {
        "colab": {
          "base_uri": "https://localhost:8080/"
        },
        "id": "6TPGx0qqHNT-",
        "outputId": "fb27c5f4-400f-4c76-b8ed-b0a331cfee87"
      },
      "execution_count": null,
      "outputs": [
        {
          "output_type": "execute_result",
          "data": {
            "text/plain": [
              "tensor([[-1.0583, -0.0852, -0.0109,  1.7738, -1.6722,  0.6944, -1.1482,  0.8530],\n",
              "        [ 1.1920,  0.0608, -1.5753,  1.9308, -0.3620,  0.8919, -0.1951,  0.8675],\n",
              "        [-1.2731, -0.6346, -0.0420, -1.5472, -0.8058,  0.8409,  1.7525,  0.3504],\n",
              "        [-0.2306, -1.0688, -0.5420,  1.0409, -1.3454, -2.0214, -1.4396,  1.8541]])"
            ]
          },
          "metadata": {},
          "execution_count": 4
        }
      ]
    },
    {
      "cell_type": "code",
      "source": [
        "inputs.shape"
      ],
      "metadata": {
        "colab": {
          "base_uri": "https://localhost:8080/"
        },
        "id": "YIrk0woDHAxl",
        "outputId": "a3916dc7-4c70-410e-887f-5131317c7b5e"
      },
      "execution_count": null,
      "outputs": [
        {
          "output_type": "execute_result",
          "data": {
            "text/plain": [
              "torch.Size([4, 8])"
            ]
          },
          "metadata": {},
          "execution_count": 5
        }
      ]
    },
    {
      "cell_type": "code",
      "source": [
        "for row in inputs:\n",
        "    print(row.tolist())"
      ],
      "metadata": {
        "id": "7P7Qh-ymHQ9R"
      },
      "execution_count": null,
      "outputs": []
    },
    {
      "cell_type": "code",
      "source": [
        "x= torch.Tensor([1.1,2.3])\n",
        "y= torch.Tensor([3.4,-2.1])\n",
        "torch.dot(x,y)"
      ],
      "metadata": {
        "id": "vK9A-_lWHTfi"
      },
      "execution_count": null,
      "outputs": []
    },
    {
      "cell_type": "code",
      "source": [
        "query= inputs[2]\n",
        "print(query)"
      ],
      "metadata": {
        "id": "ISN8GmQ9HZ1G"
      },
      "execution_count": null,
      "outputs": []
    },
    {
      "cell_type": "code",
      "source": [
        "for i in range(len(inputs)):\n",
        "    print(torch.dot(query,inputs[i]))"
      ],
      "metadata": {
        "id": "qjoCjeWyHcPp"
      },
      "execution_count": null,
      "outputs": []
    },
    {
      "cell_type": "code",
      "source": [
        "attention_scores_2= torch.zeros(len(inputs))\n",
        "for i in range(len(inputs)):\n",
        "    attention_scores_2[i]=torch.dot(query,inputs[i])\n",
        "print(attention_scores_2)"
      ],
      "metadata": {
        "id": "3c9FdFVFHfAY"
      },
      "execution_count": null,
      "outputs": []
    },
    {
      "cell_type": "code",
      "source": [
        "#normalize attention scores using the softmax funtion to become weights:\n",
        "#def softmax(x):\n",
        "#    torch.exp(x)/ torch.exp(x).sum()"
      ],
      "metadata": {
        "id": "mlsl59D3HkO7"
      },
      "execution_count": null,
      "outputs": []
    },
    {
      "cell_type": "code",
      "source": [
        "attention_weights_2= torch.softmax(attention_scores_2, dim=0)\n",
        "attention_weights_2"
      ],
      "metadata": {
        "id": "bsbgz929Hm_k"
      },
      "execution_count": null,
      "outputs": []
    },
    {
      "cell_type": "code",
      "source": [
        "attention_weights_2.sum()"
      ],
      "metadata": {
        "id": "C89bj7b2IBEq"
      },
      "execution_count": null,
      "outputs": []
    },
    {
      "cell_type": "code",
      "source": [
        "#use weights to create context vector\n",
        "context_vector_2= torch.zeros(query.shape)\n",
        "for i in range(len(attention_weights_2)) :\n",
        "    context_vector_2 += attention_weights_2[i]* inputs[i]\n",
        "context_vector_2"
      ],
      "metadata": {
        "id": "L6wY8rFyHpUZ"
      },
      "execution_count": null,
      "outputs": []
    },
    {
      "cell_type": "code",
      "source": [
        "inputs"
      ],
      "metadata": {
        "colab": {
          "base_uri": "https://localhost:8080/"
        },
        "id": "WRZxEHzFIJYf",
        "outputId": "f8cab147-ac9e-411e-94bc-fb395ae86bbf"
      },
      "execution_count": null,
      "outputs": [
        {
          "output_type": "execute_result",
          "data": {
            "text/plain": [
              "tensor([[-1.0583, -0.0852, -0.0109,  1.7738, -1.6722,  0.6944, -1.1482,  0.8530],\n",
              "        [ 1.1920,  0.0608, -1.5753,  1.9308, -0.3620,  0.8919, -0.1951,  0.8675],\n",
              "        [-1.2731, -0.6346, -0.0420, -1.5472, -0.8058,  0.8409,  1.7525,  0.3504],\n",
              "        [-0.2306, -1.0688, -0.5420,  1.0409, -1.3454, -2.0214, -1.4396,  1.8541]])"
            ]
          },
          "metadata": {},
          "execution_count": 6
        }
      ]
    },
    {
      "cell_type": "code",
      "source": [
        "inputs.T"
      ],
      "metadata": {
        "colab": {
          "base_uri": "https://localhost:8080/"
        },
        "id": "I7yd9nnNIKRF",
        "outputId": "5ce20781-a5e9-4698-8eb9-2dcf631ddb6c"
      },
      "execution_count": null,
      "outputs": [
        {
          "output_type": "execute_result",
          "data": {
            "text/plain": [
              "tensor([[-1.0583,  1.1920, -1.2731, -0.2306],\n",
              "        [-0.0852,  0.0608, -0.6346, -1.0688],\n",
              "        [-0.0109, -1.5753, -0.0420, -0.5420],\n",
              "        [ 1.7738,  1.9308, -1.5472,  1.0409],\n",
              "        [-1.6722, -0.3620, -0.8058, -1.3454],\n",
              "        [ 0.6944,  0.8919,  0.8409, -2.0214],\n",
              "        [-1.1482, -0.1951,  1.7525, -1.4396],\n",
              "        [ 0.8530,  0.8675,  0.3504,  1.8541]])"
            ]
          },
          "metadata": {},
          "execution_count": 7
        }
      ]
    },
    {
      "cell_type": "code",
      "source": [
        "#get all attention scores via matrix multiplication (inputs.T is transposed inputs)\n",
        "attention_scores= inputs @ inputs.T\n",
        "attention_scores"
      ],
      "metadata": {
        "colab": {
          "base_uri": "https://localhost:8080/"
        },
        "id": "0va7xWnCd6nM",
        "outputId": "d21d637e-fe03-4dff-81dc-cf4ce529dbfb"
      },
      "execution_count": null,
      "outputs": [
        {
          "output_type": "execute_result",
          "data": {
            "text/plain": [
              "tensor([[ 9.5986,  4.3639, -1.1244,  6.2680],\n",
              "        [ 4.3639,  9.3512, -3.4736,  3.0970],\n",
              "        [-1.1244, -3.4736,  8.9694, -3.1046],\n",
              "        [ 6.2680,  3.0970, -3.1046, 13.9789]])"
            ]
          },
          "metadata": {},
          "execution_count": 8
        }
      ]
    },
    {
      "cell_type": "code",
      "source": [
        "attention_weights= torch.softmax(attention_scores, dim=-1)\n",
        "attention_weights"
      ],
      "metadata": {
        "colab": {
          "base_uri": "https://localhost:8080/"
        },
        "id": "IfnnRJqsgawK",
        "outputId": "52c6ef66-3128-4100-8c93-7837c71c99c6"
      },
      "execution_count": null,
      "outputs": [
        {
          "output_type": "execute_result",
          "data": {
            "text/plain": [
              "tensor([[9.6050e-01, 5.1182e-03, 2.1161e-05, 3.4358e-02],\n",
              "        [6.7649e-03, 9.9133e-01, 2.6698e-06, 1.9056e-03],\n",
              "        [4.1330e-05, 3.9450e-06, 9.9995e-01, 5.7052e-06],\n",
              "        [4.4769e-04, 1.8786e-05, 3.8063e-08, 9.9953e-01]])"
            ]
          },
          "metadata": {},
          "execution_count": 9
        }
      ]
    },
    {
      "cell_type": "code",
      "source": [
        "attention_weights[0].sum()"
      ],
      "metadata": {
        "colab": {
          "base_uri": "https://localhost:8080/"
        },
        "id": "El0iywpzhX5f",
        "outputId": "dc3685bf-b236-4fd7-8dda-7009504fdd09"
      },
      "execution_count": null,
      "outputs": [
        {
          "output_type": "execute_result",
          "data": {
            "text/plain": [
              "tensor(1.0000)"
            ]
          },
          "metadata": {},
          "execution_count": 11
        }
      ]
    },
    {
      "cell_type": "code",
      "source": [
        "context_vectors=attention_weights @ inputs\n",
        "context_vectors"
      ],
      "metadata": {
        "colab": {
          "base_uri": "https://localhost:8080/"
        },
        "id": "mWPvkZ41hd_S",
        "outputId": "dbaf955e-c392-436e-dd55-dd34047dae68"
      },
      "execution_count": null,
      "outputs": [
        {
          "output_type": "execute_result",
          "data": {
            "text/plain": [
              "tensor([[-1.0184, -0.1182, -0.0371,  1.7494, -1.6543,  0.6021, -1.1533,  0.8875],\n",
              "        [ 1.1741,  0.0577, -1.5628,  1.9280, -0.3727,  0.8850, -0.2039,  0.8693],\n",
              "        [-1.2731, -0.6345, -0.0421, -1.5470, -0.8058,  0.8409,  1.7523,  0.3504],\n",
              "        [-0.2310, -1.0683, -0.5417,  1.0412, -1.3455, -2.0201, -1.4394,  1.8536]])"
            ]
          },
          "metadata": {},
          "execution_count": 10
        }
      ]
    }
  ]
}