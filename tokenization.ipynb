{
 "cells": [
  {
   "cell_type": "markdown",
   "id": "f592fbb0",
   "metadata": {},
   "source": [
    "# Tokenization\n",
    "\n",
    "_Tokenization_ is the process of converting a body of text into individual _tokens_, e.g., words and punctuation characters. This is the first step for most Natural Language Processing (NLP) tasks, including preparing data for training an LLM. Let's see how it's done!"
   ]
  },
  {
   "cell_type": "markdown",
   "id": "09f17e49",
   "metadata": {},
   "source": [
    "## Some sample text"
   ]
  },
  {
   "cell_type": "code",
   "execution_count": 1,
   "id": "4bc42f87",
   "metadata": {},
   "outputs": [
    {
     "name": "stdout",
     "output_type": "stream",
     "text": [
      "This is a test! Or is this not a test? Test it to be sure. :)\n",
      "This sample text has 61 characters.\n"
     ]
    }
   ],
   "source": [
    "text = \"This is a test! Or is this not a test? Test it to be sure. :)\"\n",
    "print(text)\n",
    "print(f\"This sample text has {len(text)} characters.\")"
   ]
  },
  {
   "cell_type": "code",
   "execution_count": 2,
   "id": "e87c5517",
   "metadata": {},
   "outputs": [
    {
     "name": "stdout",
     "output_type": "stream",
     "text": [
      "['This', 'is', 'a', 'test!', 'Or', 'is', 'this', 'not', 'a', 'test?', 'Test', 'it', 'to', 'be', 'sure.', ':)']\n"
     ]
    }
   ],
   "source": [
    "print(text.split())"
   ]
  },
  {
   "cell_type": "code",
   "execution_count": 3,
   "id": "0a50333c",
   "metadata": {},
   "outputs": [
    {
     "name": "stdout",
     "output_type": "stream",
     "text": [
      "\u001b[0;31mSignature:\u001b[0m \u001b[0mstr\u001b[0m\u001b[0;34m.\u001b[0m\u001b[0msplit\u001b[0m\u001b[0;34m(\u001b[0m\u001b[0mself\u001b[0m\u001b[0;34m,\u001b[0m \u001b[0;34m/\u001b[0m\u001b[0;34m,\u001b[0m \u001b[0msep\u001b[0m\u001b[0;34m=\u001b[0m\u001b[0;32mNone\u001b[0m\u001b[0;34m,\u001b[0m \u001b[0mmaxsplit\u001b[0m\u001b[0;34m=\u001b[0m\u001b[0;34m-\u001b[0m\u001b[0;36m1\u001b[0m\u001b[0;34m)\u001b[0m\u001b[0;34m\u001b[0m\u001b[0;34m\u001b[0m\u001b[0m\n",
      "\u001b[0;31mDocstring:\u001b[0m\n",
      "Return a list of the substrings in the string, using sep as the separator string.\n",
      "\n",
      "  sep\n",
      "    The separator used to split the string.\n",
      "\n",
      "    When set to None (the default value), will split on any whitespace\n",
      "    character (including \\n \\r \\t \\f and spaces) and will discard\n",
      "    empty strings from the result.\n",
      "  maxsplit\n",
      "    Maximum number of splits.\n",
      "    -1 (the default value) means no limit.\n",
      "\n",
      "Splitting starts at the front of the string and works to the end.\n",
      "\n",
      "Note, str.split() is mainly useful for data that has been intentionally\n",
      "delimited.  With natural text that includes punctuation, consider using\n",
      "the regular expression module.\n",
      "\u001b[0;31mType:\u001b[0m      method_descriptor"
     ]
    }
   ],
   "source": [
    "str.split?"
   ]
  },
  {
   "cell_type": "code",
   "execution_count": 4,
   "id": "f7f76f65",
   "metadata": {},
   "outputs": [],
   "source": [
    "import re"
   ]
  },
  {
   "cell_type": "code",
   "execution_count": 10,
   "id": "1d09bdde",
   "metadata": {},
   "outputs": [
    {
     "name": "stdout",
     "output_type": "stream",
     "text": [
      "['!', ')', '.', ':', '?', 'Or', 'Test', 'This', 'a', 'be', 'is', 'it', 'not', 'sure', 'test', 'this', 'to']\n"
     ]
    }
   ],
   "source": [
    "tokens= re.split(r'([.!?:()]|\\s)', text)\n",
    "tokens=[item for item in tokens if item.split()]\n",
    "tokens = sorted( list(set(tokens)))\n",
    "print(tokens)"
   ]
  },
  {
   "cell_type": "code",
   "execution_count": 11,
   "id": "da7940e7",
   "metadata": {},
   "outputs": [
    {
     "name": "stdout",
     "output_type": "stream",
     "text": [
      "dict_items([('!', 0), (')', 1), ('.', 2), (':', 3), ('?', 4), ('Or', 5), ('Test', 6), ('This', 7), ('a', 8), ('be', 9), ('is', 10), ('it', 11), ('not', 12), ('sure', 13), ('test', 14), ('this', 15), ('to', 16)])\n"
     ]
    }
   ],
   "source": [
    "vocab= {token:index for index, token in enumerate( tokens)}\n",
    "print(vocab.items())"
   ]
  },
  {
   "cell_type": "code",
   "execution_count": 13,
   "id": "2fc55eb4",
   "metadata": {},
   "outputs": [
    {
     "name": "stdout",
     "output_type": "stream",
     "text": [
      "SILVER BLAZE\n",
      "\n",
      "\"I AM afraid, Watson, that I shall have to go,\" said Holmes, as we sat down together t\n"
     ]
    }
   ],
   "source": [
    "with open(\"SILVERBLAZE.txt\", \"r\") as f:\n",
    "    raw_text= f.read()\n",
    "print(raw_text[:100])"
   ]
  },
  {
   "cell_type": "code",
   "execution_count": null,
   "id": "3cc596b3",
   "metadata": {},
   "outputs": [
    {
     "name": "stdout",
     "output_type": "stream",
     "text": [
      "['!', '\"', '\"\\'Can', '\"\\'Good-evening,\\'', '\"\\'It\\'s', '\"\\'Oh,', '\"\\'So,', '\"\\'What', '\"\\'You', '\"A', '\"About', '\"Ah,', '\"All', '\"And', '\"At', '\"Because', '\"Before', '\"Bless', '\"But', '\"Capital', '\"Certainly', '\"Certainly,', '\"Colonel', '\"Dear', '\"Did', '\"Edith', '\"Exceedingly', '\"Excellent', '\"Excellent,', '\"Excuse', '\"Five', '\"From', '\"Go', '\"Gregory,', '\"Have', '\"He', '\"Here', '\"His', '\"How', '\"Hullo', '\"Hum', '\"Hunter', '\"I', '\"I\\'ve', '\"In', '\"Indeed', '\"Inspector', '\"Is', '\"It', '\"It\\'s', '\"Madame', '\"Mrs', '\"My', '\"No', '\"No,', '\"None;', '\"Nor', '\"Nothing', '\"Now,', '\"Of', '\"Oh', '\"Oh,', '\"On', '\"One', '\"Only', '\"Our', '\"Perhaps', '\"Quite', '\"See', '\"She', '\"Should', '\"Silver', '\"So', '\"Somebody', '\"Surely', '\"Ten', '\"That', '\"That\\'s', '\"The', '\"There', '\"They', '\"This', '\"Those', '\"Three', '\"To', '\"Tuesday', '\"Twenty-two', '\"Undoubtedly', '\"Very', '\"Villain', '\"We', '\"Well,', '\"What', '\"What\\'s', '\"When', '\"Where', '\"Who', '\"Why', '\"Why,', '\"Wonderful', '\"Yes,', '\"Yes;', '\"You', '\"Your', '\"an', '\"and', '\"but', '\"even', '\"is', '\"that', '&', \"'\", \"'I\", \"'I'll\", \"'See\", \"'You've\", '(', ')', ',', '.', '1000', '50', '?', 'A', 'AM', 'Above', 'Afterwards,', 'Again', 'Again,', 'All', 'An', 'And', 'As', 'At', 'BLAZE', \"Backwater's\", 'Backwater,', \"Balmoral's\", 'Baxter', 'Baxter,', 'Bayard', 'Be', 'Before', 'Black', 'Blaze', 'Blaze,', 'Blaze,\"', 'Blue', 'Bond', 'Brown', 'Brown,', 'But', 'By', 'Cavendish,', 'Chronicle', 'Cinnamon', 'Clapham', 'Co', 'Colonel', \"Colonel's\", 'Colonel,', 'Colonel,\"', 'Cup', 'Cup,', 'Cup—Silver', 'D', 'Dartmoor', 'Dartmoor;', 'Dawson', 'Derbyshire', 'Derbyshire,', 'Desborough', \"Desborough's\", 'Desborough,', 'Devonshire', 'Devonshire,', 'Do', \"Don't\", 'Dr', 'Drive', 'Duke', 'Edith', 'England', 'English', 'Every', 'Exeter,', 'Finally,', 'Fitzroy', 'Five', 'For', 'Four', 'Fresh', 'From', 'Go', 'Gregory', 'Gregory,', 'Has', 'Have', 'He', 'Heath', 'Her', 'Here', 'His', 'Holmes', \"Holmes's\", 'Holmes,', 'Holmes,\"', 'How', 'However', 'However,', 'Hullo,', 'Hunter', 'Hunter,', 'I', 'I,', 'If', 'Immediately', 'In', 'Indeed,', 'Inspector', \"Inspector's\", 'Inspector,', 'Inspector,\"', 'Iris', 'Is', 'It', 'John', 'Junction,', \"King's\", 'Lesurier,', 'Let', 'Liberal', 'London', 'London,', 'Lord', 'Madame', 'Mapleton', 'Mapleton,', 'Master', 'Might', 'Monday', 'Mr', 'Mrs', 'My', 'Ned', 'Negro', 'Never', 'New', \"Newton's\", 'No', 'No,', 'Not', 'Now', 'Now,', 'Obviously', 'Of', 'On', 'Once', 'One', 'P', 'Paddington', 'Paddington,', 'Penang-lawyer', 'Perhaps', 'Pink', 'Plate', 'Plymouth', 'Powdered', 'Pugilist', 'Pullman', 'Purple', 'Pyland', 'Pyland,', 'Rasper', 'Reading', 'Red', 'Ross', \"Ross's\", 'Ross,', 'SILVER', 'Say', 'Scoundrel', 'Second,', 'Shall', 'She', 'Sherlock', 'Should', 'Silas', 'Silver', 'Simpson', \"Simpson's\", 'Simpson,', 'Simpson,\"', \"Singleford's\", 'So', 'Some', 'Sometimes', 'Somomy', 'Straker', \"Straker's\", 'Straker,', 'Straker,\"', 'Street,', 'Such', 'Surely', 'Tavistock', 'Tavistock,', 'Telegraph', 'That', 'The', 'Then', 'Then,', 'There', 'Therefore', 'These', 'They', 'Third,', 'This', 'Though', 'Thursday', 'Tuesday', 'Tuesday,', 'Two', 'Under', 'Up', 'Victoria', \"Wardlaw's\", 'Watson', 'Watson,', 'Watson,\"', 'Watson;', 'Watson—which', 'We', 'Weiss', 'Well,', 'Were', 'Wessex', 'What', 'When', 'When,', 'Where', 'Which', 'Why', 'Why,', 'William', 'Winchester', 'Yellow', 'Yet', 'Yet,', 'You', '[it', 'a', 'abductor', 'ability', 'ability,', 'about', 'above', 'absentees', 'absolute', 'absolutely', 'absorbed', 'abundant', 'access', 'according', 'account', 'account,', 'account;', 'accounts', 'accused', 'accustomed', 'acknowledges', 'acquiring', 'across', 'acted', 'action', 'actions', 'add,', 'added', 'address,', 'addressed', 'admittance', 'advantage', 'advice,', 'affair', 'afraid', 'afraid,', 'after', 'again', 'against', 'age,', 'agent,', 'agents,', 'agitation', 'ago,', 'air', 'alert', 'alert,', 'alighted', 'all', 'all,', 'almost', 'alone', 'along', 'already', 'already,', 'also', 'although', 'although,', 'altogether', 'aluminum', 'always', 'always,', 'am', 'amazement', 'amiss', 'amnesty', 'among', 'amount', 'amusement', 'an', 'analysis', 'analysis,', 'ancestor', 'and', 'and,', 'angrily', 'angry', 'animals', 'announced', 'annoyance', 'another', 'answer', 'answered', 'anticipate', 'anxiety', 'any', 'anyhow,\"', 'anything', 'apart,', 'apologies', 'apology', 'apparently,', 'appeared', 'appears', 'appears,', 'apple', 'appointment', 'appreciable', 'appreciated', 'approached,', 'are', 'are,', 'argue', 'arm', 'armed', 'arms', 'arouse', 'aroused', 'arrest', 'arrested', 'arresting', 'arrival', 'art', 'as', 'ascending', 'ashy', 'aside', 'ask', 'asked', 'asphalt', 'assailants', 'assailants,', 'associated', 'assurance', 'assurance,\"', 'assure', 'astonishment', 'astute', 'at', 'attempt', 'attends', 'attention', 'avenge', 'awaiting', 'away', 'awoke', 'back', 'bad', 'bag', 'bag,', 'baldly', 'bank', 'barked', 'basis,', 'bay', 'be', 'be,', 'beads', 'bear', 'beard,', 'bearing', 'bearing,', 'beast', 'beat', 'beautiful', 'became', 'because', 'become', 'becomes', 'been', 'before', 'before,', 'before,\"', 'beg', 'begged', 'beginning', 'begun', 'behind', 'being', 'believe', 'bell,', 'belongings', 'belongs', 'beside', 'best', 'bets', 'better', 'betting', 'betting,', 'betting-book', 'between', 'beyond', 'bill', 'bills', 'birth', 'black', 'blade', 'blind', 'blood', 'blood-stains', 'blow', 'blown', 'blows,', 'blue', 'blunder,', 'bluntly,', 'bluster', 'body', 'body,\"', 'bolt', 'bolted', 'bolted,', 'book-making', 'boots', 'bore', 'boss', 'both', 'bottom', 'bound', 'bowed', 'bowl-shaped', 'box', 'boy', 'brain', 'brains', 'brambles', 'branch', 'breadth', 'breakfast', 'breath', 'bridle', 'brier-root', 'brilliant', 'brilliantly', 'bringing', 'brink', 'briskly', 'broke', 'broken', 'bronze-colored', 'brooding', 'brought', 'brow,', 'browns', 'brows', 'buildings', 'built', 'bully,', 'bullying,', 'bundle', 'buried', 'burned,', 'burst', 'bush', 'bushes', 'business', 'but', 'buy', 'by', 'calculation', 'call', 'called', 'calling', 'came', 'can', 'candle,', 'cannot', 'cantered', 'cap', 'car', 'card', 'care', 'cared', 'careful', 'carefully', 'carpet', 'carriage', 'carriage,', 'carried', 'carry', 'carrying', 'case', 'case,', 'cases', 'cast', 'cataract', 'catastrophe', 'catch', 'caught', 'caused', 'cavalier', 'ceased', 'central', 'centres', 'certain', 'certainly', 'chaff-cutting', 'chain', 'chain,', 'chair,', 'challenge', 'chance', 'change', 'characteristic', 'characters', 'charge', 'charging', 'charming', 'checking', 'chemist', 'chest', 'child', 'children,', 'chin', 'chip', 'choose', 'chosen', 'chuckled', 'cigar', 'cigar,', 'cigar-case', 'circle', 'circumstantial,', 'city', 'clambered', 'clasped', 'clean', 'clear', 'clear,', 'clearness,', 'clears', 'clever', 'close', 'close,', 'closed', 'cloth', 'clothing', 'clotted', 'clubs', 'clue', 'clue,', 'cluster', 'co-operation', 'coachman', 'coat', 'coated', 'coincidence', 'cold', 'colors', 'come', 'come,', 'comfortable', 'comfortably', 'coming', 'committed,', 'common', 'companion', \"companion's\", 'companion,', 'company', 'compared', 'competent', 'complete', 'complete,', 'compound', 'concealed', 'concealed,', 'concluded', 'conclusion', 'confer', 'confess', 'confess,', 'confess,\"', 'confidence', 'confine', 'confronted', 'conjecture,', 'connect', 'connection', 'consider', 'consisted', 'consultant,\"', 'contain', 'containing', 'contents', 'continued', 'continued,', 'contractor', 'contrary,', 'conversation', 'conversation,', 'conviction', 'convinced', 'convinced,', 'convulsive', 'cork', 'corner', 'correct', 'correct,', 'corresponded', 'costume', 'could', 'counsel', 'country', 'course', 'course,', 'covered', 'coward,', 'cravat', 'cravat,', 'crawled', 'creature', 'creature,', 'cried', 'crime', 'crime,', 'cringed', 'crossed', 'culprit,', 'curious', 'curiously', 'curled', 'curried', 'curry', 'curve', 'curves', 'cushions,', 'custom', 'customer', 'cut,', 'damned', 'dapper,', 'dared', 'dark', 'dark,', 'darkness', 'dashing', 'day', 'day-dreaming', 'days', 'dead', 'deaf', 'deal', 'dear', 'death,', 'debt,', 'deciding', 'decision', 'declared', 'declares', 'deepening', 'deepest', 'defence', 'defended', 'defer', 'delicate', 'delicate,', 'delighted', 'deny', 'depression', 'deprived', 'descending', 'described', 'designs,', 'despair', 'detach', 'detail', 'details', 'detect', 'detective', 'detectives', 'develop', 'development', 'developments', 'devil', 'devised', 'devote', 'dialogue', 'did', \"didn't\", 'difficulties', 'difficulty', 'dipped', 'direction', 'direction,', 'disagreeable,', 'disappearance', 'disappeared,', 'disappears', 'disappointed', 'discover', 'disguise', 'dish', 'dishonest', 'disk', 'disposal', 'dispose', 'disregarding', 'distance', 'distant,', 'distrait,', 'district', 'district,', 'do', 'do,', 'dodge', 'does', 'dog', 'dog,', 'doing', \"don't\", 'don\\'t,\"', 'done', 'done,', 'done,\"', 'door', 'double', 'doubt', 'doubted', 'dove-colored', 'down', 'down,', 'drag', 'drama', 'draw', 'drawn', 'dress', 'dress,', 'dressed', 'dresses', 'dressing', 'dressing-table,', 'drew', 'drink', 'drive', 'driver', 'dropped', 'drove', 'drug', 'drug,', 'drugged', 'dry', 'dry,', 'duplicate', 'during', 'duty', 'each', 'eager', 'eager,', 'ear', 'ear-flapped', 'early', 'earn', 'earnestness', 'ears', 'earth', 'easily', 'eat', 'eater', 'eaves', 'editions', 'education,', 'effect', 'effects', 'either', 'elderly', 'element', 'eliminated', 'else', 'embellishments', 'emerged', 'empty,', 'en', 'encamped', 'enclosure', 'enclosure,', 'ended', 'enjoy', 'enormous', 'enough', 'enough,', 'ensued', 'entered', 'entirely', 'entreaties', 'entries', 'enumerate', 'envelope', 'epidemic', 'equally', 'erroneous', 'especially', 'essential', 'established', 'establishment', 'even', 'evening', 'event,', 'events', 'ever', 'every', 'everything', 'evidence', 'evidently', 'exactly', 'examination', 'examined', 'examining', 'excellent', 'exception', 'excited', 'excitement', 'exclaimed', 'exercise', 'exercise,', 'exercised', 'expect', 'expected', 'expedition,', 'expense', 'expensive', 'experience', 'explained', 'explanation', 'explanations', 'expression', 'extraordinary', 'extreme', 'extremely', 'eye', 'eye-glass', 'eyes', 'eyes,', 'eyes;', 'face', 'fact', 'factor', 'facts', 'fact—from', 'fact—of', 'faded', 'fading', 'fail', 'failed', 'fails,', 'fair', 'fakir,', 'fall', 'falls', 'familiar', 'family', 'famous', 'fancy', 'far', 'fatal', 'favor', 'favorite', \"favorite's\", 'favorite,', 'feel', 'feeling', 'feet', 'fell', 'fell,', 'fellow,', 'fellow-grooms', 'felt', 'ferns', 'ferns,', 'fetched', 'few', 'field', 'field-glass', 'fierce-looking', 'fifteen', 'fifth', 'fifty', 'fifty-three', 'filed', 'fill', 'final', 'find', 'finding', 'finger', 'finished', 'first', 'first,', 'first-class', 'first-hand', 'fit', 'fitted', 'fitting', 'five', 'fixed', 'flag', 'flapping', 'flavor', 'fled', 'flight', 'flushed', 'flying', 'folded', 'follow', 'followed', 'for', 'forcibly', 'forefinger', 'forehead', 'foretold', 'forgotten', 'form', 'formed', 'formidable', 'formulating', 'fortunate', 'fortune', 'forward', 'forward,', 'foul', 'found', 'found,', 'four', 'framed', 'framework', 'fraud', 'fresh', 'friend', \"friend's\", 'friend,', 'friends', 'frightened', 'frock', 'frock-coat', 'from', 'front', 'ft', 'full', 'furlongs', 'furlongs,', 'further', 'furze-bush', 'furze-bush,', 'gadabout', 'gain', 'gaiters,', 'garden-party', 'gashed', 'gasped', 'gate', 'gates', 'gave', 'gazed', 'general', 'genteel', 'gentlemanly', 'gentlemen', 'gentlemen,\"', 'get', 'gets', 'getting', 'gifted', 'girl', 'give', 'given', 'glad', 'glanced', 'glancing', 'glare,', 'gleam', 'glories', 'glossy', 'go', 'go,\"', 'goes', 'going', 'gold', 'gold,', 'gone', 'gone,', 'good', 'gossiping', 'got', 'grand', 'grasp', 'grasped', 'grave', 'grave,', 'gray', 'gray-tiled', 'grays', 'great', 'greater', 'greatest', 'gregarious', 'grip', 'groom', 'ground', 'grows', 'guard', 'guarded', 'guilt', 'guineas', 'gypsies', 'gypsies,', 'h', 'had', 'had,', 'haggard', 'hair', 'half', 'half-crown', 'ham,', 'hand', 'hand,', 'handed', 'handle,', 'hands', 'hands,', 'happened', 'happened,', 'happy', 'hard', 'hardly', 'harness-room', 'has', 'hastily,', 'hat', 'have', 'have,', 'having', \"hay-dealers'\", 'he', 'he,', 'he;', 'head', 'heap', 'hear', 'heard', 'hearing', 'heavy', 'heel,', 'heels', 'heights', 'held', 'help', 'helps', 'her', 'her,', 'here', 'here,', 'here,\"', 'herself', 'hide', 'hiding-place,', 'him', 'him,', 'himself', 'his', 'his,', 'holds', 'hollow', 'hollow,', 'home,', 'honest', 'hope', 'hope,', 'hoped', 'hopes', 'horror', 'horse', \"horse's\", 'horse,', 'horse,\"', 'horse-fakir', 'horses', 'horses,', 'horseshoe', 'hound', 'hour', 'hours', 'house', 'house,', 'houses', 'how', 'how,', 'however,', 'huddled', 'huge', 'hundred', 'hung', 'hunting-crop', 'hurled', 'husband', \"husband's,\", 'hypothesis', 'idea', 'idea,', 'if', 'ill', 'imagination', 'imagination,\"', 'imagine', 'imagine,', 'imagined', 'immediately', 'immense', 'impatience', 'impertinence', 'imperturbably', 'import', 'importance', 'importance,', 'important', 'impress', 'impressed,', 'impression', 'impressions', 'impressions,', 'improbable', 'impulse', 'in', 'inches', 'incident', 'incident,\"', 'incised', 'inclined', 'incomprehensible', 'indeed', 'indications', 'inference', 'inferences', 'infernal', 'infinitely', 'inflexible', 'inflicted', 'influence', 'information', 'inhabited', 'injure', 'injuries', 'injuring', 'injury', 'inquest', 'inquiries,', 'inside', 'inside,', 'instant,', 'instinct', 'instincts', 'instructions', 'instrument', 'insult', 'intended', 'intended,', 'intention', 'intention,', 'interest', 'interest,', 'interests', 'interjection', 'into', 'introduced', 'invalids', 'invariably', 'inventory', 'investigation', 'invisible', 'invisible,', 'inviting', 'is', 'is,', 'is,\"', 'it', 'it,', 'it,\"', 'its', 'itself', 'ivory-handled', 'jacket', 'jockey', 'joke', 'journey', 'jury', 'just', 'justified', 'keenly', 'keep', 'keeping', 'keeps', 'kept', 'key', 'key,', 'kidnap', 'kidnapping', 'killed', 'kitchen,', 'knew', 'knife', 'knife,', 'knife,\"', 'knitted,', 'knob', 'knoll', 'know', 'know,', 'knowing', 'known', 'knows', 'lacks', 'lad', 'lad,', 'ladies', 'lads', 'lads;', 'lady', 'laid', 'lain', 'lame,', 'lameness,', 'landau,', 'landscape', 'lantern', 'large', 'larger', 'lashed', 'last', 'late', 'later', 'later,', 'latter', 'laughed', 'laughing', 'lay', 'laying', 'lead', 'lead,', 'leading', 'leads', 'lean', 'leaned', 'leaning', 'learn,', 'least', 'leave', 'led', 'left', 'left,', 'leg', 'length', 'lengths', 'lengthy', 'less', 'lessen', 'let', 'letter', 'letters', 'liberty', 'lie', 'lies', 'lies,', 'life', 'life,', 'lifting', 'light', 'light;', 'like', 'likely', 'line', 'link', 'lion-like', 'lip', 'liquid,', 'listened', 'little', 'lived', 'locked', 'lodged', 'loft', 'loiterers', 'lonely,', 'long', 'long,', 'long-cut', 'look', 'looked', 'looking', 'looks', 'loser', 'loss', 'lost', 'low', 'luck', 'mackintosh', 'made', 'maid', 'maid,', 'maid-servant,', 'main', 'make', 'making', 'man', \"man's\", 'man,', 'managed', 'manner', 'manner,', 'many', 'mark', 'marked', 'marks', 'married', 'marshy', 'marvelling', 'master', 'master,', 'match', 'matter', 'matters,', 'matting', 'may', 'me', 'me,', 'me,\"', 'meals', 'means', 'medium', 'memoirs', 'men', 'menace', 'mentioned', 'mercy', 'message', 'met', 'method', 'methods,', 'middle', 'midnight', 'might', 'might,', 'mile', 'mile,', 'miles', \"milliner's\", 'milliner,', 'mind', 'mines', 'minor', 'minute', 'minutely', 'minutes', \"minutes'\", 'minutes,', 'mischief', 'miserable', 'missing', 'missing,', 'misspent,', 'mistake', 'mistake,\"', 'mistaken', 'mistaken,', 'mixed', 'moment', 'moment,\"', 'money', 'monstrous', 'moor', 'moor,', 'moors', 'more', 'morning', 'morning,', 'most', 'motives', 'mottled', 'much', 'mud', 'murder', 'murdered', 'murderer', 'murmured', 'must', 'mutton', 'mutton,', 'my', 'myself', 'myself,', 'mystery', 'mythical', 'name', 'name,', 'narrative', 'naturally', 'nature', 'near', 'neat', 'necessary', 'neck', 'needed', 'neglect', 'neighboring', 'neighbors', 'neither', 'nervousness', 'net', 'never', 'new', 'news', 'newspaper', 'next', 'nick', 'night', 'night,', 'night-express,\"', 'night-time', 'nine', 'no', 'no,', 'nor', 'north', 'not', 'not,\"', 'note', 'nothing', 'noticed', 'now', 'now,', 'numbers', 'nutshell,', \"o'clock\", 'objections', 'obligations', 'oblige', 'obliged', 'observed', 'obtain', 'obtained', 'obvious', 'obvious,', 'obviously', 'obviously,', 'occasional', 'occasionally', 'occur', 'occurred', 'occurrence', 'odds', 'of', 'off', 'off,', 'off-foreleg', 'offered', 'offered,', 'officer', 'old', 'olds', 'on', 'on,', 'on,\"', 'once', 'one', 'one,', 'only', 'open', 'open;', 'opened', 'opened,', 'operation', 'operations', 'opinion', 'opinion,', 'opium', 'opium,', 'opposite', 'or', 'order', 'ordinary', 'or—\"', 'ostrich-feather', 'other', 'other,', 'others', 'ounce', 'our', 'ourselves', 'out', 'out,', 'out-building', 'out-house', 'outlined', 'outside', 'outside,', 'over', 'over,', 'overbearing', 'overcoat', 'overhanging', 'overlaid', 'overlook', 'overlooked', 'overtaken', 'overtaken,', 'owe', 'own', 'owner', 'owners', 'ownership', 'paces', 'packet', 'paddock,', 'paddock,\"', 'pale,', 'pallor', 'palm', 'panted', 'paper', 'papers', 'papers,', 'parlor', 'part', 'partiality', 'partook', 'party', 'passage,', 'passed', 'passing', 'past', 'path', 'pattering', 'paving', 'peculiarly', 'pencil-case,', 'penetrating', 'people', \"people's\", 'people,', 'perceive', 'perceived', 'perceptible', 'perfect', 'perfectly', 'perhaps', 'perhaps,', 'permission', 'person', 'person,', 'personal', 'perspiration', 'pestered', 'photograph', 'pick', 'picked', 'piece', 'pinching', 'pipe', 'pipe,', 'pits', 'place', 'placed', 'plain', 'plainly', 'play', 'pleased,', 'plethora', 'plot', 'plunged', 'pocket', 'pocket,', \"pocket,'\", 'pockets', 'point', 'pointed', 'pointing', 'points', 'poisoned', 'police', 'police,', 'poor', 'position', 'positive', 'possession', 'possible', 'possible,\"', 'possible;', 'possibly', 'post', 'posts', 'posts,\"', 'pouch', 'pounds', 'poured', 'powdered', 'power', 'powerful', 'powers', 'practice', 'practise', 'precaution', 'preceding', 'prefer', 'presence', 'present', 'presume', 'presume,', 'presuming', 'prettiest', 'pretty', 'preventing', 'price', 'prick', 'pricked', 'prime', 'print', 'prizes', 'probable,\"', 'probably', 'problem', 'proceed', 'procured', 'produce', 'profession', 'progress,\"', 'promise', 'promptly', 'proofs', 'protruding', 'proud', 'public', 'public,', 'puffing', 'pulled', 'pulling', 'pure', 'purely', 'purpose', 'purpose,', 'purse', 'pushed', 'put', 'quaint', 'quality', 'quantity', 'quarter', 'quarter-mile', 'question', 'question,\"', 'questioned', 'questions', 'quickly', 'quiet', 'quietly', 'quite', 'race', 'race,', 'racing', 'radius', 'rags,\"', 'rain', 'rain,', 'rambled', 'ran', 'ran]', 'rapidly', 'rate', 'rather', 'rattling', 'reached', 'read', 'readiness', 'ready', 'real', 'realized', 'really', 'reappeared', 'reason', 'reasoner', 'reasoning', 'recapitulate', 'receipted', 'received', 'receiving', 'recent', 'recharging', 'recognize', 'recognized', 'recognizing,', 'recommend', 'record', 'recovering', 'red', 'red-brick', 'reds', 'regard', 'registered', 'relative', 'remain', 'remained', 'remains', 'remarkable', 'remarked', 'remarked,', 'remarks', 'remarks,', 'remember', 'remove', 'repeated', 'replaced', 'reply', 'reporters', 'reports', 'request', 'rest', 'rested', 'retired', 'return', 'returned', 'returned,', 'reward', 'rheumatism,', 'rich,', 'right', 'right,', 'rim', 'ring', 'rise', 'rising', 'risk', 'rival,', 'road', 'roaming', 'roared', 'rode', 'room', 'rooms,', 'rough', 'round', 'roused', 'route', 'row', 'rubbed', 'ruddy', 'rule', 'run', 'run,\"', 'running', 'running,\"', 'rush,', 'rushed', 'safe', 'said', 'same', 'sane', 'sat', 'satisfied', 'savage', 'saved', 'saving', 'saw', 'say', 'says', 'scene', 'scoured', 'scratched', 'seal-skin', 'search', 'searched', 'seat,', 'seated', 'second', 'secret', 'securing', 'see', 'seeing', 'seem', 'seemed', 'seen', 'seldom', 'self-defence,', 'sell', 'sense', 'sent', 'servant', 'servants,', 'serve', 'served', 'service', 'set', 'setting', 'settle', 'settles', 'seven', 'several', 'shall', 'sharp', 'sharp,', 'shattered', 'she', 'sheep', 'sheep,', 'shield,', 'shoe', 'shoes,', 'shone', 'shook', 'short', 'shorter', 'shorter,', 'shot', 'shot,', 'shot,\"', 'should', 'shoulders', 'shout,', 'shouted,', 'show', 'showed', 'shown', 'shows', 'shrug', 'shrugged', 'shut', 'side', 'side,', 'side-whiskers', 'sifting', 'sign', 'significance', 'signs', 'silence', 'silent', 'silk', 'silver', 'simple', 'simply', 'since', 'single', 'singular', 'sinister', 'sink', 'sir', 'sir,', 'sir,\"', 'sir;', 'sitting', 'sitting-room', 'sitting-room,', 'situated', 'situation', 'six', 'sixty', 'sketch', 'skin', 'sky', 'sky-line,', 'sleep', 'sleepers', 'sleeps', 'sleeve', 'sleeves', 'slept', 'slight', 'sloped,', 'sloping', 'slowly', 'small', 'small,', 'smiled', 'smoke', 'sneak', 'sneer', 'so', 'so,', 'so,\"', 'soft', 'sold', 'some', 'something', 'something,', 'somewhat', 'sorry', 'sound', 'soundest', 'sovereigns', 'sovs', 'sparsely', 'special', 'spirited', 'spirits', 'spite', 'spoke', 'sporting', 'sportsman;', 'spot', 'spot,', 'sprang', 'squandered', 'square', 'stable', 'stable,', 'stable-boy', 'stable-boy,', 'stable-lad', 'stable-lads', 'stables', 'stables,', 'stall', 'stamped', 'stand', 'standing', 'stared', 'start', 'started', 'state', 'stated', 'statement', 'stating', 'station,', 'station—the', 'stay', 'steel', 'steeples', 'step', 'stepped', 'stick', 'stick,', 'still', 'stirring', 'stock,', 'stone', 'stood', 'stop', 'storm', 'storm,', 'straight', 'strain', 'strange', 'stranger', 'stranger,', 'stream', 'stretched', 'stretching', 'stripes', 'stripped', 'strode', 'stroke', 'strong', 'strongest', 'struck', 'struggle', 'struggle,', 'struggles', 'study', 'stupor,', 'subcutaneously,', 'subordinate', 'subtler', 'succumbed', 'such', 'sudden', 'suddenly', 'suffering', 'sufficiently', 'suggested,', 'suggestion', 'suggests', 'suit', 'summer', 'sums', 'sun', 'sunk', 'superb', 'supper', 'supper,', 'suppose', 'supposing', 'supposition', 'supposition,', 'suppressed', 'sure', 'surely', 'surer', 'surgery', 'surmise', 'surmise,', 'surpass', 'surprise', 'surprise,', 'surprised', 'suspicion', 'sweetest', 'swept', 'swinging', 'sworn', 'systematic', 'table', 'tail', 'take', 'taken', 'taking', 'talk', 'tall,', 'tallow', 'task,', 'taste', 'tasteless', 'tastes', 'tastes,\"', 'tear', 'telegrams', 'telegraph', 'tell', 'tells', 'temples', 'ten', 'ten-pound', 'tendon-nicking', 'tendons', 'terrible', 'test', 'than', 'that', 'that,', 'the', 'their', 'them', 'them,', 'themselves', 'then', 'then,', 'theories', 'theorists', 'theory', 'theory,', 'there', 'there,', 'therefore,', 'these', 'they', 'thief', 'thigh', 'thigh,', 'thin', 'thing', 'thing,\"', 'things', 'think', 'think,', 'third', 'third,', 'thirty', 'thirty-seven', 'this', 'this,', 'thoroughbred', 'those', 'though', 'thought', 'thought,', 'thoughts', 'thousand', 'three', 'threw', 'through', 'thrown', 'thrust', 'thumb', 'thunderstruck', 'tilted', 'time', 'tin', 'tinged', 'tip', 'to', 'to-morrow', 'to-morrow,', 'to-night,', 'tobacco,', 'toes', 'together', 'told', 'too', 'too,', 'took', 'topic', 'tossed', 'touch', 'touched', 'touts', 'towards', 'town', 'trace', 'traces', 'track', 'tracks', 'tracks,\"', 'tragedy', 'tragedy,', 'tragic', 'trail,', 'train', 'train,', 'trainer', \"trainer's\", 'trainer,', 'trainers', 'training', 'training-stable', 'training-stables', \"training-stables,'\", 'trampled', 'travelling-cap,', 'treated', 'trembling', 'tricks,', 'tried', 'trifle', 'trim', 'trimming', 'triumph', 'trouble,', 'trudged', 'true', 'trust', 'trying', 'turf', 'turf,', 'turn', 'turned', 'turning', 'turns', 'tweeds,', 'twenty', 'twenty-guinea', 'twice', 'two', 'unable', 'uncommon,', 'undeniable', 'under', 'understand', 'understand,\"', 'understanding', 'undertake', 'undoubtedly', 'uneasy,', 'unfortunate', 'unique', 'unlikely', 'unlocked', 'unloose', 'unofficial', 'unravelled', 'unthinkable', 'until', 'unturned', 'unworthy', 'up', 'up,\"', 'upon', 'upset', 'upstairs', 'up—with', 'us', 'us,', 'use', 'used', 'usual,', 'utterly', 'vaguely', 'value', 'very', 'vesta', 'vestas,', 'view', 'vigorously', 'villa', 'villas', 'violent', 'violently', 'visible', 'visible,', 'visited', 'visitor', 'voices', 'volunteered', 'wagged', 'waistcoat', 'wait', 'waited', 'waiting', 'waking', 'walk', 'walk,', 'walked', 'walking', 'wandering', 'want', 'wanted', 'wants', 'warned', 'was', 'was,', 'wash', 'wasted', 'watch', 'watching', 'watchman', 'water-tap', 'watered', 'waving', 'wax', 'way', 'way,', 'way,\"', 'ways', 'ways,', 'we', 'weapon', 'weapon,', 'weighing', 'weighing-chair', 'weighted', 'weights', 'well', 'well,', 'well,\"', 'well-known', 'went', 'were', 'west,', 'westward', 'wet', 'what', 'whatever', 'when', 'where', 'whether', 'which', 'which,', 'while', 'whirled', 'whispered', 'whistled,', 'white', 'who', 'whole', 'whom', 'why', 'wide', 'wife', 'wife,', 'wild', 'wilderness,', 'will', 'win', 'winced', 'wind', 'window', 'window,', 'wine,', 'winning', 'wire', 'wish', 'wished', 'with', 'with,\"', 'within', 'without', 'woman', 'woman,', 'women', \"won't\", 'wonder', 'wonders', 'wood', 'word', 'word,\"', 'words', 'wore', 'wore,', 'work', 'work,', 'working', 'world,', 'worn', 'worth', 'would', 'wound', 'wounded', 'write', 'yards', 'year', 'year,', 'years', 'years,', 'yellow', 'yesterday', 'yesterday,', 'yet', 'yet,', 'yet,\"', 'yonder,', 'you', \"you're\", 'you,', 'young', 'your', 'yourself', 'zealous', '£200', '£300']\n"
     ]
    }
   ],
   "source": [
    "tokens= re.split(r'([.!?:()]|\\s)', raw_text)\n",
    "tokens=[item for item in tokens if item.split()]\n",
    "tokens = sorted( list(set(tokens)))\n",
    "print(tokens)"
   ]
  },
  {
   "cell_type": "code",
   "execution_count": 16,
   "id": "75458ceb",
   "metadata": {},
   "outputs": [
    {
     "data": {
      "text/plain": [
       "2451"
      ]
     },
     "execution_count": 16,
     "metadata": {},
     "output_type": "execute_result"
    }
   ],
   "source": [
    "len(tokens)"
   ]
  },
  {
   "cell_type": "code",
   "execution_count": null,
   "id": "bcf79c10",
   "metadata": {},
   "outputs": [],
   "source": []
  }
 ],
 "metadata": {
  "kernelspec": {
   "display_name": "Python 3",
   "language": "python",
   "name": "python3"
  },
  "language_info": {
   "codemirror_mode": {
    "name": "ipython",
    "version": 3
   },
   "file_extension": ".py",
   "mimetype": "text/x-python",
   "name": "python",
   "nbconvert_exporter": "python",
   "pygments_lexer": "ipython3",
   "version": "3.12.3"
  }
 },
 "nbformat": 4,
 "nbformat_minor": 5
}
