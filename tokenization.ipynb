{
 "cells": [
  {
   "cell_type": "markdown",
   "id": "f592fbb0",
   "metadata": {},
   "source": [
    "# Tokenization\n",
    "\n",
    "_Tokenization_ is the process of converting a body of text into individual _tokens_, e.g., words and punctuation characters. This is the first step for most Natural Language Processing (NLP) tasks, including preparing data for training an LLM. Let's see how it's done!"
   ]
  },
  {
   "cell_type": "markdown",
   "id": "09f17e49",
   "metadata": {},
   "source": [
    "## Some sample text"
   ]
  },
  {
   "cell_type": "code",
   "execution_count": 65,
   "id": "4bc42f87",
   "metadata": {},
   "outputs": [
    {
     "name": "stdout",
     "output_type": "stream",
     "text": [
      "This is a test! Or is this not a test? Test it to be sure. :)\n",
      "This sample text has 61 characters.\n"
     ]
    }
   ],
   "source": [
    "text = \"This is a test! Or is this not a test? Test it to be sure. :)\"\n",
    "print(text)\n",
    "print(f\"This sample text has {len(text)} characters.\")"
   ]
  },
  {
   "cell_type": "code",
   "execution_count": 66,
   "id": "e87c5517",
   "metadata": {},
   "outputs": [
    {
     "name": "stdout",
     "output_type": "stream",
     "text": [
      "['This', 'is', 'a', 'test!', 'Or', 'is', 'this', 'not', 'a', 'test?', 'Test', 'it', 'to', 'be', 'sure.', ':)']\n"
     ]
    }
   ],
   "source": [
    "print(text.split())"
   ]
  },
  {
   "cell_type": "code",
   "execution_count": 67,
   "id": "0a50333c",
   "metadata": {},
   "outputs": [
    {
     "name": "stdout",
     "output_type": "stream",
     "text": [
      "\u001b[0;31mSignature:\u001b[0m \u001b[0mstr\u001b[0m\u001b[0;34m.\u001b[0m\u001b[0msplit\u001b[0m\u001b[0;34m(\u001b[0m\u001b[0mself\u001b[0m\u001b[0;34m,\u001b[0m \u001b[0;34m/\u001b[0m\u001b[0;34m,\u001b[0m \u001b[0msep\u001b[0m\u001b[0;34m=\u001b[0m\u001b[0;32mNone\u001b[0m\u001b[0;34m,\u001b[0m \u001b[0mmaxsplit\u001b[0m\u001b[0;34m=\u001b[0m\u001b[0;34m-\u001b[0m\u001b[0;36m1\u001b[0m\u001b[0;34m)\u001b[0m\u001b[0;34m\u001b[0m\u001b[0;34m\u001b[0m\u001b[0m\n",
      "\u001b[0;31mDocstring:\u001b[0m\n",
      "Return a list of the substrings in the string, using sep as the separator string.\n",
      "\n",
      "  sep\n",
      "    The separator used to split the string.\n",
      "\n",
      "    When set to None (the default value), will split on any whitespace\n",
      "    character (including \\n \\r \\t \\f and spaces) and will discard\n",
      "    empty strings from the result.\n",
      "  maxsplit\n",
      "    Maximum number of splits.\n",
      "    -1 (the default value) means no limit.\n",
      "\n",
      "Splitting starts at the front of the string and works to the end.\n",
      "\n",
      "Note, str.split() is mainly useful for data that has been intentionally\n",
      "delimited.  With natural text that includes punctuation, consider using\n",
      "the regular expression module.\n",
      "\u001b[0;31mType:\u001b[0m      method_descriptor"
     ]
    }
   ],
   "source": [
    "str.split?"
   ]
  },
  {
   "cell_type": "code",
   "execution_count": 68,
   "id": "f7f76f65",
   "metadata": {},
   "outputs": [],
   "source": [
    "import re"
   ]
  },
  {
   "cell_type": "code",
   "execution_count": 69,
   "id": "1d09bdde",
   "metadata": {},
   "outputs": [
    {
     "name": "stdout",
     "output_type": "stream",
     "text": [
      "['!', ')', '.', ':', '?', 'Or', 'Test', 'This', 'a', 'be', 'is', 'it', 'not', 'sure', 'test', 'this', 'to']\n"
     ]
    }
   ],
   "source": [
    "tokens= re.split(r'([.!?:()]|\\s)', text)\n",
    "tokens=[item for item in tokens if item.split()]\n",
    "tokens = sorted( list(set(tokens)))\n",
    "print(tokens)"
   ]
  },
  {
   "cell_type": "code",
   "execution_count": 70,
   "id": "da7940e7",
   "metadata": {},
   "outputs": [
    {
     "name": "stdout",
     "output_type": "stream",
     "text": [
      "dict_items([('!', 0), (')', 1), ('.', 2), (':', 3), ('?', 4), ('Or', 5), ('Test', 6), ('This', 7), ('a', 8), ('be', 9), ('is', 10), ('it', 11), ('not', 12), ('sure', 13), ('test', 14), ('this', 15), ('to', 16)])\n"
     ]
    }
   ],
   "source": [
    "vocab= {token:index for index, token in enumerate( tokens)}\n",
    "print(vocab.items())"
   ]
  },
  {
   "cell_type": "code",
   "execution_count": 71,
   "id": "2fc55eb4",
   "metadata": {},
   "outputs": [
    {
     "name": "stdout",
     "output_type": "stream",
     "text": [
      "SILVER BLAZE\n",
      "\n",
      "\"I AM afraid, Watson, that I shall have to go,\" said Holmes, as we sat down together t\n"
     ]
    }
   ],
   "source": [
    "with open(\"SILVERBLAZE.txt\", \"r\") as f:\n",
    "    raw_text= f.read()\n",
    "print(raw_text[:100])"
   ]
  },
  {
   "cell_type": "code",
   "execution_count": 72,
   "id": "3cc596b3",
   "metadata": {},
   "outputs": [
    {
     "name": "stdout",
     "output_type": "stream",
     "text": [
      "11564\n"
     ]
    }
   ],
   "source": [
    "tokens= re.split(r'([.,!?:()\\'“”\"]|\\s)', raw_text)\n",
    "tokens=[item for item in tokens if item.split()]\n",
    "tokens.extend([\"<|unk|>\", \"<|endoftext|>\"])\n",
    "print(len(tokens))\n"
   ]
  },
  {
   "cell_type": "code",
   "execution_count": 73,
   "id": "43efcfe0",
   "metadata": {},
   "outputs": [
    {
     "name": "stdout",
     "output_type": "stream",
     "text": [
      "2075\n"
     ]
    }
   ],
   "source": [
    "tokens = sorted( list(set(tokens)))\n",
    "print(len(tokens))"
   ]
  },
  {
   "cell_type": "code",
   "execution_count": 74,
   "id": "75458ceb",
   "metadata": {},
   "outputs": [
    {
     "name": "stdout",
     "output_type": "stream",
     "text": [
      "['!', '\"', '&', \"'\", '(', ')', ',', '.', '1000', '50', '<|endoftext|>', '<|unk|>', '?', 'A', 'AM', 'About', 'Above', 'Afterwards', 'Again', 'Ah']\n"
     ]
    }
   ],
   "source": [
    "print(tokens[:20])"
   ]
  },
  {
   "cell_type": "code",
   "execution_count": 75,
   "id": "bcf79c10",
   "metadata": {},
   "outputs": [
    {
     "data": {
      "text/plain": [
       "dict_items([('!', 0), ('\"', 1), ('&', 2), (\"'\", 3), ('(', 4), (')', 5), (',', 6), ('.', 7), ('1000', 8), ('50', 9), ('<|endoftext|>', 10), ('<|unk|>', 11), ('?', 12), ('A', 13), ('AM', 14), ('About', 15), ('Above', 16), ('Afterwards', 17), ('Again', 18), ('Ah', 19), ('All', 20), ('An', 21), ('And', 22), ('As', 23), ('At', 24), ('BLAZE', 25), ('Backwater', 26), ('Balmoral', 27), ('Baxter', 28), ('Bayard', 29), ('Be', 30), ('Because', 31), ('Before', 32), ('Black', 33), ('Blaze', 34), ('Bless', 35), ('Blue', 36), ('Bond', 37), ('Brown', 38), ('But', 39), ('By', 40), ('Can', 41), ('Capital', 42), ('Cavendish', 43), ('Certainly', 44), ('Chronicle', 45), ('Cinnamon', 46), ('Clapham', 47), ('Co', 48), ('Colonel', 49), ('Cup', 50), ('Cup—Silver', 51), ('D', 52), ('Dartmoor', 53), ('Dartmoor;', 54), ('Dawson', 55), ('Dear', 56), ('Derbyshire', 57), ('Desborough', 58), ('Devonshire', 59), ('Did', 60), ('Do', 61), ('Don', 62), ('Dr', 63), ('Drive', 64), ('Duke', 65), ('Edith', 66), ('England', 67), ('English', 68), ('Every', 69), ('Exceedingly', 70), ('Excellent', 71), ('Excuse', 72), ('Exeter', 73), ('Finally', 74), ('Fitzroy', 75), ('Five', 76), ('For', 77), ('Four', 78), ('Fresh', 79), ('From', 80), ('Go', 81), ('Good-evening', 82), ('Gregory', 83), ('Has', 84), ('Have', 85), ('He', 86), ('Heath', 87), ('Her', 88), ('Here', 89), ('His', 90), ('Holmes', 91), ('How', 92), ('However', 93), ('Hullo', 94), ('Hum', 95), ('Hunter', 96), ('I', 97), ('If', 98), ('Immediately', 99), ('In', 100), ('Indeed', 101), ('Inspector', 102), ('Iris', 103), ('Is', 104), ('It', 105), ('John', 106), ('Junction', 107), ('King', 108), ('Lesurier', 109), ('Let', 110), ('Liberal', 111), ('London', 112), ('Lord', 113), ('Madame', 114), ('Mapleton', 115), ('Master', 116), ('Might', 117), ('Monday', 118), ('Mr', 119), ('Mrs', 120), ('My', 121), ('Ned', 122), ('Negro', 123), ('Never', 124), ('New', 125), ('Newton', 126), ('No', 127), ('None;', 128), ('Nor', 129), ('Not', 130), ('Nothing', 131), ('Now', 132), ('Obviously', 133), ('Of', 134), ('Oh', 135), ('On', 136), ('Once', 137), ('One', 138), ('Only', 139), ('Our', 140), ('P', 141), ('Paddington', 142), ('Penang-lawyer', 143), ('Perhaps', 144), ('Pink', 145), ('Plate', 146), ('Plymouth', 147), ('Powdered', 148), ('Pugilist', 149), ('Pullman', 150), ('Purple', 151), ('Pyland', 152), ('Quite', 153), ('Rasper', 154), ('Reading', 155), ('Red', 156), ('Ross', 157), ('SILVER', 158), ('Say', 159), ('Scoundrel', 160), ('Second', 161), ('See', 162), ('Shall', 163), ('She', 164), ('Sherlock', 165), ('Should', 166), ('Silas', 167), ('Silver', 168), ('Simpson', 169), ('Singleford', 170), ('So', 171), ('Some', 172), ('Somebody', 173), ('Sometimes', 174), ('Somomy', 175), ('Straker', 176), ('Street', 177), ('Such', 178), ('Surely', 179), ('Tavistock', 180), ('Telegraph', 181), ('Ten', 182), ('That', 183), ('The', 184), ('Then', 185), ('There', 186), ('Therefore', 187), ('These', 188), ('They', 189), ('Third', 190), ('This', 191), ('Those', 192), ('Though', 193), ('Three', 194), ('Thursday', 195), ('To', 196), ('Tuesday', 197), ('Twenty-two', 198), ('Two', 199), ('Under', 200), ('Undoubtedly', 201), ('Up', 202), ('Very', 203), ('Victoria', 204), ('Villain', 205), ('Wardlaw', 206), ('Watson', 207), ('Watson;', 208), ('Watson—which', 209), ('We', 210), ('Weiss', 211), ('Well', 212), ('Were', 213), ('Wessex', 214), ('What', 215), ('When', 216), ('Where', 217), ('Which', 218), ('Who', 219), ('Why', 220), ('William', 221), ('Winchester', 222), ('Wonderful', 223), ('Yellow', 224), ('Yes', 225), ('Yes;', 226), ('Yet', 227), ('You', 228), ('Your', 229), ('[it', 230), ('a', 231), ('abductor', 232), ('ability', 233), ('about', 234), ('above', 235), ('absentees', 236), ('absolute', 237), ('absolutely', 238), ('absorbed', 239), ('abundant', 240), ('access', 241), ('according', 242), ('account', 243), ('account;', 244), ('accounts', 245), ('accused', 246), ('accustomed', 247), ('acknowledges', 248), ('acquiring', 249), ('across', 250), ('acted', 251), ('action', 252), ('actions', 253), ('add', 254), ('added', 255), ('address', 256), ('addressed', 257), ('admittance', 258), ('advantage', 259), ('advice', 260), ('affair', 261), ('afraid', 262), ('after', 263), ('again', 264), ('against', 265), ('age', 266), ('agent', 267), ('agents', 268), ('agitation', 269), ('ago', 270), ('air', 271), ('alert', 272), ('alighted', 273), ('all', 274), ('almost', 275), ('alone', 276), ('along', 277), ('already', 278), ('also', 279), ('although', 280), ('altogether', 281), ('aluminum', 282), ('always', 283), ('am', 284), ('amazement', 285), ('amiss', 286), ('amnesty', 287), ('among', 288), ('amount', 289), ('amusement', 290), ('an', 291), ('analysis', 292), ('ancestor', 293), ('and', 294), ('angrily', 295), ('angry', 296), ('animals', 297), ('announced', 298), ('annoyance', 299), ('another', 300), ('answer', 301), ('answered', 302), ('anticipate', 303), ('anxiety', 304), ('any', 305), ('anyhow', 306), ('anything', 307), ('apart', 308), ('apologies', 309), ('apology', 310), ('apparently', 311), ('appeared', 312), ('appears', 313), ('apple', 314), ('appointment', 315), ('appreciable', 316), ('appreciated', 317), ('approached', 318), ('are', 319), ('argue', 320), ('arm', 321), ('armed', 322), ('arms', 323), ('arouse', 324), ('aroused', 325), ('arrest', 326), ('arrested', 327), ('arresting', 328), ('arrival', 329), ('art', 330), ('as', 331), ('ascending', 332), ('ashy', 333), ('aside', 334), ('ask', 335), ('asked', 336), ('asphalt', 337), ('assailants', 338), ('associated', 339), ('assurance', 340), ('assure', 341), ('astonishment', 342), ('astute', 343), ('at', 344), ('attempt', 345), ('attends', 346), ('attention', 347), ('avenge', 348), ('awaiting', 349), ('away', 350), ('awoke', 351), ('back', 352), ('bad', 353), ('bag', 354), ('baldly', 355), ('bank', 356), ('barked', 357), ('basis', 358), ('bay', 359), ('be', 360), ('beads', 361), ('bear', 362), ('beard', 363), ('bearing', 364), ('beast', 365), ('beat', 366), ('beautiful', 367), ('became', 368), ('because', 369), ('become', 370), ('becomes', 371), ('been', 372), ('before', 373), ('beg', 374), ('begged', 375), ('beginning', 376), ('begun', 377), ('behind', 378), ('being', 379), ('believe', 380), ('bell', 381), ('belongings', 382), ('belongs', 383), ('beside', 384), ('best', 385), ('bets', 386), ('better', 387), ('betting', 388), ('betting-book', 389), ('between', 390), ('beyond', 391), ('bill', 392), ('bills', 393), ('birth', 394), ('black', 395), ('blade', 396), ('blind', 397), ('blood', 398), ('blood-stains', 399), ('blow', 400), ('blown', 401), ('blows', 402), ('blue', 403), ('blunder', 404), ('bluntly', 405), ('bluster', 406), ('body', 407), ('bolt', 408), ('bolted', 409), ('book-making', 410), ('boots', 411), ('bore', 412), ('boss', 413), ('both', 414), ('bottom', 415), ('bound', 416), ('bowed', 417), ('bowl-shaped', 418), ('box', 419), ('boy', 420), ('brain', 421), ('brains', 422), ('brambles', 423), ('branch', 424), ('breadth', 425), ('breakfast', 426), ('breath', 427), ('bridle', 428), ('brier-root', 429), ('brilliant', 430), ('brilliantly', 431), ('bringing', 432), ('brink', 433), ('briskly', 434), ('broke', 435), ('broken', 436), ('bronze-colored', 437), ('brooding', 438), ('brought', 439), ('brow', 440), ('browns', 441), ('brows', 442), ('buildings', 443), ('built', 444), ('bully', 445), ('bullying', 446), ('bundle', 447), ('buried', 448), ('burned', 449), ('burst', 450), ('bush', 451), ('bushes', 452), ('business', 453), ('but', 454), ('buy', 455), ('by', 456), ('calculation', 457), ('call', 458), ('called', 459), ('calling', 460), ('came', 461), ('can', 462), ('candle', 463), ('cannot', 464), ('cantered', 465), ('cap', 466), ('car', 467), ('card', 468), ('care', 469), ('cared', 470), ('careful', 471), ('carefully', 472), ('carpet', 473), ('carriage', 474), ('carried', 475), ('carry', 476), ('carrying', 477), ('case', 478), ('cases', 479), ('cast', 480), ('cataract', 481), ('catastrophe', 482), ('catch', 483), ('caught', 484), ('caused', 485), ('cavalier', 486), ('ceased', 487), ('central', 488), ('centres', 489), ('certain', 490), ('certainly', 491), ('chaff-cutting', 492), ('chain', 493), ('chair', 494), ('challenge', 495), ('chance', 496), ('change', 497), ('characteristic', 498), ('characters', 499), ('charge', 500), ('charging', 501), ('charming', 502), ('checking', 503), ('chemist', 504), ('chest', 505), ('child', 506), ('children', 507), ('chin', 508), ('chip', 509), ('choose', 510), ('chosen', 511), ('chuckled', 512), ('cigar', 513), ('cigar-case', 514), ('circle', 515), ('circumstantial', 516), ('city', 517), ('clambered', 518), ('clasped', 519), ('clean', 520), ('clear', 521), ('clearness', 522), ('clears', 523), ('clever', 524), ('clock', 525), ('close', 526), ('closed', 527), ('cloth', 528), ('clothing', 529), ('clotted', 530), ('clubs', 531), ('clue', 532), ('cluster', 533), ('co-operation', 534), ('coachman', 535), ('coat', 536), ('coated', 537), ('coincidence', 538), ('cold', 539), ('colors', 540), ('come', 541), ('comfortable', 542), ('comfortably', 543), ('coming', 544), ('committed', 545), ('common', 546), ('companion', 547), ('company', 548), ('compared', 549), ('competent', 550), ('complete', 551), ('compound', 552), ('concealed', 553), ('concluded', 554), ('conclusion', 555), ('confer', 556), ('confess', 557), ('confidence', 558), ('confine', 559), ('confronted', 560), ('conjecture', 561), ('connect', 562), ('connection', 563), ('consider', 564), ('consisted', 565), ('consultant', 566), ('contain', 567), ('containing', 568), ('contents', 569), ('continued', 570), ('contractor', 571), ('contrary', 572), ('conversation', 573), ('conviction', 574), ('convinced', 575), ('convulsive', 576), ('cork', 577), ('corner', 578), ('correct', 579), ('corresponded', 580), ('costume', 581), ('could', 582), ('counsel', 583), ('country', 584), ('course', 585), ('covered', 586), ('coward', 587), ('cravat', 588), ('crawled', 589), ('creature', 590), ('cried', 591), ('crime', 592), ('cringed', 593), ('crossed', 594), ('culprit', 595), ('curious', 596), ('curiously', 597), ('curled', 598), ('curried', 599), ('curry', 600), ('curve', 601), ('curves', 602), ('cushions', 603), ('custom', 604), ('customer', 605), ('cut', 606), ('damned', 607), ('dapper', 608), ('dared', 609), ('dark', 610), ('darkness', 611), ('dashing', 612), ('day', 613), ('day-dreaming', 614), ('days', 615), ('dead', 616), ('deaf', 617), ('deal', 618), ('dear', 619), ('death', 620), ('debt', 621), ('deciding', 622), ('decision', 623), ('declared', 624), ('declares', 625), ('deepening', 626), ('deepest', 627), ('defence', 628), ('defended', 629), ('defer', 630), ('delicate', 631), ('delighted', 632), ('deny', 633), ('depression', 634), ('deprived', 635), ('descending', 636), ('described', 637), ('designs', 638), ('despair', 639), ('detach', 640), ('detail', 641), ('details', 642), ('detect', 643), ('detective', 644), ('detectives', 645), ('develop', 646), ('development', 647), ('developments', 648), ('devil', 649), ('devised', 650), ('devote', 651), ('dialogue', 652), ('did', 653), ('didn', 654), ('difficulties', 655), ('difficulty', 656), ('dipped', 657), ('direction', 658), ('disagreeable', 659), ('disappearance', 660), ('disappeared', 661), ('disappears', 662), ('disappointed', 663), ('discover', 664), ('disguise', 665), ('dish', 666), ('dishonest', 667), ('disk', 668), ('disposal', 669), ('dispose', 670), ('disregarding', 671), ('distance', 672), ('distant', 673), ('distrait', 674), ('district', 675), ('do', 676), ('dodge', 677), ('does', 678), ('dog', 679), ('doing', 680), ('don', 681), ('done', 682), ('door', 683), ('double', 684), ('doubt', 685), ('doubted', 686), ('dove-colored', 687), ('down', 688), ('drag', 689), ('drama', 690), ('draw', 691), ('drawn', 692), ('dress', 693), ('dressed', 694), ('dresses', 695), ('dressing', 696), ('dressing-table', 697), ('drew', 698), ('drink', 699), ('drive', 700), ('driver', 701), ('dropped', 702), ('drove', 703), ('drug', 704), ('drugged', 705), ('dry', 706), ('duplicate', 707), ('during', 708), ('duty', 709), ('each', 710), ('eager', 711), ('ear', 712), ('ear-flapped', 713), ('early', 714), ('earn', 715), ('earnestness', 716), ('ears', 717), ('earth', 718), ('easily', 719), ('eat', 720), ('eater', 721), ('eaves', 722), ('editions', 723), ('education', 724), ('effect', 725), ('effects', 726), ('either', 727), ('elderly', 728), ('element', 729), ('eliminated', 730), ('else', 731), ('embellishments', 732), ('emerged', 733), ('empty', 734), ('en', 735), ('encamped', 736), ('enclosure', 737), ('ended', 738), ('enjoy', 739), ('enormous', 740), ('enough', 741), ('ensued', 742), ('entered', 743), ('entirely', 744), ('entreaties', 745), ('entries', 746), ('enumerate', 747), ('envelope', 748), ('epidemic', 749), ('equally', 750), ('erroneous', 751), ('especially', 752), ('essential', 753), ('established', 754), ('establishment', 755), ('even', 756), ('evening', 757), ('event', 758), ('events', 759), ('ever', 760), ('every', 761), ('everything', 762), ('evidence', 763), ('evidently', 764), ('exactly', 765), ('examination', 766), ('examined', 767), ('examining', 768), ('excellent', 769), ('exception', 770), ('excited', 771), ('excitement', 772), ('exclaimed', 773), ('exercise', 774), ('exercised', 775), ('expect', 776), ('expected', 777), ('expedition', 778), ('expense', 779), ('expensive', 780), ('experience', 781), ('explained', 782), ('explanation', 783), ('explanations', 784), ('expression', 785), ('extraordinary', 786), ('extreme', 787), ('extremely', 788), ('eye', 789), ('eye-glass', 790), ('eyes', 791), ('eyes;', 792), ('face', 793), ('fact', 794), ('factor', 795), ('facts', 796), ('fact—from', 797), ('fact—of', 798), ('faded', 799), ('fading', 800), ('fail', 801), ('failed', 802), ('fails', 803), ('fair', 804), ('fakir', 805), ('fall', 806), ('falls', 807), ('familiar', 808), ('family', 809), ('famous', 810), ('fancy', 811), ('far', 812), ('fatal', 813), ('favor', 814), ('favorite', 815), ('feel', 816), ('feeling', 817), ('feet', 818), ('fell', 819), ('fellow', 820), ('fellow-grooms', 821), ('felt', 822), ('ferns', 823), ('fetched', 824), ('few', 825), ('field', 826), ('field-glass', 827), ('fierce-looking', 828), ('fifteen', 829), ('fifth', 830), ('fifty', 831), ('fifty-three', 832), ('filed', 833), ('fill', 834), ('final', 835), ('find', 836), ('finding', 837), ('finger', 838), ('finished', 839), ('first', 840), ('first-class', 841), ('first-hand', 842), ('fit', 843), ('fitted', 844), ('fitting', 845), ('five', 846), ('fixed', 847), ('flag', 848), ('flapping', 849), ('flavor', 850), ('fled', 851), ('flight', 852), ('flushed', 853), ('flying', 854), ('folded', 855), ('follow', 856), ('followed', 857), ('for', 858), ('forcibly', 859), ('forefinger', 860), ('forehead', 861), ('foretold', 862), ('forgotten', 863), ('form', 864), ('formed', 865), ('formidable', 866), ('formulating', 867), ('fortunate', 868), ('fortune', 869), ('forward', 870), ('foul', 871), ('found', 872), ('four', 873), ('framed', 874), ('framework', 875), ('fraud', 876), ('fresh', 877), ('friend', 878), ('friends', 879), ('frightened', 880), ('frock', 881), ('frock-coat', 882), ('from', 883), ('front', 884), ('ft', 885), ('full', 886), ('furlongs', 887), ('further', 888), ('furze-bush', 889), ('gadabout', 890), ('gain', 891), ('gaiters', 892), ('garden-party', 893), ('gashed', 894), ('gasped', 895), ('gate', 896), ('gates', 897), ('gave', 898), ('gazed', 899), ('general', 900), ('genteel', 901), ('gentlemanly', 902), ('gentlemen', 903), ('get', 904), ('gets', 905), ('getting', 906), ('gifted', 907), ('girl', 908), ('give', 909), ('given', 910), ('glad', 911), ('glanced', 912), ('glancing', 913), ('glare', 914), ('gleam', 915), ('glories', 916), ('glossy', 917), ('go', 918), ('goes', 919), ('going', 920), ('gold', 921), ('gone', 922), ('good', 923), ('gossiping', 924), ('got', 925), ('grand', 926), ('grasp', 927), ('grasped', 928), ('grave', 929), ('gray', 930), ('gray-tiled', 931), ('grays', 932), ('great', 933), ('greater', 934), ('greatest', 935), ('gregarious', 936), ('grip', 937), ('groom', 938), ('ground', 939), ('grows', 940), ('guard', 941), ('guarded', 942), ('guilt', 943), ('guineas', 944), ('gypsies', 945), ('h', 946), ('had', 947), ('haggard', 948), ('hair', 949), ('half', 950), ('half-crown', 951), ('ham', 952), ('hand', 953), ('handed', 954), ('handle', 955), ('hands', 956), ('happened', 957), ('happy', 958), ('hard', 959), ('hardly', 960), ('harness-room', 961), ('has', 962), ('hastily', 963), ('hat', 964), ('have', 965), ('having', 966), ('hay-dealers', 967), ('he', 968), ('he;', 969), ('head', 970), ('heap', 971), ('hear', 972), ('heard', 973), ('hearing', 974), ('heavy', 975), ('heel', 976), ('heels', 977), ('heights', 978), ('held', 979), ('help', 980), ('helps', 981), ('her', 982), ('here', 983), ('herself', 984), ('hide', 985), ('hiding-place', 986), ('him', 987), ('himself', 988), ('his', 989), ('holds', 990), ('hollow', 991), ('home', 992), ('honest', 993), ('hope', 994), ('hoped', 995), ('hopes', 996), ('horror', 997), ('horse', 998), ('horse-fakir', 999), ('horses', 1000), ('horseshoe', 1001), ('hound', 1002), ('hour', 1003), ('hours', 1004), ('house', 1005), ('houses', 1006), ('how', 1007), ('however', 1008), ('huddled', 1009), ('huge', 1010), ('hundred', 1011), ('hung', 1012), ('hunting-crop', 1013), ('hurled', 1014), ('husband', 1015), ('hypothesis', 1016), ('idea', 1017), ('if', 1018), ('ill', 1019), ('imagination', 1020), ('imagine', 1021), ('imagined', 1022), ('immediately', 1023), ('immense', 1024), ('impatience', 1025), ('impertinence', 1026), ('imperturbably', 1027), ('import', 1028), ('importance', 1029), ('important', 1030), ('impress', 1031), ('impressed', 1032), ('impression', 1033), ('impressions', 1034), ('improbable', 1035), ('impulse', 1036), ('in', 1037), ('inches', 1038), ('incident', 1039), ('incised', 1040), ('inclined', 1041), ('incomprehensible', 1042), ('indeed', 1043), ('indications', 1044), ('inference', 1045), ('inferences', 1046), ('infernal', 1047), ('infinitely', 1048), ('inflexible', 1049), ('inflicted', 1050), ('influence', 1051), ('information', 1052), ('inhabited', 1053), ('injure', 1054), ('injuries', 1055), ('injuring', 1056), ('injury', 1057), ('inquest', 1058), ('inquiries', 1059), ('inside', 1060), ('instant', 1061), ('instinct', 1062), ('instincts', 1063), ('instructions', 1064), ('instrument', 1065), ('insult', 1066), ('intended', 1067), ('intention', 1068), ('interest', 1069), ('interests', 1070), ('interjection', 1071), ('into', 1072), ('introduced', 1073), ('invalids', 1074), ('invariably', 1075), ('inventory', 1076), ('investigation', 1077), ('invisible', 1078), ('inviting', 1079), ('is', 1080), ('it', 1081), ('its', 1082), ('itself', 1083), ('ivory-handled', 1084), ('jacket', 1085), ('jockey', 1086), ('joke', 1087), ('journey', 1088), ('jury', 1089), ('just', 1090), ('justified', 1091), ('keenly', 1092), ('keep', 1093), ('keeping', 1094), ('keeps', 1095), ('kept', 1096), ('key', 1097), ('kidnap', 1098), ('kidnapping', 1099), ('killed', 1100), ('kitchen', 1101), ('knew', 1102), ('knife', 1103), ('knitted', 1104), ('knob', 1105), ('knoll', 1106), ('know', 1107), ('knowing', 1108), ('known', 1109), ('knows', 1110), ('lacks', 1111), ('lad', 1112), ('ladies', 1113), ('lads', 1114), ('lads;', 1115), ('lady', 1116), ('laid', 1117), ('lain', 1118), ('lame', 1119), ('lameness', 1120), ('landau', 1121), ('landscape', 1122), ('lantern', 1123), ('large', 1124), ('larger', 1125), ('lashed', 1126), ('last', 1127), ('late', 1128), ('later', 1129), ('latter', 1130), ('laughed', 1131), ('laughing', 1132), ('lay', 1133), ('laying', 1134), ('lead', 1135), ('leading', 1136), ('leads', 1137), ('lean', 1138), ('leaned', 1139), ('leaning', 1140), ('learn', 1141), ('least', 1142), ('leave', 1143), ('led', 1144), ('left', 1145), ('leg', 1146), ('length', 1147), ('lengths', 1148), ('lengthy', 1149), ('less', 1150), ('lessen', 1151), ('let', 1152), ('letter', 1153), ('letters', 1154), ('liberty', 1155), ('lie', 1156), ('lies', 1157), ('life', 1158), ('lifting', 1159), ('light', 1160), ('light;', 1161), ('like', 1162), ('likely', 1163), ('line', 1164), ('link', 1165), ('lion-like', 1166), ('lip', 1167), ('liquid', 1168), ('listened', 1169), ('little', 1170), ('lived', 1171), ('ll', 1172), ('locked', 1173), ('lodged', 1174), ('loft', 1175), ('loiterers', 1176), ('lonely', 1177), ('long', 1178), ('long-cut', 1179), ('look', 1180), ('looked', 1181), ('looking', 1182), ('looks', 1183), ('loser', 1184), ('loss', 1185), ('lost', 1186), ('low', 1187), ('luck', 1188), ('mackintosh', 1189), ('made', 1190), ('maid', 1191), ('maid-servant', 1192), ('main', 1193), ('make', 1194), ('making', 1195), ('man', 1196), ('managed', 1197), ('manner', 1198), ('many', 1199), ('mark', 1200), ('marked', 1201), ('marks', 1202), ('married', 1203), ('marshy', 1204), ('marvelling', 1205), ('master', 1206), ('match', 1207), ('matter', 1208), ('matters', 1209), ('matting', 1210), ('may', 1211), ('me', 1212), ('meals', 1213), ('means', 1214), ('medium', 1215), ('memoirs', 1216), ('men', 1217), ('menace', 1218), ('mentioned', 1219), ('mercy', 1220), ('message', 1221), ('met', 1222), ('method', 1223), ('methods', 1224), ('middle', 1225), ('midnight', 1226), ('might', 1227), ('mile', 1228), ('miles', 1229), ('milliner', 1230), ('mind', 1231), ('mines', 1232), ('minor', 1233), ('minute', 1234), ('minutely', 1235), ('minutes', 1236), ('mischief', 1237), ('miserable', 1238), ('missing', 1239), ('misspent', 1240), ('mistake', 1241), ('mistaken', 1242), ('mixed', 1243), ('moment', 1244), ('money', 1245), ('monstrous', 1246), ('moor', 1247), ('moors', 1248), ('more', 1249), ('morning', 1250), ('most', 1251), ('motives', 1252), ('mottled', 1253), ('much', 1254), ('mud', 1255), ('murder', 1256), ('murdered', 1257), ('murderer', 1258), ('murmured', 1259), ('must', 1260), ('mutton', 1261), ('my', 1262), ('myself', 1263), ('mystery', 1264), ('mythical', 1265), ('name', 1266), ('narrative', 1267), ('naturally', 1268), ('nature', 1269), ('near', 1270), ('neat', 1271), ('necessary', 1272), ('neck', 1273), ('needed', 1274), ('neglect', 1275), ('neighboring', 1276), ('neighbors', 1277), ('neither', 1278), ('nervousness', 1279), ('net', 1280), ('never', 1281), ('new', 1282), ('news', 1283), ('newspaper', 1284), ('next', 1285), ('nick', 1286), ('night', 1287), ('night-express', 1288), ('night-time', 1289), ('nine', 1290), ('no', 1291), ('nor', 1292), ('north', 1293), ('not', 1294), ('note', 1295), ('nothing', 1296), ('noticed', 1297), ('now', 1298), ('numbers', 1299), ('nutshell', 1300), ('o', 1301), ('objections', 1302), ('obligations', 1303), ('oblige', 1304), ('obliged', 1305), ('observed', 1306), ('obtain', 1307), ('obtained', 1308), ('obvious', 1309), ('obviously', 1310), ('occasional', 1311), ('occasionally', 1312), ('occur', 1313), ('occurred', 1314), ('occurrence', 1315), ('odds', 1316), ('of', 1317), ('off', 1318), ('off-foreleg', 1319), ('offered', 1320), ('officer', 1321), ('old', 1322), ('olds', 1323), ('on', 1324), ('once', 1325), ('one', 1326), ('only', 1327), ('open', 1328), ('open;', 1329), ('opened', 1330), ('operation', 1331), ('operations', 1332), ('opinion', 1333), ('opium', 1334), ('opposite', 1335), ('or', 1336), ('order', 1337), ('ordinary', 1338), ('or—', 1339), ('ostrich-feather', 1340), ('other', 1341), ('others', 1342), ('ounce', 1343), ('our', 1344), ('ourselves', 1345), ('out', 1346), ('out-building', 1347), ('out-house', 1348), ('outlined', 1349), ('outside', 1350), ('over', 1351), ('overbearing', 1352), ('overcoat', 1353), ('overhanging', 1354), ('overlaid', 1355), ('overlook', 1356), ('overlooked', 1357), ('overtaken', 1358), ('owe', 1359), ('own', 1360), ('owner', 1361), ('owners', 1362), ('ownership', 1363), ('paces', 1364), ('packet', 1365), ('paddock', 1366), ('pale', 1367), ('pallor', 1368), ('palm', 1369), ('panted', 1370), ('paper', 1371), ('papers', 1372), ('parlor', 1373), ('part', 1374), ('partiality', 1375), ('partook', 1376), ('party', 1377), ('passage', 1378), ('passed', 1379), ('passing', 1380), ('past', 1381), ('path', 1382), ('pattering', 1383), ('paving', 1384), ('peculiarly', 1385), ('pencil-case', 1386), ('penetrating', 1387), ('people', 1388), ('perceive', 1389), ('perceived', 1390), ('perceptible', 1391), ('perfect', 1392), ('perfectly', 1393), ('perhaps', 1394), ('permission', 1395), ('person', 1396), ('personal', 1397), ('perspiration', 1398), ('pestered', 1399), ('photograph', 1400), ('pick', 1401), ('picked', 1402), ('piece', 1403), ('pinching', 1404), ('pipe', 1405), ('pits', 1406), ('place', 1407), ('placed', 1408), ('plain', 1409), ('plainly', 1410), ('play', 1411), ('pleased', 1412), ('plethora', 1413), ('plot', 1414), ('plunged', 1415), ('pocket', 1416), ('pockets', 1417), ('point', 1418), ('pointed', 1419), ('pointing', 1420), ('points', 1421), ('poisoned', 1422), ('police', 1423), ('poor', 1424), ('position', 1425), ('positive', 1426), ('possession', 1427), ('possible', 1428), ('possible;', 1429), ('possibly', 1430), ('post', 1431), ('posts', 1432), ('pouch', 1433), ('pounds', 1434), ('poured', 1435), ('powdered', 1436), ('power', 1437), ('powerful', 1438), ('powers', 1439), ('practice', 1440), ('practise', 1441), ('precaution', 1442), ('preceding', 1443), ('prefer', 1444), ('presence', 1445), ('present', 1446), ('presume', 1447), ('presuming', 1448), ('prettiest', 1449), ('pretty', 1450), ('preventing', 1451), ('price', 1452), ('prick', 1453), ('pricked', 1454), ('prime', 1455), ('print', 1456), ('prizes', 1457), ('probable', 1458), ('probably', 1459), ('problem', 1460), ('proceed', 1461), ('procured', 1462), ('produce', 1463), ('profession', 1464), ('progress', 1465), ('promise', 1466), ('promptly', 1467), ('proofs', 1468), ('protruding', 1469), ('proud', 1470), ('public', 1471), ('puffing', 1472), ('pulled', 1473), ('pulling', 1474), ('pure', 1475), ('purely', 1476), ('purpose', 1477), ('purse', 1478), ('pushed', 1479), ('put', 1480), ('quaint', 1481), ('quality', 1482), ('quantity', 1483), ('quarter', 1484), ('quarter-mile', 1485), ('question', 1486), ('questioned', 1487), ('questions', 1488), ('quickly', 1489), ('quiet', 1490), ('quietly', 1491), ('quite', 1492), ('race', 1493), ('racing', 1494), ('radius', 1495), ('rags', 1496), ('rain', 1497), ('rambled', 1498), ('ran', 1499), ('ran]', 1500), ('rapidly', 1501), ('rate', 1502), ('rather', 1503), ('rattling', 1504), ('re', 1505), ('reached', 1506), ('read', 1507), ('readiness', 1508), ('ready', 1509), ('real', 1510), ('realized', 1511), ('really', 1512), ('reappeared', 1513), ('reason', 1514), ('reasoner', 1515), ('reasoning', 1516), ('recapitulate', 1517), ('receipted', 1518), ('received', 1519), ('receiving', 1520), ('recent', 1521), ('recharging', 1522), ('recognize', 1523), ('recognized', 1524), ('recognizing', 1525), ('recommend', 1526), ('record', 1527), ('recovering', 1528), ('red', 1529), ('red-brick', 1530), ('reds', 1531), ('regard', 1532), ('registered', 1533), ('relative', 1534), ('remain', 1535), ('remained', 1536), ('remains', 1537), ('remarkable', 1538), ('remarked', 1539), ('remarks', 1540), ('remember', 1541), ('remove', 1542), ('repeated', 1543), ('replaced', 1544), ('reply', 1545), ('reporters', 1546), ('reports', 1547), ('request', 1548), ('rest', 1549), ('rested', 1550), ('retired', 1551), ('return', 1552), ('returned', 1553), ('reward', 1554), ('rheumatism', 1555), ('rich', 1556), ('right', 1557), ('rim', 1558), ('ring', 1559), ('rise', 1560), ('rising', 1561), ('risk', 1562), ('rival', 1563), ('road', 1564), ('roaming', 1565), ('roared', 1566), ('rode', 1567), ('room', 1568), ('rooms', 1569), ('rough', 1570), ('round', 1571), ('roused', 1572), ('route', 1573), ('row', 1574), ('rubbed', 1575), ('ruddy', 1576), ('rule', 1577), ('run', 1578), ('running', 1579), ('rush', 1580), ('rushed', 1581), ('s', 1582), ('safe', 1583), ('said', 1584), ('same', 1585), ('sane', 1586), ('sat', 1587), ('satisfied', 1588), ('savage', 1589), ('saved', 1590), ('saving', 1591), ('saw', 1592), ('say', 1593), ('says', 1594), ('scene', 1595), ('scoured', 1596), ('scratched', 1597), ('seal-skin', 1598), ('search', 1599), ('searched', 1600), ('seat', 1601), ('seated', 1602), ('second', 1603), ('secret', 1604), ('securing', 1605), ('see', 1606), ('seeing', 1607), ('seem', 1608), ('seemed', 1609), ('seen', 1610), ('seldom', 1611), ('self-defence', 1612), ('sell', 1613), ('sense', 1614), ('sent', 1615), ('servant', 1616), ('servants', 1617), ('serve', 1618), ('served', 1619), ('service', 1620), ('set', 1621), ('setting', 1622), ('settle', 1623), ('settles', 1624), ('seven', 1625), ('several', 1626), ('shall', 1627), ('sharp', 1628), ('shattered', 1629), ('she', 1630), ('sheep', 1631), ('shield', 1632), ('shoe', 1633), ('shoes', 1634), ('shone', 1635), ('shook', 1636), ('short', 1637), ('shorter', 1638), ('shot', 1639), ('should', 1640), ('shoulders', 1641), ('shout', 1642), ('shouted', 1643), ('show', 1644), ('showed', 1645), ('shown', 1646), ('shows', 1647), ('shrug', 1648), ('shrugged', 1649), ('shut', 1650), ('side', 1651), ('side-whiskers', 1652), ('sifting', 1653), ('sign', 1654), ('significance', 1655), ('signs', 1656), ('silence', 1657), ('silent', 1658), ('silk', 1659), ('silver', 1660), ('simple', 1661), ('simply', 1662), ('since', 1663), ('single', 1664), ('singular', 1665), ('sinister', 1666), ('sink', 1667), ('sir', 1668), ('sir;', 1669), ('sitting', 1670), ('sitting-room', 1671), ('situated', 1672), ('situation', 1673), ('six', 1674), ('sixty', 1675), ('sketch', 1676), ('skin', 1677), ('sky', 1678), ('sky-line', 1679), ('sleep', 1680), ('sleepers', 1681), ('sleeps', 1682), ('sleeve', 1683), ('sleeves', 1684), ('slept', 1685), ('slight', 1686), ('sloped', 1687), ('sloping', 1688), ('slowly', 1689), ('small', 1690), ('smiled', 1691), ('smoke', 1692), ('sneak', 1693), ('sneer', 1694), ('so', 1695), ('soft', 1696), ('sold', 1697), ('some', 1698), ('something', 1699), ('somewhat', 1700), ('sorry', 1701), ('sound', 1702), ('soundest', 1703), ('sovereigns', 1704), ('sovs', 1705), ('sparsely', 1706), ('special', 1707), ('spirited', 1708), ('spirits', 1709), ('spite', 1710), ('spoke', 1711), ('sporting', 1712), ('sportsman;', 1713), ('spot', 1714), ('sprang', 1715), ('squandered', 1716), ('square', 1717), ('stable', 1718), ('stable-boy', 1719), ('stable-lad', 1720), ('stable-lads', 1721), ('stables', 1722), ('stall', 1723), ('stamped', 1724), ('stand', 1725), ('standing', 1726), ('stared', 1727), ('start', 1728), ('started', 1729), ('state', 1730), ('stated', 1731), ('statement', 1732), ('stating', 1733), ('station', 1734), ('station—the', 1735), ('stay', 1736), ('steel', 1737), ('steeples', 1738), ('step', 1739), ('stepped', 1740), ('stick', 1741), ('still', 1742), ('stirring', 1743), ('stock', 1744), ('stone', 1745), ('stood', 1746), ('stop', 1747), ('storm', 1748), ('straight', 1749), ('strain', 1750), ('strange', 1751), ('stranger', 1752), ('stream', 1753), ('stretched', 1754), ('stretching', 1755), ('stripes', 1756), ('stripped', 1757), ('strode', 1758), ('stroke', 1759), ('strong', 1760), ('strongest', 1761), ('struck', 1762), ('struggle', 1763), ('struggles', 1764), ('study', 1765), ('stupor', 1766), ('subcutaneously', 1767), ('subordinate', 1768), ('subtler', 1769), ('succumbed', 1770), ('such', 1771), ('sudden', 1772), ('suddenly', 1773), ('suffering', 1774), ('sufficiently', 1775), ('suggested', 1776), ('suggestion', 1777), ('suggests', 1778), ('suit', 1779), ('summer', 1780), ('sums', 1781), ('sun', 1782), ('sunk', 1783), ('superb', 1784), ('supper', 1785), ('suppose', 1786), ('supposing', 1787), ('supposition', 1788), ('suppressed', 1789), ('sure', 1790), ('surely', 1791), ('surer', 1792), ('surgery', 1793), ('surmise', 1794), ('surpass', 1795), ('surprise', 1796), ('surprised', 1797), ('suspicion', 1798), ('sweetest', 1799), ('swept', 1800), ('swinging', 1801), ('sworn', 1802), ('systematic', 1803), ('t', 1804), ('table', 1805), ('tail', 1806), ('take', 1807), ('taken', 1808), ('taking', 1809), ('talk', 1810), ('tall', 1811), ('tallow', 1812), ('task', 1813), ('taste', 1814), ('tasteless', 1815), ('tastes', 1816), ('tear', 1817), ('telegrams', 1818), ('telegraph', 1819), ('tell', 1820), ('tells', 1821), ('temples', 1822), ('ten', 1823), ('ten-pound', 1824), ('tendon-nicking', 1825), ('tendons', 1826), ('terrible', 1827), ('test', 1828), ('than', 1829), ('that', 1830), ('the', 1831), ('their', 1832), ('them', 1833), ('themselves', 1834), ('then', 1835), ('theories', 1836), ('theorists', 1837), ('theory', 1838), ('there', 1839), ('therefore', 1840), ('these', 1841), ('they', 1842), ('thief', 1843), ('thigh', 1844), ('thin', 1845), ('thing', 1846), ('things', 1847), ('think', 1848), ('third', 1849), ('thirty', 1850), ('thirty-seven', 1851), ('this', 1852), ('thoroughbred', 1853), ('those', 1854), ('though', 1855), ('thought', 1856), ('thoughts', 1857), ('thousand', 1858), ('three', 1859), ('threw', 1860), ('through', 1861), ('thrown', 1862), ('thrust', 1863), ('thumb', 1864), ('thunderstruck', 1865), ('tilted', 1866), ('time', 1867), ('tin', 1868), ('tinged', 1869), ('tip', 1870), ('to', 1871), ('to-morrow', 1872), ('to-night', 1873), ('tobacco', 1874), ('toes', 1875), ('together', 1876), ('told', 1877), ('too', 1878), ('took', 1879), ('topic', 1880), ('tossed', 1881), ('touch', 1882), ('touched', 1883), ('touts', 1884), ('towards', 1885), ('town', 1886), ('trace', 1887), ('traces', 1888), ('track', 1889), ('tracks', 1890), ('tragedy', 1891), ('tragic', 1892), ('trail', 1893), ('train', 1894), ('trainer', 1895), ('trainers', 1896), ('training', 1897), ('training-stable', 1898), ('training-stables', 1899), ('trampled', 1900), ('travelling-cap', 1901), ('treated', 1902), ('trembling', 1903), ('tricks', 1904), ('tried', 1905), ('trifle', 1906), ('trim', 1907), ('trimming', 1908), ('triumph', 1909), ('trouble', 1910), ('trudged', 1911), ('true', 1912), ('trust', 1913), ('trying', 1914), ('turf', 1915), ('turn', 1916), ('turned', 1917), ('turning', 1918), ('turns', 1919), ('tweeds', 1920), ('twenty', 1921), ('twenty-guinea', 1922), ('twice', 1923), ('two', 1924), ('unable', 1925), ('uncommon', 1926), ('undeniable', 1927), ('under', 1928), ('understand', 1929), ('understanding', 1930), ('undertake', 1931), ('undoubtedly', 1932), ('uneasy', 1933), ('unfortunate', 1934), ('unique', 1935), ('unlikely', 1936), ('unlocked', 1937), ('unloose', 1938), ('unofficial', 1939), ('unravelled', 1940), ('unthinkable', 1941), ('until', 1942), ('unturned', 1943), ('unworthy', 1944), ('up', 1945), ('upon', 1946), ('upset', 1947), ('upstairs', 1948), ('up—with', 1949), ('us', 1950), ('use', 1951), ('used', 1952), ('usual', 1953), ('utterly', 1954), ('vaguely', 1955), ('value', 1956), ('ve', 1957), ('very', 1958), ('vesta', 1959), ('vestas', 1960), ('view', 1961), ('vigorously', 1962), ('villa', 1963), ('villas', 1964), ('violent', 1965), ('violently', 1966), ('visible', 1967), ('visited', 1968), ('visitor', 1969), ('voices', 1970), ('volunteered', 1971), ('wagged', 1972), ('waistcoat', 1973), ('wait', 1974), ('waited', 1975), ('waiting', 1976), ('waking', 1977), ('walk', 1978), ('walked', 1979), ('walking', 1980), ('wandering', 1981), ('want', 1982), ('wanted', 1983), ('wants', 1984), ('warned', 1985), ('was', 1986), ('wash', 1987), ('wasted', 1988), ('watch', 1989), ('watching', 1990), ('watchman', 1991), ('water-tap', 1992), ('watered', 1993), ('waving', 1994), ('wax', 1995), ('way', 1996), ('ways', 1997), ('we', 1998), ('weapon', 1999), ('weighing', 2000), ('weighing-chair', 2001), ('weighted', 2002), ('weights', 2003), ('well', 2004), ('well-known', 2005), ('went', 2006), ('were', 2007), ('west', 2008), ('westward', 2009), ('wet', 2010), ('what', 2011), ('whatever', 2012), ('when', 2013), ('where', 2014), ('whether', 2015), ('which', 2016), ('while', 2017), ('whirled', 2018), ('whispered', 2019), ('whistled', 2020), ('white', 2021), ('who', 2022), ('whole', 2023), ('whom', 2024), ('why', 2025), ('wide', 2026), ('wife', 2027), ('wild', 2028), ('wilderness', 2029), ('will', 2030), ('win', 2031), ('winced', 2032), ('wind', 2033), ('window', 2034), ('wine', 2035), ('winning', 2036), ('wire', 2037), ('wish', 2038), ('wished', 2039), ('with', 2040), ('within', 2041), ('without', 2042), ('woman', 2043), ('women', 2044), ('won', 2045), ('wonder', 2046), ('wonders', 2047), ('wood', 2048), ('word', 2049), ('words', 2050), ('wore', 2051), ('work', 2052), ('working', 2053), ('world', 2054), ('worn', 2055), ('worth', 2056), ('would', 2057), ('wound', 2058), ('wounded', 2059), ('write', 2060), ('yards', 2061), ('year', 2062), ('years', 2063), ('yellow', 2064), ('yesterday', 2065), ('yet', 2066), ('yonder', 2067), ('you', 2068), ('young', 2069), ('your', 2070), ('yourself', 2071), ('zealous', 2072), ('£200', 2073), ('£300', 2074)])"
      ]
     },
     "execution_count": 75,
     "metadata": {},
     "output_type": "execute_result"
    }
   ],
   "source": [
    "vocab= { token:index for index, token in enumerate(tokens)}\n",
    "vocab.items()\n",
    "\n"
   ]
  },
  {
   "cell_type": "code",
   "execution_count": 76,
   "id": "14d3b4e1",
   "metadata": {},
   "outputs": [
    {
     "name": "stdout",
     "output_type": "stream",
     "text": [
      "Because I made a blunder, my dear Watson—which is, I am afraid, a more common occurrence than any one would think who only knew me through your memoirs.\n"
     ]
    }
   ],
   "source": [
    "phrase= \"Because I made a blunder, my dear Watson—which is, I am afraid, a more common occurrence than any one would think who only knew me through your memoirs.\"\n",
    "print(phrase)"
   ]
  },
  {
   "cell_type": "code",
   "execution_count": 77,
   "id": "38dd3006",
   "metadata": {},
   "outputs": [
    {
     "name": "stdout",
     "output_type": "stream",
     "text": [
      "['Because', 'I', 'made', 'a', 'blunder', ',', 'my', 'dear', 'Watson—which', 'is', ',', 'I', 'am', 'afraid', ',', 'a', 'more', 'common', 'occurrence', 'than', 'any', 'one', 'would', 'think', 'who', 'only', 'knew', 'me', 'through', 'your', 'memoirs', '.']\n"
     ]
    }
   ],
   "source": [
    "phrase= re.split(r'([.,!?:()\\'“”\"]|\\s)', phrase)\n",
    "phrase=[item for item in phrase if item.split()]\n",
    "print(phrase)"
   ]
  },
  {
   "cell_type": "code",
   "execution_count": 78,
   "id": "5073917f",
   "metadata": {},
   "outputs": [
    {
     "name": "stdout",
     "output_type": "stream",
     "text": [
      "[31, 97, 1190, 231, 404, 6, 1262, 619, 209, 1080, 6, 97, 284, 262, 6, 231, 1249, 546, 1315, 1829, 305, 1326, 2057, 1848, 2022, 1327, 1102, 1212, 1861, 2070, 1216, 7]\n"
     ]
    }
   ],
   "source": [
    "ids=[vocab[token] for token in phrase]\n",
    "print(ids)"
   ]
  },
  {
   "cell_type": "code",
   "execution_count": 79,
   "id": "fbe46623",
   "metadata": {},
   "outputs": [
    {
     "data": {
      "text/plain": [
       "dict_items([(0, '!'), (1, '\"'), (2, '&'), (3, \"'\"), (4, '('), (5, ')'), (6, ','), (7, '.'), (8, '1000'), (9, '50'), (10, '<|endoftext|>'), (11, '<|unk|>'), (12, '?'), (13, 'A'), (14, 'AM'), (15, 'About'), (16, 'Above'), (17, 'Afterwards'), (18, 'Again'), (19, 'Ah'), (20, 'All'), (21, 'An'), (22, 'And'), (23, 'As'), (24, 'At'), (25, 'BLAZE'), (26, 'Backwater'), (27, 'Balmoral'), (28, 'Baxter'), (29, 'Bayard'), (30, 'Be'), (31, 'Because'), (32, 'Before'), (33, 'Black'), (34, 'Blaze'), (35, 'Bless'), (36, 'Blue'), (37, 'Bond'), (38, 'Brown'), (39, 'But'), (40, 'By'), (41, 'Can'), (42, 'Capital'), (43, 'Cavendish'), (44, 'Certainly'), (45, 'Chronicle'), (46, 'Cinnamon'), (47, 'Clapham'), (48, 'Co'), (49, 'Colonel'), (50, 'Cup'), (51, 'Cup—Silver'), (52, 'D'), (53, 'Dartmoor'), (54, 'Dartmoor;'), (55, 'Dawson'), (56, 'Dear'), (57, 'Derbyshire'), (58, 'Desborough'), (59, 'Devonshire'), (60, 'Did'), (61, 'Do'), (62, 'Don'), (63, 'Dr'), (64, 'Drive'), (65, 'Duke'), (66, 'Edith'), (67, 'England'), (68, 'English'), (69, 'Every'), (70, 'Exceedingly'), (71, 'Excellent'), (72, 'Excuse'), (73, 'Exeter'), (74, 'Finally'), (75, 'Fitzroy'), (76, 'Five'), (77, 'For'), (78, 'Four'), (79, 'Fresh'), (80, 'From'), (81, 'Go'), (82, 'Good-evening'), (83, 'Gregory'), (84, 'Has'), (85, 'Have'), (86, 'He'), (87, 'Heath'), (88, 'Her'), (89, 'Here'), (90, 'His'), (91, 'Holmes'), (92, 'How'), (93, 'However'), (94, 'Hullo'), (95, 'Hum'), (96, 'Hunter'), (97, 'I'), (98, 'If'), (99, 'Immediately'), (100, 'In'), (101, 'Indeed'), (102, 'Inspector'), (103, 'Iris'), (104, 'Is'), (105, 'It'), (106, 'John'), (107, 'Junction'), (108, 'King'), (109, 'Lesurier'), (110, 'Let'), (111, 'Liberal'), (112, 'London'), (113, 'Lord'), (114, 'Madame'), (115, 'Mapleton'), (116, 'Master'), (117, 'Might'), (118, 'Monday'), (119, 'Mr'), (120, 'Mrs'), (121, 'My'), (122, 'Ned'), (123, 'Negro'), (124, 'Never'), (125, 'New'), (126, 'Newton'), (127, 'No'), (128, 'None;'), (129, 'Nor'), (130, 'Not'), (131, 'Nothing'), (132, 'Now'), (133, 'Obviously'), (134, 'Of'), (135, 'Oh'), (136, 'On'), (137, 'Once'), (138, 'One'), (139, 'Only'), (140, 'Our'), (141, 'P'), (142, 'Paddington'), (143, 'Penang-lawyer'), (144, 'Perhaps'), (145, 'Pink'), (146, 'Plate'), (147, 'Plymouth'), (148, 'Powdered'), (149, 'Pugilist'), (150, 'Pullman'), (151, 'Purple'), (152, 'Pyland'), (153, 'Quite'), (154, 'Rasper'), (155, 'Reading'), (156, 'Red'), (157, 'Ross'), (158, 'SILVER'), (159, 'Say'), (160, 'Scoundrel'), (161, 'Second'), (162, 'See'), (163, 'Shall'), (164, 'She'), (165, 'Sherlock'), (166, 'Should'), (167, 'Silas'), (168, 'Silver'), (169, 'Simpson'), (170, 'Singleford'), (171, 'So'), (172, 'Some'), (173, 'Somebody'), (174, 'Sometimes'), (175, 'Somomy'), (176, 'Straker'), (177, 'Street'), (178, 'Such'), (179, 'Surely'), (180, 'Tavistock'), (181, 'Telegraph'), (182, 'Ten'), (183, 'That'), (184, 'The'), (185, 'Then'), (186, 'There'), (187, 'Therefore'), (188, 'These'), (189, 'They'), (190, 'Third'), (191, 'This'), (192, 'Those'), (193, 'Though'), (194, 'Three'), (195, 'Thursday'), (196, 'To'), (197, 'Tuesday'), (198, 'Twenty-two'), (199, 'Two'), (200, 'Under'), (201, 'Undoubtedly'), (202, 'Up'), (203, 'Very'), (204, 'Victoria'), (205, 'Villain'), (206, 'Wardlaw'), (207, 'Watson'), (208, 'Watson;'), (209, 'Watson—which'), (210, 'We'), (211, 'Weiss'), (212, 'Well'), (213, 'Were'), (214, 'Wessex'), (215, 'What'), (216, 'When'), (217, 'Where'), (218, 'Which'), (219, 'Who'), (220, 'Why'), (221, 'William'), (222, 'Winchester'), (223, 'Wonderful'), (224, 'Yellow'), (225, 'Yes'), (226, 'Yes;'), (227, 'Yet'), (228, 'You'), (229, 'Your'), (230, '[it'), (231, 'a'), (232, 'abductor'), (233, 'ability'), (234, 'about'), (235, 'above'), (236, 'absentees'), (237, 'absolute'), (238, 'absolutely'), (239, 'absorbed'), (240, 'abundant'), (241, 'access'), (242, 'according'), (243, 'account'), (244, 'account;'), (245, 'accounts'), (246, 'accused'), (247, 'accustomed'), (248, 'acknowledges'), (249, 'acquiring'), (250, 'across'), (251, 'acted'), (252, 'action'), (253, 'actions'), (254, 'add'), (255, 'added'), (256, 'address'), (257, 'addressed'), (258, 'admittance'), (259, 'advantage'), (260, 'advice'), (261, 'affair'), (262, 'afraid'), (263, 'after'), (264, 'again'), (265, 'against'), (266, 'age'), (267, 'agent'), (268, 'agents'), (269, 'agitation'), (270, 'ago'), (271, 'air'), (272, 'alert'), (273, 'alighted'), (274, 'all'), (275, 'almost'), (276, 'alone'), (277, 'along'), (278, 'already'), (279, 'also'), (280, 'although'), (281, 'altogether'), (282, 'aluminum'), (283, 'always'), (284, 'am'), (285, 'amazement'), (286, 'amiss'), (287, 'amnesty'), (288, 'among'), (289, 'amount'), (290, 'amusement'), (291, 'an'), (292, 'analysis'), (293, 'ancestor'), (294, 'and'), (295, 'angrily'), (296, 'angry'), (297, 'animals'), (298, 'announced'), (299, 'annoyance'), (300, 'another'), (301, 'answer'), (302, 'answered'), (303, 'anticipate'), (304, 'anxiety'), (305, 'any'), (306, 'anyhow'), (307, 'anything'), (308, 'apart'), (309, 'apologies'), (310, 'apology'), (311, 'apparently'), (312, 'appeared'), (313, 'appears'), (314, 'apple'), (315, 'appointment'), (316, 'appreciable'), (317, 'appreciated'), (318, 'approached'), (319, 'are'), (320, 'argue'), (321, 'arm'), (322, 'armed'), (323, 'arms'), (324, 'arouse'), (325, 'aroused'), (326, 'arrest'), (327, 'arrested'), (328, 'arresting'), (329, 'arrival'), (330, 'art'), (331, 'as'), (332, 'ascending'), (333, 'ashy'), (334, 'aside'), (335, 'ask'), (336, 'asked'), (337, 'asphalt'), (338, 'assailants'), (339, 'associated'), (340, 'assurance'), (341, 'assure'), (342, 'astonishment'), (343, 'astute'), (344, 'at'), (345, 'attempt'), (346, 'attends'), (347, 'attention'), (348, 'avenge'), (349, 'awaiting'), (350, 'away'), (351, 'awoke'), (352, 'back'), (353, 'bad'), (354, 'bag'), (355, 'baldly'), (356, 'bank'), (357, 'barked'), (358, 'basis'), (359, 'bay'), (360, 'be'), (361, 'beads'), (362, 'bear'), (363, 'beard'), (364, 'bearing'), (365, 'beast'), (366, 'beat'), (367, 'beautiful'), (368, 'became'), (369, 'because'), (370, 'become'), (371, 'becomes'), (372, 'been'), (373, 'before'), (374, 'beg'), (375, 'begged'), (376, 'beginning'), (377, 'begun'), (378, 'behind'), (379, 'being'), (380, 'believe'), (381, 'bell'), (382, 'belongings'), (383, 'belongs'), (384, 'beside'), (385, 'best'), (386, 'bets'), (387, 'better'), (388, 'betting'), (389, 'betting-book'), (390, 'between'), (391, 'beyond'), (392, 'bill'), (393, 'bills'), (394, 'birth'), (395, 'black'), (396, 'blade'), (397, 'blind'), (398, 'blood'), (399, 'blood-stains'), (400, 'blow'), (401, 'blown'), (402, 'blows'), (403, 'blue'), (404, 'blunder'), (405, 'bluntly'), (406, 'bluster'), (407, 'body'), (408, 'bolt'), (409, 'bolted'), (410, 'book-making'), (411, 'boots'), (412, 'bore'), (413, 'boss'), (414, 'both'), (415, 'bottom'), (416, 'bound'), (417, 'bowed'), (418, 'bowl-shaped'), (419, 'box'), (420, 'boy'), (421, 'brain'), (422, 'brains'), (423, 'brambles'), (424, 'branch'), (425, 'breadth'), (426, 'breakfast'), (427, 'breath'), (428, 'bridle'), (429, 'brier-root'), (430, 'brilliant'), (431, 'brilliantly'), (432, 'bringing'), (433, 'brink'), (434, 'briskly'), (435, 'broke'), (436, 'broken'), (437, 'bronze-colored'), (438, 'brooding'), (439, 'brought'), (440, 'brow'), (441, 'browns'), (442, 'brows'), (443, 'buildings'), (444, 'built'), (445, 'bully'), (446, 'bullying'), (447, 'bundle'), (448, 'buried'), (449, 'burned'), (450, 'burst'), (451, 'bush'), (452, 'bushes'), (453, 'business'), (454, 'but'), (455, 'buy'), (456, 'by'), (457, 'calculation'), (458, 'call'), (459, 'called'), (460, 'calling'), (461, 'came'), (462, 'can'), (463, 'candle'), (464, 'cannot'), (465, 'cantered'), (466, 'cap'), (467, 'car'), (468, 'card'), (469, 'care'), (470, 'cared'), (471, 'careful'), (472, 'carefully'), (473, 'carpet'), (474, 'carriage'), (475, 'carried'), (476, 'carry'), (477, 'carrying'), (478, 'case'), (479, 'cases'), (480, 'cast'), (481, 'cataract'), (482, 'catastrophe'), (483, 'catch'), (484, 'caught'), (485, 'caused'), (486, 'cavalier'), (487, 'ceased'), (488, 'central'), (489, 'centres'), (490, 'certain'), (491, 'certainly'), (492, 'chaff-cutting'), (493, 'chain'), (494, 'chair'), (495, 'challenge'), (496, 'chance'), (497, 'change'), (498, 'characteristic'), (499, 'characters'), (500, 'charge'), (501, 'charging'), (502, 'charming'), (503, 'checking'), (504, 'chemist'), (505, 'chest'), (506, 'child'), (507, 'children'), (508, 'chin'), (509, 'chip'), (510, 'choose'), (511, 'chosen'), (512, 'chuckled'), (513, 'cigar'), (514, 'cigar-case'), (515, 'circle'), (516, 'circumstantial'), (517, 'city'), (518, 'clambered'), (519, 'clasped'), (520, 'clean'), (521, 'clear'), (522, 'clearness'), (523, 'clears'), (524, 'clever'), (525, 'clock'), (526, 'close'), (527, 'closed'), (528, 'cloth'), (529, 'clothing'), (530, 'clotted'), (531, 'clubs'), (532, 'clue'), (533, 'cluster'), (534, 'co-operation'), (535, 'coachman'), (536, 'coat'), (537, 'coated'), (538, 'coincidence'), (539, 'cold'), (540, 'colors'), (541, 'come'), (542, 'comfortable'), (543, 'comfortably'), (544, 'coming'), (545, 'committed'), (546, 'common'), (547, 'companion'), (548, 'company'), (549, 'compared'), (550, 'competent'), (551, 'complete'), (552, 'compound'), (553, 'concealed'), (554, 'concluded'), (555, 'conclusion'), (556, 'confer'), (557, 'confess'), (558, 'confidence'), (559, 'confine'), (560, 'confronted'), (561, 'conjecture'), (562, 'connect'), (563, 'connection'), (564, 'consider'), (565, 'consisted'), (566, 'consultant'), (567, 'contain'), (568, 'containing'), (569, 'contents'), (570, 'continued'), (571, 'contractor'), (572, 'contrary'), (573, 'conversation'), (574, 'conviction'), (575, 'convinced'), (576, 'convulsive'), (577, 'cork'), (578, 'corner'), (579, 'correct'), (580, 'corresponded'), (581, 'costume'), (582, 'could'), (583, 'counsel'), (584, 'country'), (585, 'course'), (586, 'covered'), (587, 'coward'), (588, 'cravat'), (589, 'crawled'), (590, 'creature'), (591, 'cried'), (592, 'crime'), (593, 'cringed'), (594, 'crossed'), (595, 'culprit'), (596, 'curious'), (597, 'curiously'), (598, 'curled'), (599, 'curried'), (600, 'curry'), (601, 'curve'), (602, 'curves'), (603, 'cushions'), (604, 'custom'), (605, 'customer'), (606, 'cut'), (607, 'damned'), (608, 'dapper'), (609, 'dared'), (610, 'dark'), (611, 'darkness'), (612, 'dashing'), (613, 'day'), (614, 'day-dreaming'), (615, 'days'), (616, 'dead'), (617, 'deaf'), (618, 'deal'), (619, 'dear'), (620, 'death'), (621, 'debt'), (622, 'deciding'), (623, 'decision'), (624, 'declared'), (625, 'declares'), (626, 'deepening'), (627, 'deepest'), (628, 'defence'), (629, 'defended'), (630, 'defer'), (631, 'delicate'), (632, 'delighted'), (633, 'deny'), (634, 'depression'), (635, 'deprived'), (636, 'descending'), (637, 'described'), (638, 'designs'), (639, 'despair'), (640, 'detach'), (641, 'detail'), (642, 'details'), (643, 'detect'), (644, 'detective'), (645, 'detectives'), (646, 'develop'), (647, 'development'), (648, 'developments'), (649, 'devil'), (650, 'devised'), (651, 'devote'), (652, 'dialogue'), (653, 'did'), (654, 'didn'), (655, 'difficulties'), (656, 'difficulty'), (657, 'dipped'), (658, 'direction'), (659, 'disagreeable'), (660, 'disappearance'), (661, 'disappeared'), (662, 'disappears'), (663, 'disappointed'), (664, 'discover'), (665, 'disguise'), (666, 'dish'), (667, 'dishonest'), (668, 'disk'), (669, 'disposal'), (670, 'dispose'), (671, 'disregarding'), (672, 'distance'), (673, 'distant'), (674, 'distrait'), (675, 'district'), (676, 'do'), (677, 'dodge'), (678, 'does'), (679, 'dog'), (680, 'doing'), (681, 'don'), (682, 'done'), (683, 'door'), (684, 'double'), (685, 'doubt'), (686, 'doubted'), (687, 'dove-colored'), (688, 'down'), (689, 'drag'), (690, 'drama'), (691, 'draw'), (692, 'drawn'), (693, 'dress'), (694, 'dressed'), (695, 'dresses'), (696, 'dressing'), (697, 'dressing-table'), (698, 'drew'), (699, 'drink'), (700, 'drive'), (701, 'driver'), (702, 'dropped'), (703, 'drove'), (704, 'drug'), (705, 'drugged'), (706, 'dry'), (707, 'duplicate'), (708, 'during'), (709, 'duty'), (710, 'each'), (711, 'eager'), (712, 'ear'), (713, 'ear-flapped'), (714, 'early'), (715, 'earn'), (716, 'earnestness'), (717, 'ears'), (718, 'earth'), (719, 'easily'), (720, 'eat'), (721, 'eater'), (722, 'eaves'), (723, 'editions'), (724, 'education'), (725, 'effect'), (726, 'effects'), (727, 'either'), (728, 'elderly'), (729, 'element'), (730, 'eliminated'), (731, 'else'), (732, 'embellishments'), (733, 'emerged'), (734, 'empty'), (735, 'en'), (736, 'encamped'), (737, 'enclosure'), (738, 'ended'), (739, 'enjoy'), (740, 'enormous'), (741, 'enough'), (742, 'ensued'), (743, 'entered'), (744, 'entirely'), (745, 'entreaties'), (746, 'entries'), (747, 'enumerate'), (748, 'envelope'), (749, 'epidemic'), (750, 'equally'), (751, 'erroneous'), (752, 'especially'), (753, 'essential'), (754, 'established'), (755, 'establishment'), (756, 'even'), (757, 'evening'), (758, 'event'), (759, 'events'), (760, 'ever'), (761, 'every'), (762, 'everything'), (763, 'evidence'), (764, 'evidently'), (765, 'exactly'), (766, 'examination'), (767, 'examined'), (768, 'examining'), (769, 'excellent'), (770, 'exception'), (771, 'excited'), (772, 'excitement'), (773, 'exclaimed'), (774, 'exercise'), (775, 'exercised'), (776, 'expect'), (777, 'expected'), (778, 'expedition'), (779, 'expense'), (780, 'expensive'), (781, 'experience'), (782, 'explained'), (783, 'explanation'), (784, 'explanations'), (785, 'expression'), (786, 'extraordinary'), (787, 'extreme'), (788, 'extremely'), (789, 'eye'), (790, 'eye-glass'), (791, 'eyes'), (792, 'eyes;'), (793, 'face'), (794, 'fact'), (795, 'factor'), (796, 'facts'), (797, 'fact—from'), (798, 'fact—of'), (799, 'faded'), (800, 'fading'), (801, 'fail'), (802, 'failed'), (803, 'fails'), (804, 'fair'), (805, 'fakir'), (806, 'fall'), (807, 'falls'), (808, 'familiar'), (809, 'family'), (810, 'famous'), (811, 'fancy'), (812, 'far'), (813, 'fatal'), (814, 'favor'), (815, 'favorite'), (816, 'feel'), (817, 'feeling'), (818, 'feet'), (819, 'fell'), (820, 'fellow'), (821, 'fellow-grooms'), (822, 'felt'), (823, 'ferns'), (824, 'fetched'), (825, 'few'), (826, 'field'), (827, 'field-glass'), (828, 'fierce-looking'), (829, 'fifteen'), (830, 'fifth'), (831, 'fifty'), (832, 'fifty-three'), (833, 'filed'), (834, 'fill'), (835, 'final'), (836, 'find'), (837, 'finding'), (838, 'finger'), (839, 'finished'), (840, 'first'), (841, 'first-class'), (842, 'first-hand'), (843, 'fit'), (844, 'fitted'), (845, 'fitting'), (846, 'five'), (847, 'fixed'), (848, 'flag'), (849, 'flapping'), (850, 'flavor'), (851, 'fled'), (852, 'flight'), (853, 'flushed'), (854, 'flying'), (855, 'folded'), (856, 'follow'), (857, 'followed'), (858, 'for'), (859, 'forcibly'), (860, 'forefinger'), (861, 'forehead'), (862, 'foretold'), (863, 'forgotten'), (864, 'form'), (865, 'formed'), (866, 'formidable'), (867, 'formulating'), (868, 'fortunate'), (869, 'fortune'), (870, 'forward'), (871, 'foul'), (872, 'found'), (873, 'four'), (874, 'framed'), (875, 'framework'), (876, 'fraud'), (877, 'fresh'), (878, 'friend'), (879, 'friends'), (880, 'frightened'), (881, 'frock'), (882, 'frock-coat'), (883, 'from'), (884, 'front'), (885, 'ft'), (886, 'full'), (887, 'furlongs'), (888, 'further'), (889, 'furze-bush'), (890, 'gadabout'), (891, 'gain'), (892, 'gaiters'), (893, 'garden-party'), (894, 'gashed'), (895, 'gasped'), (896, 'gate'), (897, 'gates'), (898, 'gave'), (899, 'gazed'), (900, 'general'), (901, 'genteel'), (902, 'gentlemanly'), (903, 'gentlemen'), (904, 'get'), (905, 'gets'), (906, 'getting'), (907, 'gifted'), (908, 'girl'), (909, 'give'), (910, 'given'), (911, 'glad'), (912, 'glanced'), (913, 'glancing'), (914, 'glare'), (915, 'gleam'), (916, 'glories'), (917, 'glossy'), (918, 'go'), (919, 'goes'), (920, 'going'), (921, 'gold'), (922, 'gone'), (923, 'good'), (924, 'gossiping'), (925, 'got'), (926, 'grand'), (927, 'grasp'), (928, 'grasped'), (929, 'grave'), (930, 'gray'), (931, 'gray-tiled'), (932, 'grays'), (933, 'great'), (934, 'greater'), (935, 'greatest'), (936, 'gregarious'), (937, 'grip'), (938, 'groom'), (939, 'ground'), (940, 'grows'), (941, 'guard'), (942, 'guarded'), (943, 'guilt'), (944, 'guineas'), (945, 'gypsies'), (946, 'h'), (947, 'had'), (948, 'haggard'), (949, 'hair'), (950, 'half'), (951, 'half-crown'), (952, 'ham'), (953, 'hand'), (954, 'handed'), (955, 'handle'), (956, 'hands'), (957, 'happened'), (958, 'happy'), (959, 'hard'), (960, 'hardly'), (961, 'harness-room'), (962, 'has'), (963, 'hastily'), (964, 'hat'), (965, 'have'), (966, 'having'), (967, 'hay-dealers'), (968, 'he'), (969, 'he;'), (970, 'head'), (971, 'heap'), (972, 'hear'), (973, 'heard'), (974, 'hearing'), (975, 'heavy'), (976, 'heel'), (977, 'heels'), (978, 'heights'), (979, 'held'), (980, 'help'), (981, 'helps'), (982, 'her'), (983, 'here'), (984, 'herself'), (985, 'hide'), (986, 'hiding-place'), (987, 'him'), (988, 'himself'), (989, 'his'), (990, 'holds'), (991, 'hollow'), (992, 'home'), (993, 'honest'), (994, 'hope'), (995, 'hoped'), (996, 'hopes'), (997, 'horror'), (998, 'horse'), (999, 'horse-fakir'), (1000, 'horses'), (1001, 'horseshoe'), (1002, 'hound'), (1003, 'hour'), (1004, 'hours'), (1005, 'house'), (1006, 'houses'), (1007, 'how'), (1008, 'however'), (1009, 'huddled'), (1010, 'huge'), (1011, 'hundred'), (1012, 'hung'), (1013, 'hunting-crop'), (1014, 'hurled'), (1015, 'husband'), (1016, 'hypothesis'), (1017, 'idea'), (1018, 'if'), (1019, 'ill'), (1020, 'imagination'), (1021, 'imagine'), (1022, 'imagined'), (1023, 'immediately'), (1024, 'immense'), (1025, 'impatience'), (1026, 'impertinence'), (1027, 'imperturbably'), (1028, 'import'), (1029, 'importance'), (1030, 'important'), (1031, 'impress'), (1032, 'impressed'), (1033, 'impression'), (1034, 'impressions'), (1035, 'improbable'), (1036, 'impulse'), (1037, 'in'), (1038, 'inches'), (1039, 'incident'), (1040, 'incised'), (1041, 'inclined'), (1042, 'incomprehensible'), (1043, 'indeed'), (1044, 'indications'), (1045, 'inference'), (1046, 'inferences'), (1047, 'infernal'), (1048, 'infinitely'), (1049, 'inflexible'), (1050, 'inflicted'), (1051, 'influence'), (1052, 'information'), (1053, 'inhabited'), (1054, 'injure'), (1055, 'injuries'), (1056, 'injuring'), (1057, 'injury'), (1058, 'inquest'), (1059, 'inquiries'), (1060, 'inside'), (1061, 'instant'), (1062, 'instinct'), (1063, 'instincts'), (1064, 'instructions'), (1065, 'instrument'), (1066, 'insult'), (1067, 'intended'), (1068, 'intention'), (1069, 'interest'), (1070, 'interests'), (1071, 'interjection'), (1072, 'into'), (1073, 'introduced'), (1074, 'invalids'), (1075, 'invariably'), (1076, 'inventory'), (1077, 'investigation'), (1078, 'invisible'), (1079, 'inviting'), (1080, 'is'), (1081, 'it'), (1082, 'its'), (1083, 'itself'), (1084, 'ivory-handled'), (1085, 'jacket'), (1086, 'jockey'), (1087, 'joke'), (1088, 'journey'), (1089, 'jury'), (1090, 'just'), (1091, 'justified'), (1092, 'keenly'), (1093, 'keep'), (1094, 'keeping'), (1095, 'keeps'), (1096, 'kept'), (1097, 'key'), (1098, 'kidnap'), (1099, 'kidnapping'), (1100, 'killed'), (1101, 'kitchen'), (1102, 'knew'), (1103, 'knife'), (1104, 'knitted'), (1105, 'knob'), (1106, 'knoll'), (1107, 'know'), (1108, 'knowing'), (1109, 'known'), (1110, 'knows'), (1111, 'lacks'), (1112, 'lad'), (1113, 'ladies'), (1114, 'lads'), (1115, 'lads;'), (1116, 'lady'), (1117, 'laid'), (1118, 'lain'), (1119, 'lame'), (1120, 'lameness'), (1121, 'landau'), (1122, 'landscape'), (1123, 'lantern'), (1124, 'large'), (1125, 'larger'), (1126, 'lashed'), (1127, 'last'), (1128, 'late'), (1129, 'later'), (1130, 'latter'), (1131, 'laughed'), (1132, 'laughing'), (1133, 'lay'), (1134, 'laying'), (1135, 'lead'), (1136, 'leading'), (1137, 'leads'), (1138, 'lean'), (1139, 'leaned'), (1140, 'leaning'), (1141, 'learn'), (1142, 'least'), (1143, 'leave'), (1144, 'led'), (1145, 'left'), (1146, 'leg'), (1147, 'length'), (1148, 'lengths'), (1149, 'lengthy'), (1150, 'less'), (1151, 'lessen'), (1152, 'let'), (1153, 'letter'), (1154, 'letters'), (1155, 'liberty'), (1156, 'lie'), (1157, 'lies'), (1158, 'life'), (1159, 'lifting'), (1160, 'light'), (1161, 'light;'), (1162, 'like'), (1163, 'likely'), (1164, 'line'), (1165, 'link'), (1166, 'lion-like'), (1167, 'lip'), (1168, 'liquid'), (1169, 'listened'), (1170, 'little'), (1171, 'lived'), (1172, 'll'), (1173, 'locked'), (1174, 'lodged'), (1175, 'loft'), (1176, 'loiterers'), (1177, 'lonely'), (1178, 'long'), (1179, 'long-cut'), (1180, 'look'), (1181, 'looked'), (1182, 'looking'), (1183, 'looks'), (1184, 'loser'), (1185, 'loss'), (1186, 'lost'), (1187, 'low'), (1188, 'luck'), (1189, 'mackintosh'), (1190, 'made'), (1191, 'maid'), (1192, 'maid-servant'), (1193, 'main'), (1194, 'make'), (1195, 'making'), (1196, 'man'), (1197, 'managed'), (1198, 'manner'), (1199, 'many'), (1200, 'mark'), (1201, 'marked'), (1202, 'marks'), (1203, 'married'), (1204, 'marshy'), (1205, 'marvelling'), (1206, 'master'), (1207, 'match'), (1208, 'matter'), (1209, 'matters'), (1210, 'matting'), (1211, 'may'), (1212, 'me'), (1213, 'meals'), (1214, 'means'), (1215, 'medium'), (1216, 'memoirs'), (1217, 'men'), (1218, 'menace'), (1219, 'mentioned'), (1220, 'mercy'), (1221, 'message'), (1222, 'met'), (1223, 'method'), (1224, 'methods'), (1225, 'middle'), (1226, 'midnight'), (1227, 'might'), (1228, 'mile'), (1229, 'miles'), (1230, 'milliner'), (1231, 'mind'), (1232, 'mines'), (1233, 'minor'), (1234, 'minute'), (1235, 'minutely'), (1236, 'minutes'), (1237, 'mischief'), (1238, 'miserable'), (1239, 'missing'), (1240, 'misspent'), (1241, 'mistake'), (1242, 'mistaken'), (1243, 'mixed'), (1244, 'moment'), (1245, 'money'), (1246, 'monstrous'), (1247, 'moor'), (1248, 'moors'), (1249, 'more'), (1250, 'morning'), (1251, 'most'), (1252, 'motives'), (1253, 'mottled'), (1254, 'much'), (1255, 'mud'), (1256, 'murder'), (1257, 'murdered'), (1258, 'murderer'), (1259, 'murmured'), (1260, 'must'), (1261, 'mutton'), (1262, 'my'), (1263, 'myself'), (1264, 'mystery'), (1265, 'mythical'), (1266, 'name'), (1267, 'narrative'), (1268, 'naturally'), (1269, 'nature'), (1270, 'near'), (1271, 'neat'), (1272, 'necessary'), (1273, 'neck'), (1274, 'needed'), (1275, 'neglect'), (1276, 'neighboring'), (1277, 'neighbors'), (1278, 'neither'), (1279, 'nervousness'), (1280, 'net'), (1281, 'never'), (1282, 'new'), (1283, 'news'), (1284, 'newspaper'), (1285, 'next'), (1286, 'nick'), (1287, 'night'), (1288, 'night-express'), (1289, 'night-time'), (1290, 'nine'), (1291, 'no'), (1292, 'nor'), (1293, 'north'), (1294, 'not'), (1295, 'note'), (1296, 'nothing'), (1297, 'noticed'), (1298, 'now'), (1299, 'numbers'), (1300, 'nutshell'), (1301, 'o'), (1302, 'objections'), (1303, 'obligations'), (1304, 'oblige'), (1305, 'obliged'), (1306, 'observed'), (1307, 'obtain'), (1308, 'obtained'), (1309, 'obvious'), (1310, 'obviously'), (1311, 'occasional'), (1312, 'occasionally'), (1313, 'occur'), (1314, 'occurred'), (1315, 'occurrence'), (1316, 'odds'), (1317, 'of'), (1318, 'off'), (1319, 'off-foreleg'), (1320, 'offered'), (1321, 'officer'), (1322, 'old'), (1323, 'olds'), (1324, 'on'), (1325, 'once'), (1326, 'one'), (1327, 'only'), (1328, 'open'), (1329, 'open;'), (1330, 'opened'), (1331, 'operation'), (1332, 'operations'), (1333, 'opinion'), (1334, 'opium'), (1335, 'opposite'), (1336, 'or'), (1337, 'order'), (1338, 'ordinary'), (1339, 'or—'), (1340, 'ostrich-feather'), (1341, 'other'), (1342, 'others'), (1343, 'ounce'), (1344, 'our'), (1345, 'ourselves'), (1346, 'out'), (1347, 'out-building'), (1348, 'out-house'), (1349, 'outlined'), (1350, 'outside'), (1351, 'over'), (1352, 'overbearing'), (1353, 'overcoat'), (1354, 'overhanging'), (1355, 'overlaid'), (1356, 'overlook'), (1357, 'overlooked'), (1358, 'overtaken'), (1359, 'owe'), (1360, 'own'), (1361, 'owner'), (1362, 'owners'), (1363, 'ownership'), (1364, 'paces'), (1365, 'packet'), (1366, 'paddock'), (1367, 'pale'), (1368, 'pallor'), (1369, 'palm'), (1370, 'panted'), (1371, 'paper'), (1372, 'papers'), (1373, 'parlor'), (1374, 'part'), (1375, 'partiality'), (1376, 'partook'), (1377, 'party'), (1378, 'passage'), (1379, 'passed'), (1380, 'passing'), (1381, 'past'), (1382, 'path'), (1383, 'pattering'), (1384, 'paving'), (1385, 'peculiarly'), (1386, 'pencil-case'), (1387, 'penetrating'), (1388, 'people'), (1389, 'perceive'), (1390, 'perceived'), (1391, 'perceptible'), (1392, 'perfect'), (1393, 'perfectly'), (1394, 'perhaps'), (1395, 'permission'), (1396, 'person'), (1397, 'personal'), (1398, 'perspiration'), (1399, 'pestered'), (1400, 'photograph'), (1401, 'pick'), (1402, 'picked'), (1403, 'piece'), (1404, 'pinching'), (1405, 'pipe'), (1406, 'pits'), (1407, 'place'), (1408, 'placed'), (1409, 'plain'), (1410, 'plainly'), (1411, 'play'), (1412, 'pleased'), (1413, 'plethora'), (1414, 'plot'), (1415, 'plunged'), (1416, 'pocket'), (1417, 'pockets'), (1418, 'point'), (1419, 'pointed'), (1420, 'pointing'), (1421, 'points'), (1422, 'poisoned'), (1423, 'police'), (1424, 'poor'), (1425, 'position'), (1426, 'positive'), (1427, 'possession'), (1428, 'possible'), (1429, 'possible;'), (1430, 'possibly'), (1431, 'post'), (1432, 'posts'), (1433, 'pouch'), (1434, 'pounds'), (1435, 'poured'), (1436, 'powdered'), (1437, 'power'), (1438, 'powerful'), (1439, 'powers'), (1440, 'practice'), (1441, 'practise'), (1442, 'precaution'), (1443, 'preceding'), (1444, 'prefer'), (1445, 'presence'), (1446, 'present'), (1447, 'presume'), (1448, 'presuming'), (1449, 'prettiest'), (1450, 'pretty'), (1451, 'preventing'), (1452, 'price'), (1453, 'prick'), (1454, 'pricked'), (1455, 'prime'), (1456, 'print'), (1457, 'prizes'), (1458, 'probable'), (1459, 'probably'), (1460, 'problem'), (1461, 'proceed'), (1462, 'procured'), (1463, 'produce'), (1464, 'profession'), (1465, 'progress'), (1466, 'promise'), (1467, 'promptly'), (1468, 'proofs'), (1469, 'protruding'), (1470, 'proud'), (1471, 'public'), (1472, 'puffing'), (1473, 'pulled'), (1474, 'pulling'), (1475, 'pure'), (1476, 'purely'), (1477, 'purpose'), (1478, 'purse'), (1479, 'pushed'), (1480, 'put'), (1481, 'quaint'), (1482, 'quality'), (1483, 'quantity'), (1484, 'quarter'), (1485, 'quarter-mile'), (1486, 'question'), (1487, 'questioned'), (1488, 'questions'), (1489, 'quickly'), (1490, 'quiet'), (1491, 'quietly'), (1492, 'quite'), (1493, 'race'), (1494, 'racing'), (1495, 'radius'), (1496, 'rags'), (1497, 'rain'), (1498, 'rambled'), (1499, 'ran'), (1500, 'ran]'), (1501, 'rapidly'), (1502, 'rate'), (1503, 'rather'), (1504, 'rattling'), (1505, 're'), (1506, 'reached'), (1507, 'read'), (1508, 'readiness'), (1509, 'ready'), (1510, 'real'), (1511, 'realized'), (1512, 'really'), (1513, 'reappeared'), (1514, 'reason'), (1515, 'reasoner'), (1516, 'reasoning'), (1517, 'recapitulate'), (1518, 'receipted'), (1519, 'received'), (1520, 'receiving'), (1521, 'recent'), (1522, 'recharging'), (1523, 'recognize'), (1524, 'recognized'), (1525, 'recognizing'), (1526, 'recommend'), (1527, 'record'), (1528, 'recovering'), (1529, 'red'), (1530, 'red-brick'), (1531, 'reds'), (1532, 'regard'), (1533, 'registered'), (1534, 'relative'), (1535, 'remain'), (1536, 'remained'), (1537, 'remains'), (1538, 'remarkable'), (1539, 'remarked'), (1540, 'remarks'), (1541, 'remember'), (1542, 'remove'), (1543, 'repeated'), (1544, 'replaced'), (1545, 'reply'), (1546, 'reporters'), (1547, 'reports'), (1548, 'request'), (1549, 'rest'), (1550, 'rested'), (1551, 'retired'), (1552, 'return'), (1553, 'returned'), (1554, 'reward'), (1555, 'rheumatism'), (1556, 'rich'), (1557, 'right'), (1558, 'rim'), (1559, 'ring'), (1560, 'rise'), (1561, 'rising'), (1562, 'risk'), (1563, 'rival'), (1564, 'road'), (1565, 'roaming'), (1566, 'roared'), (1567, 'rode'), (1568, 'room'), (1569, 'rooms'), (1570, 'rough'), (1571, 'round'), (1572, 'roused'), (1573, 'route'), (1574, 'row'), (1575, 'rubbed'), (1576, 'ruddy'), (1577, 'rule'), (1578, 'run'), (1579, 'running'), (1580, 'rush'), (1581, 'rushed'), (1582, 's'), (1583, 'safe'), (1584, 'said'), (1585, 'same'), (1586, 'sane'), (1587, 'sat'), (1588, 'satisfied'), (1589, 'savage'), (1590, 'saved'), (1591, 'saving'), (1592, 'saw'), (1593, 'say'), (1594, 'says'), (1595, 'scene'), (1596, 'scoured'), (1597, 'scratched'), (1598, 'seal-skin'), (1599, 'search'), (1600, 'searched'), (1601, 'seat'), (1602, 'seated'), (1603, 'second'), (1604, 'secret'), (1605, 'securing'), (1606, 'see'), (1607, 'seeing'), (1608, 'seem'), (1609, 'seemed'), (1610, 'seen'), (1611, 'seldom'), (1612, 'self-defence'), (1613, 'sell'), (1614, 'sense'), (1615, 'sent'), (1616, 'servant'), (1617, 'servants'), (1618, 'serve'), (1619, 'served'), (1620, 'service'), (1621, 'set'), (1622, 'setting'), (1623, 'settle'), (1624, 'settles'), (1625, 'seven'), (1626, 'several'), (1627, 'shall'), (1628, 'sharp'), (1629, 'shattered'), (1630, 'she'), (1631, 'sheep'), (1632, 'shield'), (1633, 'shoe'), (1634, 'shoes'), (1635, 'shone'), (1636, 'shook'), (1637, 'short'), (1638, 'shorter'), (1639, 'shot'), (1640, 'should'), (1641, 'shoulders'), (1642, 'shout'), (1643, 'shouted'), (1644, 'show'), (1645, 'showed'), (1646, 'shown'), (1647, 'shows'), (1648, 'shrug'), (1649, 'shrugged'), (1650, 'shut'), (1651, 'side'), (1652, 'side-whiskers'), (1653, 'sifting'), (1654, 'sign'), (1655, 'significance'), (1656, 'signs'), (1657, 'silence'), (1658, 'silent'), (1659, 'silk'), (1660, 'silver'), (1661, 'simple'), (1662, 'simply'), (1663, 'since'), (1664, 'single'), (1665, 'singular'), (1666, 'sinister'), (1667, 'sink'), (1668, 'sir'), (1669, 'sir;'), (1670, 'sitting'), (1671, 'sitting-room'), (1672, 'situated'), (1673, 'situation'), (1674, 'six'), (1675, 'sixty'), (1676, 'sketch'), (1677, 'skin'), (1678, 'sky'), (1679, 'sky-line'), (1680, 'sleep'), (1681, 'sleepers'), (1682, 'sleeps'), (1683, 'sleeve'), (1684, 'sleeves'), (1685, 'slept'), (1686, 'slight'), (1687, 'sloped'), (1688, 'sloping'), (1689, 'slowly'), (1690, 'small'), (1691, 'smiled'), (1692, 'smoke'), (1693, 'sneak'), (1694, 'sneer'), (1695, 'so'), (1696, 'soft'), (1697, 'sold'), (1698, 'some'), (1699, 'something'), (1700, 'somewhat'), (1701, 'sorry'), (1702, 'sound'), (1703, 'soundest'), (1704, 'sovereigns'), (1705, 'sovs'), (1706, 'sparsely'), (1707, 'special'), (1708, 'spirited'), (1709, 'spirits'), (1710, 'spite'), (1711, 'spoke'), (1712, 'sporting'), (1713, 'sportsman;'), (1714, 'spot'), (1715, 'sprang'), (1716, 'squandered'), (1717, 'square'), (1718, 'stable'), (1719, 'stable-boy'), (1720, 'stable-lad'), (1721, 'stable-lads'), (1722, 'stables'), (1723, 'stall'), (1724, 'stamped'), (1725, 'stand'), (1726, 'standing'), (1727, 'stared'), (1728, 'start'), (1729, 'started'), (1730, 'state'), (1731, 'stated'), (1732, 'statement'), (1733, 'stating'), (1734, 'station'), (1735, 'station—the'), (1736, 'stay'), (1737, 'steel'), (1738, 'steeples'), (1739, 'step'), (1740, 'stepped'), (1741, 'stick'), (1742, 'still'), (1743, 'stirring'), (1744, 'stock'), (1745, 'stone'), (1746, 'stood'), (1747, 'stop'), (1748, 'storm'), (1749, 'straight'), (1750, 'strain'), (1751, 'strange'), (1752, 'stranger'), (1753, 'stream'), (1754, 'stretched'), (1755, 'stretching'), (1756, 'stripes'), (1757, 'stripped'), (1758, 'strode'), (1759, 'stroke'), (1760, 'strong'), (1761, 'strongest'), (1762, 'struck'), (1763, 'struggle'), (1764, 'struggles'), (1765, 'study'), (1766, 'stupor'), (1767, 'subcutaneously'), (1768, 'subordinate'), (1769, 'subtler'), (1770, 'succumbed'), (1771, 'such'), (1772, 'sudden'), (1773, 'suddenly'), (1774, 'suffering'), (1775, 'sufficiently'), (1776, 'suggested'), (1777, 'suggestion'), (1778, 'suggests'), (1779, 'suit'), (1780, 'summer'), (1781, 'sums'), (1782, 'sun'), (1783, 'sunk'), (1784, 'superb'), (1785, 'supper'), (1786, 'suppose'), (1787, 'supposing'), (1788, 'supposition'), (1789, 'suppressed'), (1790, 'sure'), (1791, 'surely'), (1792, 'surer'), (1793, 'surgery'), (1794, 'surmise'), (1795, 'surpass'), (1796, 'surprise'), (1797, 'surprised'), (1798, 'suspicion'), (1799, 'sweetest'), (1800, 'swept'), (1801, 'swinging'), (1802, 'sworn'), (1803, 'systematic'), (1804, 't'), (1805, 'table'), (1806, 'tail'), (1807, 'take'), (1808, 'taken'), (1809, 'taking'), (1810, 'talk'), (1811, 'tall'), (1812, 'tallow'), (1813, 'task'), (1814, 'taste'), (1815, 'tasteless'), (1816, 'tastes'), (1817, 'tear'), (1818, 'telegrams'), (1819, 'telegraph'), (1820, 'tell'), (1821, 'tells'), (1822, 'temples'), (1823, 'ten'), (1824, 'ten-pound'), (1825, 'tendon-nicking'), (1826, 'tendons'), (1827, 'terrible'), (1828, 'test'), (1829, 'than'), (1830, 'that'), (1831, 'the'), (1832, 'their'), (1833, 'them'), (1834, 'themselves'), (1835, 'then'), (1836, 'theories'), (1837, 'theorists'), (1838, 'theory'), (1839, 'there'), (1840, 'therefore'), (1841, 'these'), (1842, 'they'), (1843, 'thief'), (1844, 'thigh'), (1845, 'thin'), (1846, 'thing'), (1847, 'things'), (1848, 'think'), (1849, 'third'), (1850, 'thirty'), (1851, 'thirty-seven'), (1852, 'this'), (1853, 'thoroughbred'), (1854, 'those'), (1855, 'though'), (1856, 'thought'), (1857, 'thoughts'), (1858, 'thousand'), (1859, 'three'), (1860, 'threw'), (1861, 'through'), (1862, 'thrown'), (1863, 'thrust'), (1864, 'thumb'), (1865, 'thunderstruck'), (1866, 'tilted'), (1867, 'time'), (1868, 'tin'), (1869, 'tinged'), (1870, 'tip'), (1871, 'to'), (1872, 'to-morrow'), (1873, 'to-night'), (1874, 'tobacco'), (1875, 'toes'), (1876, 'together'), (1877, 'told'), (1878, 'too'), (1879, 'took'), (1880, 'topic'), (1881, 'tossed'), (1882, 'touch'), (1883, 'touched'), (1884, 'touts'), (1885, 'towards'), (1886, 'town'), (1887, 'trace'), (1888, 'traces'), (1889, 'track'), (1890, 'tracks'), (1891, 'tragedy'), (1892, 'tragic'), (1893, 'trail'), (1894, 'train'), (1895, 'trainer'), (1896, 'trainers'), (1897, 'training'), (1898, 'training-stable'), (1899, 'training-stables'), (1900, 'trampled'), (1901, 'travelling-cap'), (1902, 'treated'), (1903, 'trembling'), (1904, 'tricks'), (1905, 'tried'), (1906, 'trifle'), (1907, 'trim'), (1908, 'trimming'), (1909, 'triumph'), (1910, 'trouble'), (1911, 'trudged'), (1912, 'true'), (1913, 'trust'), (1914, 'trying'), (1915, 'turf'), (1916, 'turn'), (1917, 'turned'), (1918, 'turning'), (1919, 'turns'), (1920, 'tweeds'), (1921, 'twenty'), (1922, 'twenty-guinea'), (1923, 'twice'), (1924, 'two'), (1925, 'unable'), (1926, 'uncommon'), (1927, 'undeniable'), (1928, 'under'), (1929, 'understand'), (1930, 'understanding'), (1931, 'undertake'), (1932, 'undoubtedly'), (1933, 'uneasy'), (1934, 'unfortunate'), (1935, 'unique'), (1936, 'unlikely'), (1937, 'unlocked'), (1938, 'unloose'), (1939, 'unofficial'), (1940, 'unravelled'), (1941, 'unthinkable'), (1942, 'until'), (1943, 'unturned'), (1944, 'unworthy'), (1945, 'up'), (1946, 'upon'), (1947, 'upset'), (1948, 'upstairs'), (1949, 'up—with'), (1950, 'us'), (1951, 'use'), (1952, 'used'), (1953, 'usual'), (1954, 'utterly'), (1955, 'vaguely'), (1956, 'value'), (1957, 've'), (1958, 'very'), (1959, 'vesta'), (1960, 'vestas'), (1961, 'view'), (1962, 'vigorously'), (1963, 'villa'), (1964, 'villas'), (1965, 'violent'), (1966, 'violently'), (1967, 'visible'), (1968, 'visited'), (1969, 'visitor'), (1970, 'voices'), (1971, 'volunteered'), (1972, 'wagged'), (1973, 'waistcoat'), (1974, 'wait'), (1975, 'waited'), (1976, 'waiting'), (1977, 'waking'), (1978, 'walk'), (1979, 'walked'), (1980, 'walking'), (1981, 'wandering'), (1982, 'want'), (1983, 'wanted'), (1984, 'wants'), (1985, 'warned'), (1986, 'was'), (1987, 'wash'), (1988, 'wasted'), (1989, 'watch'), (1990, 'watching'), (1991, 'watchman'), (1992, 'water-tap'), (1993, 'watered'), (1994, 'waving'), (1995, 'wax'), (1996, 'way'), (1997, 'ways'), (1998, 'we'), (1999, 'weapon'), (2000, 'weighing'), (2001, 'weighing-chair'), (2002, 'weighted'), (2003, 'weights'), (2004, 'well'), (2005, 'well-known'), (2006, 'went'), (2007, 'were'), (2008, 'west'), (2009, 'westward'), (2010, 'wet'), (2011, 'what'), (2012, 'whatever'), (2013, 'when'), (2014, 'where'), (2015, 'whether'), (2016, 'which'), (2017, 'while'), (2018, 'whirled'), (2019, 'whispered'), (2020, 'whistled'), (2021, 'white'), (2022, 'who'), (2023, 'whole'), (2024, 'whom'), (2025, 'why'), (2026, 'wide'), (2027, 'wife'), (2028, 'wild'), (2029, 'wilderness'), (2030, 'will'), (2031, 'win'), (2032, 'winced'), (2033, 'wind'), (2034, 'window'), (2035, 'wine'), (2036, 'winning'), (2037, 'wire'), (2038, 'wish'), (2039, 'wished'), (2040, 'with'), (2041, 'within'), (2042, 'without'), (2043, 'woman'), (2044, 'women'), (2045, 'won'), (2046, 'wonder'), (2047, 'wonders'), (2048, 'wood'), (2049, 'word'), (2050, 'words'), (2051, 'wore'), (2052, 'work'), (2053, 'working'), (2054, 'world'), (2055, 'worn'), (2056, 'worth'), (2057, 'would'), (2058, 'wound'), (2059, 'wounded'), (2060, 'write'), (2061, 'yards'), (2062, 'year'), (2063, 'years'), (2064, 'yellow'), (2065, 'yesterday'), (2066, 'yet'), (2067, 'yonder'), (2068, 'you'), (2069, 'young'), (2070, 'your'), (2071, 'yourself'), (2072, 'zealous'), (2073, '£200'), (2074, '£300')])"
      ]
     },
     "execution_count": 79,
     "metadata": {},
     "output_type": "execute_result"
    }
   ],
   "source": [
    "reverse_vocab={index: token for token, index in vocab.items()}\n",
    "reverse_vocab.items()\n"
   ]
  },
  {
   "cell_type": "code",
   "execution_count": 80,
   "id": "7b2097ff",
   "metadata": {},
   "outputs": [
    {
     "name": "stdout",
     "output_type": "stream",
     "text": [
      "Because I made a blunder , my dear Watson—which is , I am afraid , a more common occurrence than any one would think who only knew me through your memoirs .\n"
     ]
    }
   ],
   "source": [
    "print(\" \".join([reverse_vocab[id]for id in ids]))\n"
   ]
  },
  {
   "cell_type": "code",
   "execution_count": 81,
   "id": "a8ae5ce9",
   "metadata": {},
   "outputs": [],
   "source": [
    "class SimpleTokenizer: \n",
    "    def __init__(self,vocab):\n",
    "        self.str_to_int= vocab\n",
    "        self.int_to_str={index:token for token, index in vocab.items()}\n",
    "\n",
    "    def encode(self, text):\n",
    "        tokens= re.split(r'([.,!?:()\\'“”\"]|\\s)', text)\n",
    "        tokens=[item if item in self.str_to_int else \"<|unk|>\" for item in tokens if item.split()]\n",
    "        ids= [self.str_to_int[token]for token in tokens]\n",
    "        return ids\n",
    "    \n",
    "    def decode(self, ids):\n",
    "        text= \" \".join([self.int_to_str[id]for id in ids])\n",
    "        text= re.sub( r'\\s+([.,!?:()\\'“”\"])', r'\\1',text)\n",
    "        return text\n"
   ]
  },
  {
   "cell_type": "code",
   "execution_count": 82,
   "id": "77d039e0",
   "metadata": {},
   "outputs": [],
   "source": [
    "tokenizer= SimpleTokenizer(vocab)\n"
   ]
  },
  {
   "cell_type": "code",
   "execution_count": 83,
   "id": "67190480",
   "metadata": {},
   "outputs": [],
   "source": [
    "phrase=\"There were, also, divers ladies in New York, Newport, and elsewhere, and celebrated for their palatial homes, their jewels, and their daughters, who were anxious to know how Bellew would comport himself under his disappointment.\"\n",
    "phrase2=\"There was a fringe of flowering geraniums in the window; the two women had to stretch their heads over them.\"\n",
    "phrase3=\"An affair of some mystery, remarked Mr. Gryce, as we halted at the corner to take a final look at the house and its environs.\""
   ]
  },
  {
   "cell_type": "code",
   "execution_count": 84,
   "id": "7a94a6d2",
   "metadata": {},
   "outputs": [
    {
     "name": "stdout",
     "output_type": "stream",
     "text": [
      "[186, 2007, 6, 279, 6, 11, 1113, 1037, 125, 11, 6, 11, 6, 294, 11, 6, 294, 11, 858, 1832, 11, 11, 6, 1832, 11, 6, 294, 1832, 11, 6, 2022, 2007, 11, 1871, 1107, 1007, 11, 2057, 11, 988, 1928, 989, 11, 7]\n",
      "[186, 1986, 231, 11, 1317, 11, 11, 1037, 1831, 11, 1831, 1924, 2044, 947, 1871, 11, 1832, 11, 1351, 1833, 7]\n",
      "[21, 261, 1317, 1698, 1264, 6, 1539, 119, 7, 11, 6, 331, 1998, 11, 344, 1831, 578, 1871, 1807, 231, 835, 1180, 344, 1831, 1005, 294, 1082, 11, 7]\n"
     ]
    }
   ],
   "source": [
    "ids= tokenizer.encode(phrase)\n",
    "print(ids)\n",
    "\n",
    "ids2= tokenizer.encode(phrase2)\n",
    "print(ids2)\n",
    "\n",
    "ids3= tokenizer.encode(phrase3)\n",
    "print(ids3)"
   ]
  },
  {
   "cell_type": "code",
   "execution_count": 85,
   "id": "fffa571f",
   "metadata": {},
   "outputs": [
    {
     "name": "stdout",
     "output_type": "stream",
     "text": [
      "There were, also, <|unk|> ladies in New <|unk|>, <|unk|>, and <|unk|>, and <|unk|> for their <|unk|> <|unk|>, their <|unk|>, and their <|unk|>, who were <|unk|> to know how <|unk|> would <|unk|> himself under his <|unk|>.\n",
      "There was a <|unk|> of <|unk|> <|unk|> in the <|unk|> the two women had to <|unk|> their <|unk|> over them.\n",
      "An affair of some mystery, remarked Mr. <|unk|>, as we <|unk|> at the corner to take a final look at the house and its <|unk|>.\n"
     ]
    }
   ],
   "source": [
    "text= tokenizer.decode(ids)\n",
    "print(text)\n",
    "\n",
    "text2= tokenizer.decode(ids2)\n",
    "print(text2)\n",
    "\n",
    "text3= tokenizer.decode(ids3)\n",
    "print(text3)"
   ]
  },
  {
   "cell_type": "code",
   "execution_count": 86,
   "id": "84e02b36",
   "metadata": {},
   "outputs": [],
   "source": [
    "import tiktoken"
   ]
  },
  {
   "cell_type": "code",
   "execution_count": 87,
   "id": "6a14d1b8",
   "metadata": {},
   "outputs": [],
   "source": [
    "tiktokenizer= tiktoken.get_encoding(\"gpt2\")"
   ]
  },
  {
   "cell_type": "code",
   "execution_count": 88,
   "id": "68b640a4",
   "metadata": {},
   "outputs": [],
   "source": [
    "phrase= \"idndiewsoismsowm\""
   ]
  },
  {
   "cell_type": "code",
   "execution_count": 89,
   "id": "f35f2cc5",
   "metadata": {},
   "outputs": [
    {
     "name": "stdout",
     "output_type": "stream",
     "text": [
      "[312, 358, 769, 568, 6583, 322, 76]\n"
     ]
    }
   ],
   "source": [
    "ids= tiktokenizer.encode(phrase)\n",
    "print(ids)"
   ]
  },
  {
   "cell_type": "code",
   "execution_count": 90,
   "id": "4e537227",
   "metadata": {},
   "outputs": [
    {
     "data": {
      "text/plain": [
       "'idndiewsoismsowm'"
      ]
     },
     "execution_count": 90,
     "metadata": {},
     "output_type": "execute_result"
    }
   ],
   "source": [
    "tiktokenizer.decode(ids)"
   ]
  }
 ],
 "metadata": {
  "kernelspec": {
   "display_name": "Python 3",
   "language": "python",
   "name": "python3"
  },
  "language_info": {
   "codemirror_mode": {
    "name": "ipython",
    "version": 3
   },
   "file_extension": ".py",
   "mimetype": "text/x-python",
   "name": "python",
   "nbconvert_exporter": "python",
   "pygments_lexer": "ipython3",
   "version": "3.12.3"
  }
 },
 "nbformat": 4,
 "nbformat_minor": 5
}
