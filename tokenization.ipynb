{
 "cells": [
  {
   "cell_type": "markdown",
   "id": "f592fbb0",
   "metadata": {},
   "source": [
    "# Tokenization\n",
    "\n",
    "_Tokenization_ is the process of converting a body of text into individual _tokens_, e.g., words and punctuation characters. This is the first step for most Natural Language Processing (NLP) tasks, including preparing data for training an LLM. Let's see how it's done!"
   ]
  },
  {
   "cell_type": "markdown",
   "id": "09f17e49",
   "metadata": {},
   "source": [
    "## Some sample text"
   ]
  },
  {
   "cell_type": "code",
   "execution_count": 49,
   "id": "4bc42f87",
   "metadata": {},
   "outputs": [
    {
     "name": "stdout",
     "output_type": "stream",
     "text": [
      "This is a test! Or is this not a test? Test it to be sure. :)\n",
      "This sample text has 61 characters.\n"
     ]
    }
   ],
   "source": [
    "text = \"This is a test! Or is this not a test? Test it to be sure. :)\"\n",
    "print(text)\n",
    "print(f\"This sample text has {len(text)} characters.\")"
   ]
  },
  {
   "cell_type": "code",
   "execution_count": 50,
   "id": "e87c5517",
   "metadata": {},
   "outputs": [
    {
     "name": "stdout",
     "output_type": "stream",
     "text": [
      "['This', 'is', 'a', 'test!', 'Or', 'is', 'this', 'not', 'a', 'test?', 'Test', 'it', 'to', 'be', 'sure.', ':)']\n"
     ]
    }
   ],
   "source": [
    "print(text.split())"
   ]
  },
  {
   "cell_type": "code",
   "execution_count": 51,
   "id": "0a50333c",
   "metadata": {},
   "outputs": [
    {
     "name": "stdout",
     "output_type": "stream",
     "text": [
      "\u001b[0;31mSignature:\u001b[0m \u001b[0mstr\u001b[0m\u001b[0;34m.\u001b[0m\u001b[0msplit\u001b[0m\u001b[0;34m(\u001b[0m\u001b[0mself\u001b[0m\u001b[0;34m,\u001b[0m \u001b[0;34m/\u001b[0m\u001b[0;34m,\u001b[0m \u001b[0msep\u001b[0m\u001b[0;34m=\u001b[0m\u001b[0;32mNone\u001b[0m\u001b[0;34m,\u001b[0m \u001b[0mmaxsplit\u001b[0m\u001b[0;34m=\u001b[0m\u001b[0;34m-\u001b[0m\u001b[0;36m1\u001b[0m\u001b[0;34m)\u001b[0m\u001b[0;34m\u001b[0m\u001b[0;34m\u001b[0m\u001b[0m\n",
      "\u001b[0;31mDocstring:\u001b[0m\n",
      "Return a list of the substrings in the string, using sep as the separator string.\n",
      "\n",
      "  sep\n",
      "    The separator used to split the string.\n",
      "\n",
      "    When set to None (the default value), will split on any whitespace\n",
      "    character (including \\n \\r \\t \\f and spaces) and will discard\n",
      "    empty strings from the result.\n",
      "  maxsplit\n",
      "    Maximum number of splits.\n",
      "    -1 (the default value) means no limit.\n",
      "\n",
      "Splitting starts at the front of the string and works to the end.\n",
      "\n",
      "Note, str.split() is mainly useful for data that has been intentionally\n",
      "delimited.  With natural text that includes punctuation, consider using\n",
      "the regular expression module.\n",
      "\u001b[0;31mType:\u001b[0m      method_descriptor"
     ]
    }
   ],
   "source": [
    "str.split?"
   ]
  },
  {
   "cell_type": "code",
   "execution_count": 52,
   "id": "f7f76f65",
   "metadata": {},
   "outputs": [],
   "source": [
    "import re"
   ]
  },
  {
   "cell_type": "code",
   "execution_count": 53,
   "id": "1d09bdde",
   "metadata": {},
   "outputs": [
    {
     "name": "stdout",
     "output_type": "stream",
     "text": [
      "['!', ')', '.', ':', '?', 'Or', 'Test', 'This', 'a', 'be', 'is', 'it', 'not', 'sure', 'test', 'this', 'to']\n"
     ]
    }
   ],
   "source": [
    "tokens= re.split(r'([.!?:()]|\\s)', text)\n",
    "tokens=[item for item in tokens if item.split()]\n",
    "tokens = sorted( list(set(tokens)))\n",
    "print(tokens)"
   ]
  },
  {
   "cell_type": "code",
   "execution_count": 54,
   "id": "da7940e7",
   "metadata": {},
   "outputs": [
    {
     "name": "stdout",
     "output_type": "stream",
     "text": [
      "dict_items([('!', 0), (')', 1), ('.', 2), (':', 3), ('?', 4), ('Or', 5), ('Test', 6), ('This', 7), ('a', 8), ('be', 9), ('is', 10), ('it', 11), ('not', 12), ('sure', 13), ('test', 14), ('this', 15), ('to', 16)])\n"
     ]
    }
   ],
   "source": [
    "vocab= {token:index for index, token in enumerate( tokens)}\n",
    "print(vocab.items())"
   ]
  },
  {
   "cell_type": "code",
   "execution_count": 55,
   "id": "2fc55eb4",
   "metadata": {},
   "outputs": [
    {
     "name": "stdout",
     "output_type": "stream",
     "text": [
      "SILVER BLAZE\n",
      "\n",
      "\"I AM afraid, Watson, that I shall have to go,\" said Holmes, as we sat down together t\n"
     ]
    }
   ],
   "source": [
    "with open(\"SILVERBLAZE.txt\", \"r\") as f:\n",
    "    raw_text= f.read()\n",
    "print(raw_text[:100])"
   ]
  },
  {
   "cell_type": "code",
   "execution_count": 69,
   "id": "3cc596b3",
   "metadata": {},
   "outputs": [
    {
     "name": "stdout",
     "output_type": "stream",
     "text": [
      "11564\n",
      "2075\n"
     ]
    }
   ],
   "source": [
    "tokens= re.split(r'([.,!?:()\\'“”\"]|\\s)', raw_text)\n",
    "tokens=[item for item in tokens if item.split()]\n",
    "tokens.extend([\"<|unk|>\", \"<|endoftext|>\"])\n",
    "print(len(tokens))\n",
    "\n",
    "tokens = sorted( list(set(tokens)))\n",
    "print(len(tokens))"
   ]
  },
  {
   "cell_type": "code",
   "execution_count": 70,
   "id": "75458ceb",
   "metadata": {},
   "outputs": [
    {
     "name": "stdout",
     "output_type": "stream",
     "text": [
      "['!', '\"', '&', \"'\", '(', ')', ',', '.', '1000', '50', '<|endoftext|>', '<|unk|>', '?', 'A', 'AM', 'About', 'Above', 'Afterwards', 'Again', 'Ah']\n"
     ]
    }
   ],
   "source": [
    "print(tokens[:20])"
   ]
  },
  {
   "cell_type": "code",
   "execution_count": 71,
   "id": "bcf79c10",
   "metadata": {},
   "outputs": [
    {
     "data": {
      "text/plain": [
       "dict_items([('!', 0), ('\"', 1), ('&', 2), (\"'\", 3), ('(', 4), (')', 5), (',', 6), ('.', 7), ('1000', 8), ('50', 9), ('<|endoftext|>', 10), ('<|unk|>', 11), ('?', 12), ('A', 13), ('AM', 14), ('About', 15), ('Above', 16), ('Afterwards', 17), ('Again', 18), ('Ah', 19), ('All', 20), ('An', 21), ('And', 22), ('As', 23), ('At', 24), ('BLAZE', 25), ('Backwater', 26), ('Balmoral', 27), ('Baxter', 28), ('Bayard', 29), ('Be', 30), ('Because', 31), ('Before', 32), ('Black', 33), ('Blaze', 34), ('Bless', 35), ('Blue', 36), ('Bond', 37), ('Brown', 38), ('But', 39), ('By', 40), ('Can', 41), ('Capital', 42), ('Cavendish', 43), ('Certainly', 44), ('Chronicle', 45), ('Cinnamon', 46), ('Clapham', 47), ('Co', 48), ('Colonel', 49), ('Cup', 50), ('Cup—Silver', 51), ('D', 52), ('Dartmoor', 53), ('Dartmoor;', 54), ('Dawson', 55), ('Dear', 56), ('Derbyshire', 57), ('Desborough', 58), ('Devonshire', 59), ('Did', 60), ('Do', 61), ('Don', 62), ('Dr', 63), ('Drive', 64), ('Duke', 65), ('Edith', 66), ('England', 67), ('English', 68), ('Every', 69), ('Exceedingly', 70), ('Excellent', 71), ('Excuse', 72), ('Exeter', 73), ('Finally', 74), ('Fitzroy', 75), ('Five', 76), ('For', 77), ('Four', 78), ('Fresh', 79), ('From', 80), ('Go', 81), ('Good-evening', 82), ('Gregory', 83), ('Has', 84), ('Have', 85), ('He', 86), ('Heath', 87), ('Her', 88), ('Here', 89), ('His', 90), ('Holmes', 91), ('How', 92), ('However', 93), ('Hullo', 94), ('Hum', 95), ('Hunter', 96), ('I', 97), ('If', 98), ('Immediately', 99), ('In', 100), ('Indeed', 101), ('Inspector', 102), ('Iris', 103), ('Is', 104), ('It', 105), ('John', 106), ('Junction', 107), ('King', 108), ('Lesurier', 109), ('Let', 110), ('Liberal', 111), ('London', 112), ('Lord', 113), ('Madame', 114), ('Mapleton', 115), ('Master', 116), ('Might', 117), ('Monday', 118), ('Mr', 119), ('Mrs', 120), ('My', 121), ('Ned', 122), ('Negro', 123), ('Never', 124), ('New', 125), ('Newton', 126), ('No', 127), ('None;', 128), ('Nor', 129), ('Not', 130), ('Nothing', 131), ('Now', 132), ('Obviously', 133), ('Of', 134), ('Oh', 135), ('On', 136), ('Once', 137), ('One', 138), ('Only', 139), ('Our', 140), ('P', 141), ('Paddington', 142), ('Penang-lawyer', 143), ('Perhaps', 144), ('Pink', 145), ('Plate', 146), ('Plymouth', 147), ('Powdered', 148), ('Pugilist', 149), ('Pullman', 150), ('Purple', 151), ('Pyland', 152), ('Quite', 153), ('Rasper', 154), ('Reading', 155), ('Red', 156), ('Ross', 157), ('SILVER', 158), ('Say', 159), ('Scoundrel', 160), ('Second', 161), ('See', 162), ('Shall', 163), ('She', 164), ('Sherlock', 165), ('Should', 166), ('Silas', 167), ('Silver', 168), ('Simpson', 169), ('Singleford', 170), ('So', 171), ('Some', 172), ('Somebody', 173), ('Sometimes', 174), ('Somomy', 175), ('Straker', 176), ('Street', 177), ('Such', 178), ('Surely', 179), ('Tavistock', 180), ('Telegraph', 181), ('Ten', 182), ('That', 183), ('The', 184), ('Then', 185), ('There', 186), ('Therefore', 187), ('These', 188), ('They', 189), ('Third', 190), ('This', 191), ('Those', 192), ('Though', 193), ('Three', 194), ('Thursday', 195), ('To', 196), ('Tuesday', 197), ('Twenty-two', 198), ('Two', 199), ('Under', 200), ('Undoubtedly', 201), ('Up', 202), ('Very', 203), ('Victoria', 204), ('Villain', 205), ('Wardlaw', 206), ('Watson', 207), ('Watson;', 208), ('Watson—which', 209), ('We', 210), ('Weiss', 211), ('Well', 212), ('Were', 213), ('Wessex', 214), ('What', 215), ('When', 216), ('Where', 217), ('Which', 218), ('Who', 219), ('Why', 220), ('William', 221), ('Winchester', 222), ('Wonderful', 223), ('Yellow', 224), ('Yes', 225), ('Yes;', 226), ('Yet', 227), ('You', 228), ('Your', 229), ('[it', 230), ('a', 231), ('abductor', 232), ('ability', 233), ('about', 234), ('above', 235), ('absentees', 236), ('absolute', 237), ('absolutely', 238), ('absorbed', 239), ('abundant', 240), ('access', 241), ('according', 242), ('account', 243), ('account;', 244), ('accounts', 245), ('accused', 246), ('accustomed', 247), ('acknowledges', 248), ('acquiring', 249), ('across', 250), ('acted', 251), ('action', 252), ('actions', 253), ('add', 254), ('added', 255), ('address', 256), ('addressed', 257), ('admittance', 258), ('advantage', 259), ('advice', 260), ('affair', 261), ('afraid', 262), ('after', 263), ('again', 264), ('against', 265), ('age', 266), ('agent', 267), ('agents', 268), ('agitation', 269), ('ago', 270), ('air', 271), ('alert', 272), ('alighted', 273), ('all', 274), ('almost', 275), ('alone', 276), ('along', 277), ('already', 278), ('also', 279), ('although', 280), ('altogether', 281), ('aluminum', 282), ('always', 283), ('am', 284), ('amazement', 285), ('amiss', 286), ('amnesty', 287), ('among', 288), ('amount', 289), ('amusement', 290), ('an', 291), ('analysis', 292), ('ancestor', 293), ('and', 294), ('angrily', 295), ('angry', 296), ('animals', 297), ('announced', 298), ('annoyance', 299), ('another', 300), ('answer', 301), ('answered', 302), ('anticipate', 303), ('anxiety', 304), ('any', 305), ('anyhow', 306), ('anything', 307), ('apart', 308), ('apologies', 309), ('apology', 310), ('apparently', 311), ('appeared', 312), ('appears', 313), ('apple', 314), ('appointment', 315), ('appreciable', 316), ('appreciated', 317), ('approached', 318), ('are', 319), ('argue', 320), ('arm', 321), ('armed', 322), ('arms', 323), ('arouse', 324), ('aroused', 325), ('arrest', 326), ('arrested', 327), ('arresting', 328), ('arrival', 329), ('art', 330), ('as', 331), ('ascending', 332), ('ashy', 333), ('aside', 334), ('ask', 335), ('asked', 336), ('asphalt', 337), ('assailants', 338), ('associated', 339), ('assurance', 340), ('assure', 341), ('astonishment', 342), ('astute', 343), ('at', 344), ('attempt', 345), ('attends', 346), ('attention', 347), ('avenge', 348), ('awaiting', 349), ('away', 350), ('awoke', 351), ('back', 352), ('bad', 353), ('bag', 354), ('baldly', 355), ('bank', 356), ('barked', 357), ('basis', 358), ('bay', 359), ('be', 360), ('beads', 361), ('bear', 362), ('beard', 363), ('bearing', 364), ('beast', 365), ('beat', 366), ('beautiful', 367), ('became', 368), ('because', 369), ('become', 370), ('becomes', 371), ('been', 372), ('before', 373), ('beg', 374), ('begged', 375), ('beginning', 376), ('begun', 377), ('behind', 378), ('being', 379), ('believe', 380), ('bell', 381), ('belongings', 382), ('belongs', 383), ('beside', 384), ('best', 385), ('bets', 386), ('better', 387), ('betting', 388), ('betting-book', 389), ('between', 390), ('beyond', 391), ('bill', 392), ('bills', 393), ('birth', 394), ('black', 395), ('blade', 396), ('blind', 397), ('blood', 398), ('blood-stains', 399), ('blow', 400), ('blown', 401), ('blows', 402), ('blue', 403), ('blunder', 404), ('bluntly', 405), ('bluster', 406), ('body', 407), ('bolt', 408), ('bolted', 409), ('book-making', 410), ('boots', 411), ('bore', 412), ('boss', 413), ('both', 414), ('bottom', 415), ('bound', 416), ('bowed', 417), ('bowl-shaped', 418), ('box', 419), ('boy', 420), ('brain', 421), ('brains', 422), ('brambles', 423), ('branch', 424), ('breadth', 425), ('breakfast', 426), ('breath', 427), ('bridle', 428), ('brier-root', 429), ('brilliant', 430), ('brilliantly', 431), ('bringing', 432), ('brink', 433), ('briskly', 434), ('broke', 435), ('broken', 436), ('bronze-colored', 437), ('brooding', 438), ('brought', 439), ('brow', 440), ('browns', 441), ('brows', 442), ('buildings', 443), ('built', 444), ('bully', 445), ('bullying', 446), ('bundle', 447), ('buried', 448), ('burned', 449), ('burst', 450), ('bush', 451), ('bushes', 452), ('business', 453), ('but', 454), ('buy', 455), ('by', 456), ('calculation', 457), ('call', 458), ('called', 459), ('calling', 460), ('came', 461), ('can', 462), ('candle', 463), ('cannot', 464), ('cantered', 465), ('cap', 466), ('car', 467), ('card', 468), ('care', 469), ('cared', 470), ('careful', 471), ('carefully', 472), ('carpet', 473), ('carriage', 474), ('carried', 475), ('carry', 476), ('carrying', 477), ('case', 478), ('cases', 479), ('cast', 480), ('cataract', 481), ('catastrophe', 482), ('catch', 483), ('caught', 484), ('caused', 485), ('cavalier', 486), ('ceased', 487), ('central', 488), ('centres', 489), ('certain', 490), ('certainly', 491), ('chaff-cutting', 492), ('chain', 493), ('chair', 494), ('challenge', 495), ('chance', 496), ('change', 497), ('characteristic', 498), ('characters', 499), ('charge', 500), ('charging', 501), ('charming', 502), ('checking', 503), ('chemist', 504), ('chest', 505), ('child', 506), ('children', 507), ('chin', 508), ('chip', 509), ('choose', 510), ('chosen', 511), ('chuckled', 512), ('cigar', 513), ('cigar-case', 514), ('circle', 515), ('circumstantial', 516), ('city', 517), ('clambered', 518), ('clasped', 519), ('clean', 520), ('clear', 521), ('clearness', 522), ('clears', 523), ('clever', 524), ('clock', 525), ('close', 526), ('closed', 527), ('cloth', 528), ('clothing', 529), ('clotted', 530), ('clubs', 531), ('clue', 532), ('cluster', 533), ('co-operation', 534), ('coachman', 535), ('coat', 536), ('coated', 537), ('coincidence', 538), ('cold', 539), ('colors', 540), ('come', 541), ('comfortable', 542), ('comfortably', 543), ('coming', 544), ('committed', 545), ('common', 546), ('companion', 547), ('company', 548), ('compared', 549), ('competent', 550), ('complete', 551), ('compound', 552), ('concealed', 553), ('concluded', 554), ('conclusion', 555), ('confer', 556), ('confess', 557), ('confidence', 558), ('confine', 559), ('confronted', 560), ('conjecture', 561), ('connect', 562), ('connection', 563), ('consider', 564), ('consisted', 565), ('consultant', 566), ('contain', 567), ('containing', 568), ('contents', 569), ('continued', 570), ('contractor', 571), ('contrary', 572), ('conversation', 573), ('conviction', 574), ('convinced', 575), ('convulsive', 576), ('cork', 577), ('corner', 578), ('correct', 579), ('corresponded', 580), ('costume', 581), ('could', 582), ('counsel', 583), ('country', 584), ('course', 585), ('covered', 586), ('coward', 587), ('cravat', 588), ('crawled', 589), ('creature', 590), ('cried', 591), ('crime', 592), ('cringed', 593), ('crossed', 594), ('culprit', 595), ('curious', 596), ('curiously', 597), ('curled', 598), ('curried', 599), ('curry', 600), ('curve', 601), ('curves', 602), ('cushions', 603), ('custom', 604), ('customer', 605), ('cut', 606), ('damned', 607), ('dapper', 608), ('dared', 609), ('dark', 610), ('darkness', 611), ('dashing', 612), ('day', 613), ('day-dreaming', 614), ('days', 615), ('dead', 616), ('deaf', 617), ('deal', 618), ('dear', 619), ('death', 620), ('debt', 621), ('deciding', 622), ('decision', 623), ('declared', 624), ('declares', 625), ('deepening', 626), ('deepest', 627), ('defence', 628), ('defended', 629), ('defer', 630), ('delicate', 631), ('delighted', 632), ('deny', 633), ('depression', 634), ('deprived', 635), ('descending', 636), ('described', 637), ('designs', 638), ('despair', 639), ('detach', 640), ('detail', 641), ('details', 642), ('detect', 643), ('detective', 644), ('detectives', 645), ('develop', 646), ('development', 647), ('developments', 648), ('devil', 649), ('devised', 650), ('devote', 651), ('dialogue', 652), ('did', 653), ('didn', 654), ('difficulties', 655), ('difficulty', 656), ('dipped', 657), ('direction', 658), ('disagreeable', 659), ('disappearance', 660), ('disappeared', 661), ('disappears', 662), ('disappointed', 663), ('discover', 664), ('disguise', 665), ('dish', 666), ('dishonest', 667), ('disk', 668), ('disposal', 669), ('dispose', 670), ('disregarding', 671), ('distance', 672), ('distant', 673), ('distrait', 674), ('district', 675), ('do', 676), ('dodge', 677), ('does', 678), ('dog', 679), ('doing', 680), ('don', 681), ('done', 682), ('door', 683), ('double', 684), ('doubt', 685), ('doubted', 686), ('dove-colored', 687), ('down', 688), ('drag', 689), ('drama', 690), ('draw', 691), ('drawn', 692), ('dress', 693), ('dressed', 694), ('dresses', 695), ('dressing', 696), ('dressing-table', 697), ('drew', 698), ('drink', 699), ('drive', 700), ('driver', 701), ('dropped', 702), ('drove', 703), ('drug', 704), ('drugged', 705), ('dry', 706), ('duplicate', 707), ('during', 708), ('duty', 709), ('each', 710), ('eager', 711), ('ear', 712), ('ear-flapped', 713), ('early', 714), ('earn', 715), ('earnestness', 716), ('ears', 717), ('earth', 718), ('easily', 719), ('eat', 720), ('eater', 721), ('eaves', 722), ('editions', 723), ('education', 724), ('effect', 725), ('effects', 726), ('either', 727), ('elderly', 728), ('element', 729), ('eliminated', 730), ('else', 731), ('embellishments', 732), ('emerged', 733), ('empty', 734), ('en', 735), ('encamped', 736), ('enclosure', 737), ('ended', 738), ('enjoy', 739), ('enormous', 740), ('enough', 741), ('ensued', 742), ('entered', 743), ('entirely', 744), ('entreaties', 745), ('entries', 746), ('enumerate', 747), ('envelope', 748), ('epidemic', 749), ('equally', 750), ('erroneous', 751), ('especially', 752), ('essential', 753), ('established', 754), ('establishment', 755), ('even', 756), ('evening', 757), ('event', 758), ('events', 759), ('ever', 760), ('every', 761), ('everything', 762), ('evidence', 763), ('evidently', 764), ('exactly', 765), ('examination', 766), ('examined', 767), ('examining', 768), ('excellent', 769), ('exception', 770), ('excited', 771), ('excitement', 772), ('exclaimed', 773), ('exercise', 774), ('exercised', 775), ('expect', 776), ('expected', 777), ('expedition', 778), ('expense', 779), ('expensive', 780), ('experience', 781), ('explained', 782), ('explanation', 783), ('explanations', 784), ('expression', 785), ('extraordinary', 786), ('extreme', 787), ('extremely', 788), ('eye', 789), ('eye-glass', 790), ('eyes', 791), ('eyes;', 792), ('face', 793), ('fact', 794), ('factor', 795), ('facts', 796), ('fact—from', 797), ('fact—of', 798), ('faded', 799), ('fading', 800), ('fail', 801), ('failed', 802), ('fails', 803), ('fair', 804), ('fakir', 805), ('fall', 806), ('falls', 807), ('familiar', 808), ('family', 809), ('famous', 810), ('fancy', 811), ('far', 812), ('fatal', 813), ('favor', 814), ('favorite', 815), ('feel', 816), ('feeling', 817), ('feet', 818), ('fell', 819), ('fellow', 820), ('fellow-grooms', 821), ('felt', 822), ('ferns', 823), ('fetched', 824), ('few', 825), ('field', 826), ('field-glass', 827), ('fierce-looking', 828), ('fifteen', 829), ('fifth', 830), ('fifty', 831), ('fifty-three', 832), ('filed', 833), ('fill', 834), ('final', 835), ('find', 836), ('finding', 837), ('finger', 838), ('finished', 839), ('first', 840), ('first-class', 841), ('first-hand', 842), ('fit', 843), ('fitted', 844), ('fitting', 845), ('five', 846), ('fixed', 847), ('flag', 848), ('flapping', 849), ('flavor', 850), ('fled', 851), ('flight', 852), ('flushed', 853), ('flying', 854), ('folded', 855), ('follow', 856), ('followed', 857), ('for', 858), ('forcibly', 859), ('forefinger', 860), ('forehead', 861), ('foretold', 862), ('forgotten', 863), ('form', 864), ('formed', 865), ('formidable', 866), ('formulating', 867), ('fortunate', 868), ('fortune', 869), ('forward', 870), ('foul', 871), ('found', 872), ('four', 873), ('framed', 874), ('framework', 875), ('fraud', 876), ('fresh', 877), ('friend', 878), ('friends', 879), ('frightened', 880), ('frock', 881), ('frock-coat', 882), ('from', 883), ('front', 884), ('ft', 885), ('full', 886), ('furlongs', 887), ('further', 888), ('furze-bush', 889), ('gadabout', 890), ('gain', 891), ('gaiters', 892), ('garden-party', 893), ('gashed', 894), ('gasped', 895), ('gate', 896), ('gates', 897), ('gave', 898), ('gazed', 899), ('general', 900), ('genteel', 901), ('gentlemanly', 902), ('gentlemen', 903), ('get', 904), ('gets', 905), ('getting', 906), ('gifted', 907), ('girl', 908), ('give', 909), ('given', 910), ('glad', 911), ('glanced', 912), ('glancing', 913), ('glare', 914), ('gleam', 915), ('glories', 916), ('glossy', 917), ('go', 918), ('goes', 919), ('going', 920), ('gold', 921), ('gone', 922), ('good', 923), ('gossiping', 924), ('got', 925), ('grand', 926), ('grasp', 927), ('grasped', 928), ('grave', 929), ('gray', 930), ('gray-tiled', 931), ('grays', 932), ('great', 933), ('greater', 934), ('greatest', 935), ('gregarious', 936), ('grip', 937), ('groom', 938), ('ground', 939), ('grows', 940), ('guard', 941), ('guarded', 942), ('guilt', 943), ('guineas', 944), ('gypsies', 945), ('h', 946), ('had', 947), ('haggard', 948), ('hair', 949), ('half', 950), ('half-crown', 951), ('ham', 952), ('hand', 953), ('handed', 954), ('handle', 955), ('hands', 956), ('happened', 957), ('happy', 958), ('hard', 959), ('hardly', 960), ('harness-room', 961), ('has', 962), ('hastily', 963), ('hat', 964), ('have', 965), ('having', 966), ('hay-dealers', 967), ('he', 968), ('he;', 969), ('head', 970), ('heap', 971), ('hear', 972), ('heard', 973), ('hearing', 974), ('heavy', 975), ('heel', 976), ('heels', 977), ('heights', 978), ('held', 979), ('help', 980), ('helps', 981), ('her', 982), ('here', 983), ('herself', 984), ('hide', 985), ('hiding-place', 986), ('him', 987), ('himself', 988), ('his', 989), ('holds', 990), ('hollow', 991), ('home', 992), ('honest', 993), ('hope', 994), ('hoped', 995), ('hopes', 996), ('horror', 997), ('horse', 998), ('horse-fakir', 999), ('horses', 1000), ('horseshoe', 1001), ('hound', 1002), ('hour', 1003), ('hours', 1004), ('house', 1005), ('houses', 1006), ('how', 1007), ('however', 1008), ('huddled', 1009), ('huge', 1010), ('hundred', 1011), ('hung', 1012), ('hunting-crop', 1013), ('hurled', 1014), ('husband', 1015), ('hypothesis', 1016), ('idea', 1017), ('if', 1018), ('ill', 1019), ('imagination', 1020), ('imagine', 1021), ('imagined', 1022), ('immediately', 1023), ('immense', 1024), ('impatience', 1025), ('impertinence', 1026), ('imperturbably', 1027), ('import', 1028), ('importance', 1029), ('important', 1030), ('impress', 1031), ('impressed', 1032), ('impression', 1033), ('impressions', 1034), ('improbable', 1035), ('impulse', 1036), ('in', 1037), ('inches', 1038), ('incident', 1039), ('incised', 1040), ('inclined', 1041), ('incomprehensible', 1042), ('indeed', 1043), ('indications', 1044), ('inference', 1045), ('inferences', 1046), ('infernal', 1047), ('infinitely', 1048), ('inflexible', 1049), ('inflicted', 1050), ('influence', 1051), ('information', 1052), ('inhabited', 1053), ('injure', 1054), ('injuries', 1055), ('injuring', 1056), ('injury', 1057), ('inquest', 1058), ('inquiries', 1059), ('inside', 1060), ('instant', 1061), ('instinct', 1062), ('instincts', 1063), ('instructions', 1064), ('instrument', 1065), ('insult', 1066), ('intended', 1067), ('intention', 1068), ('interest', 1069), ('interests', 1070), ('interjection', 1071), ('into', 1072), ('introduced', 1073), ('invalids', 1074), ('invariably', 1075), ('inventory', 1076), ('investigation', 1077), ('invisible', 1078), ('inviting', 1079), ('is', 1080), ('it', 1081), ('its', 1082), ('itself', 1083), ('ivory-handled', 1084), ('jacket', 1085), ('jockey', 1086), ('joke', 1087), ('journey', 1088), ('jury', 1089), ('just', 1090), ('justified', 1091), ('keenly', 1092), ('keep', 1093), ('keeping', 1094), ('keeps', 1095), ('kept', 1096), ('key', 1097), ('kidnap', 1098), ('kidnapping', 1099), ('killed', 1100), ('kitchen', 1101), ('knew', 1102), ('knife', 1103), ('knitted', 1104), ('knob', 1105), ('knoll', 1106), ('know', 1107), ('knowing', 1108), ('known', 1109), ('knows', 1110), ('lacks', 1111), ('lad', 1112), ('ladies', 1113), ('lads', 1114), ('lads;', 1115), ('lady', 1116), ('laid', 1117), ('lain', 1118), ('lame', 1119), ('lameness', 1120), ('landau', 1121), ('landscape', 1122), ('lantern', 1123), ('large', 1124), ('larger', 1125), ('lashed', 1126), ('last', 1127), ('late', 1128), ('later', 1129), ('latter', 1130), ('laughed', 1131), ('laughing', 1132), ('lay', 1133), ('laying', 1134), ('lead', 1135), ('leading', 1136), ('leads', 1137), ('lean', 1138), ('leaned', 1139), ('leaning', 1140), ('learn', 1141), ('least', 1142), ('leave', 1143), ('led', 1144), ('left', 1145), ('leg', 1146), ('length', 1147), ('lengths', 1148), ('lengthy', 1149), ('less', 1150), ('lessen', 1151), ('let', 1152), ('letter', 1153), ('letters', 1154), ('liberty', 1155), ('lie', 1156), ('lies', 1157), ('life', 1158), ('lifting', 1159), ('light', 1160), ('light;', 1161), ('like', 1162), ('likely', 1163), ('line', 1164), ('link', 1165), ('lion-like', 1166), ('lip', 1167), ('liquid', 1168), ('listened', 1169), ('little', 1170), ('lived', 1171), ('ll', 1172), ('locked', 1173), ('lodged', 1174), ('loft', 1175), ('loiterers', 1176), ('lonely', 1177), ('long', 1178), ('long-cut', 1179), ('look', 1180), ('looked', 1181), ('looking', 1182), ('looks', 1183), ('loser', 1184), ('loss', 1185), ('lost', 1186), ('low', 1187), ('luck', 1188), ('mackintosh', 1189), ('made', 1190), ('maid', 1191), ('maid-servant', 1192), ('main', 1193), ('make', 1194), ('making', 1195), ('man', 1196), ('managed', 1197), ('manner', 1198), ('many', 1199), ('mark', 1200), ('marked', 1201), ('marks', 1202), ('married', 1203), ('marshy', 1204), ('marvelling', 1205), ('master', 1206), ('match', 1207), ('matter', 1208), ('matters', 1209), ('matting', 1210), ('may', 1211), ('me', 1212), ('meals', 1213), ('means', 1214), ('medium', 1215), ('memoirs', 1216), ('men', 1217), ('menace', 1218), ('mentioned', 1219), ('mercy', 1220), ('message', 1221), ('met', 1222), ('method', 1223), ('methods', 1224), ('middle', 1225), ('midnight', 1226), ('might', 1227), ('mile', 1228), ('miles', 1229), ('milliner', 1230), ('mind', 1231), ('mines', 1232), ('minor', 1233), ('minute', 1234), ('minutely', 1235), ('minutes', 1236), ('mischief', 1237), ('miserable', 1238), ('missing', 1239), ('misspent', 1240), ('mistake', 1241), ('mistaken', 1242), ('mixed', 1243), ('moment', 1244), ('money', 1245), ('monstrous', 1246), ('moor', 1247), ('moors', 1248), ('more', 1249), ('morning', 1250), ('most', 1251), ('motives', 1252), ('mottled', 1253), ('much', 1254), ('mud', 1255), ('murder', 1256), ('murdered', 1257), ('murderer', 1258), ('murmured', 1259), ('must', 1260), ('mutton', 1261), ('my', 1262), ('myself', 1263), ('mystery', 1264), ('mythical', 1265), ('name', 1266), ('narrative', 1267), ('naturally', 1268), ('nature', 1269), ('near', 1270), ('neat', 1271), ('necessary', 1272), ('neck', 1273), ('needed', 1274), ('neglect', 1275), ('neighboring', 1276), ('neighbors', 1277), ('neither', 1278), ('nervousness', 1279), ('net', 1280), ('never', 1281), ('new', 1282), ('news', 1283), ('newspaper', 1284), ('next', 1285), ('nick', 1286), ('night', 1287), ('night-express', 1288), ('night-time', 1289), ('nine', 1290), ('no', 1291), ('nor', 1292), ('north', 1293), ('not', 1294), ('note', 1295), ('nothing', 1296), ('noticed', 1297), ('now', 1298), ('numbers', 1299), ('nutshell', 1300), ('o', 1301), ('objections', 1302), ('obligations', 1303), ('oblige', 1304), ('obliged', 1305), ('observed', 1306), ('obtain', 1307), ('obtained', 1308), ('obvious', 1309), ('obviously', 1310), ('occasional', 1311), ('occasionally', 1312), ('occur', 1313), ('occurred', 1314), ('occurrence', 1315), ('odds', 1316), ('of', 1317), ('off', 1318), ('off-foreleg', 1319), ('offered', 1320), ('officer', 1321), ('old', 1322), ('olds', 1323), ('on', 1324), ('once', 1325), ('one', 1326), ('only', 1327), ('open', 1328), ('open;', 1329), ('opened', 1330), ('operation', 1331), ('operations', 1332), ('opinion', 1333), ('opium', 1334), ('opposite', 1335), ('or', 1336), ('order', 1337), ('ordinary', 1338), ('or—', 1339), ('ostrich-feather', 1340), ('other', 1341), ('others', 1342), ('ounce', 1343), ('our', 1344), ('ourselves', 1345), ('out', 1346), ('out-building', 1347), ('out-house', 1348), ('outlined', 1349), ('outside', 1350), ('over', 1351), ('overbearing', 1352), ('overcoat', 1353), ('overhanging', 1354), ('overlaid', 1355), ('overlook', 1356), ('overlooked', 1357), ('overtaken', 1358), ('owe', 1359), ('own', 1360), ('owner', 1361), ('owners', 1362), ('ownership', 1363), ('paces', 1364), ('packet', 1365), ('paddock', 1366), ('pale', 1367), ('pallor', 1368), ('palm', 1369), ('panted', 1370), ('paper', 1371), ('papers', 1372), ('parlor', 1373), ('part', 1374), ('partiality', 1375), ('partook', 1376), ('party', 1377), ('passage', 1378), ('passed', 1379), ('passing', 1380), ('past', 1381), ('path', 1382), ('pattering', 1383), ('paving', 1384), ('peculiarly', 1385), ('pencil-case', 1386), ('penetrating', 1387), ('people', 1388), ('perceive', 1389), ('perceived', 1390), ('perceptible', 1391), ('perfect', 1392), ('perfectly', 1393), ('perhaps', 1394), ('permission', 1395), ('person', 1396), ('personal', 1397), ('perspiration', 1398), ('pestered', 1399), ('photograph', 1400), ('pick', 1401), ('picked', 1402), ('piece', 1403), ('pinching', 1404), ('pipe', 1405), ('pits', 1406), ('place', 1407), ('placed', 1408), ('plain', 1409), ('plainly', 1410), ('play', 1411), ('pleased', 1412), ('plethora', 1413), ('plot', 1414), ('plunged', 1415), ('pocket', 1416), ('pockets', 1417), ('point', 1418), ('pointed', 1419), ('pointing', 1420), ('points', 1421), ('poisoned', 1422), ('police', 1423), ('poor', 1424), ('position', 1425), ('positive', 1426), ('possession', 1427), ('possible', 1428), ('possible;', 1429), ('possibly', 1430), ('post', 1431), ('posts', 1432), ('pouch', 1433), ('pounds', 1434), ('poured', 1435), ('powdered', 1436), ('power', 1437), ('powerful', 1438), ('powers', 1439), ('practice', 1440), ('practise', 1441), ('precaution', 1442), ('preceding', 1443), ('prefer', 1444), ('presence', 1445), ('present', 1446), ('presume', 1447), ('presuming', 1448), ('prettiest', 1449), ('pretty', 1450), ('preventing', 1451), ('price', 1452), ('prick', 1453), ('pricked', 1454), ('prime', 1455), ('print', 1456), ('prizes', 1457), ('probable', 1458), ('probably', 1459), ('problem', 1460), ('proceed', 1461), ('procured', 1462), ('produce', 1463), ('profession', 1464), ('progress', 1465), ('promise', 1466), ('promptly', 1467), ('proofs', 1468), ('protruding', 1469), ('proud', 1470), ('public', 1471), ('puffing', 1472), ('pulled', 1473), ('pulling', 1474), ('pure', 1475), ('purely', 1476), ('purpose', 1477), ('purse', 1478), ('pushed', 1479), ('put', 1480), ('quaint', 1481), ('quality', 1482), ('quantity', 1483), ('quarter', 1484), ('quarter-mile', 1485), ('question', 1486), ('questioned', 1487), ('questions', 1488), ('quickly', 1489), ('quiet', 1490), ('quietly', 1491), ('quite', 1492), ('race', 1493), ('racing', 1494), ('radius', 1495), ('rags', 1496), ('rain', 1497), ('rambled', 1498), ('ran', 1499), ('ran]', 1500), ('rapidly', 1501), ('rate', 1502), ('rather', 1503), ('rattling', 1504), ('re', 1505), ('reached', 1506), ('read', 1507), ('readiness', 1508), ('ready', 1509), ('real', 1510), ('realized', 1511), ('really', 1512), ('reappeared', 1513), ('reason', 1514), ('reasoner', 1515), ('reasoning', 1516), ('recapitulate', 1517), ('receipted', 1518), ('received', 1519), ('receiving', 1520), ('recent', 1521), ('recharging', 1522), ('recognize', 1523), ('recognized', 1524), ('recognizing', 1525), ('recommend', 1526), ('record', 1527), ('recovering', 1528), ('red', 1529), ('red-brick', 1530), ('reds', 1531), ('regard', 1532), ('registered', 1533), ('relative', 1534), ('remain', 1535), ('remained', 1536), ('remains', 1537), ('remarkable', 1538), ('remarked', 1539), ('remarks', 1540), ('remember', 1541), ('remove', 1542), ('repeated', 1543), ('replaced', 1544), ('reply', 1545), ('reporters', 1546), ('reports', 1547), ('request', 1548), ('rest', 1549), ('rested', 1550), ('retired', 1551), ('return', 1552), ('returned', 1553), ('reward', 1554), ('rheumatism', 1555), ('rich', 1556), ('right', 1557), ('rim', 1558), ('ring', 1559), ('rise', 1560), ('rising', 1561), ('risk', 1562), ('rival', 1563), ('road', 1564), ('roaming', 1565), ('roared', 1566), ('rode', 1567), ('room', 1568), ('rooms', 1569), ('rough', 1570), ('round', 1571), ('roused', 1572), ('route', 1573), ('row', 1574), ('rubbed', 1575), ('ruddy', 1576), ('rule', 1577), ('run', 1578), ('running', 1579), ('rush', 1580), ('rushed', 1581), ('s', 1582), ('safe', 1583), ('said', 1584), ('same', 1585), ('sane', 1586), ('sat', 1587), ('satisfied', 1588), ('savage', 1589), ('saved', 1590), ('saving', 1591), ('saw', 1592), ('say', 1593), ('says', 1594), ('scene', 1595), ('scoured', 1596), ('scratched', 1597), ('seal-skin', 1598), ('search', 1599), ('searched', 1600), ('seat', 1601), ('seated', 1602), ('second', 1603), ('secret', 1604), ('securing', 1605), ('see', 1606), ('seeing', 1607), ('seem', 1608), ('seemed', 1609), ('seen', 1610), ('seldom', 1611), ('self-defence', 1612), ('sell', 1613), ('sense', 1614), ('sent', 1615), ('servant', 1616), ('servants', 1617), ('serve', 1618), ('served', 1619), ('service', 1620), ('set', 1621), ('setting', 1622), ('settle', 1623), ('settles', 1624), ('seven', 1625), ('several', 1626), ('shall', 1627), ('sharp', 1628), ('shattered', 1629), ('she', 1630), ('sheep', 1631), ('shield', 1632), ('shoe', 1633), ('shoes', 1634), ('shone', 1635), ('shook', 1636), ('short', 1637), ('shorter', 1638), ('shot', 1639), ('should', 1640), ('shoulders', 1641), ('shout', 1642), ('shouted', 1643), ('show', 1644), ('showed', 1645), ('shown', 1646), ('shows', 1647), ('shrug', 1648), ('shrugged', 1649), ('shut', 1650), ('side', 1651), ('side-whiskers', 1652), ('sifting', 1653), ('sign', 1654), ('significance', 1655), ('signs', 1656), ('silence', 1657), ('silent', 1658), ('silk', 1659), ('silver', 1660), ('simple', 1661), ('simply', 1662), ('since', 1663), ('single', 1664), ('singular', 1665), ('sinister', 1666), ('sink', 1667), ('sir', 1668), ('sir;', 1669), ('sitting', 1670), ('sitting-room', 1671), ('situated', 1672), ('situation', 1673), ('six', 1674), ('sixty', 1675), ('sketch', 1676), ('skin', 1677), ('sky', 1678), ('sky-line', 1679), ('sleep', 1680), ('sleepers', 1681), ('sleeps', 1682), ('sleeve', 1683), ('sleeves', 1684), ('slept', 1685), ('slight', 1686), ('sloped', 1687), ('sloping', 1688), ('slowly', 1689), ('small', 1690), ('smiled', 1691), ('smoke', 1692), ('sneak', 1693), ('sneer', 1694), ('so', 1695), ('soft', 1696), ('sold', 1697), ('some', 1698), ('something', 1699), ('somewhat', 1700), ('sorry', 1701), ('sound', 1702), ('soundest', 1703), ('sovereigns', 1704), ('sovs', 1705), ('sparsely', 1706), ('special', 1707), ('spirited', 1708), ('spirits', 1709), ('spite', 1710), ('spoke', 1711), ('sporting', 1712), ('sportsman;', 1713), ('spot', 1714), ('sprang', 1715), ('squandered', 1716), ('square', 1717), ('stable', 1718), ('stable-boy', 1719), ('stable-lad', 1720), ('stable-lads', 1721), ('stables', 1722), ('stall', 1723), ('stamped', 1724), ('stand', 1725), ('standing', 1726), ('stared', 1727), ('start', 1728), ('started', 1729), ('state', 1730), ('stated', 1731), ('statement', 1732), ('stating', 1733), ('station', 1734), ('station—the', 1735), ('stay', 1736), ('steel', 1737), ('steeples', 1738), ('step', 1739), ('stepped', 1740), ('stick', 1741), ('still', 1742), ('stirring', 1743), ('stock', 1744), ('stone', 1745), ('stood', 1746), ('stop', 1747), ('storm', 1748), ('straight', 1749), ('strain', 1750), ('strange', 1751), ('stranger', 1752), ('stream', 1753), ('stretched', 1754), ('stretching', 1755), ('stripes', 1756), ('stripped', 1757), ('strode', 1758), ('stroke', 1759), ('strong', 1760), ('strongest', 1761), ('struck', 1762), ('struggle', 1763), ('struggles', 1764), ('study', 1765), ('stupor', 1766), ('subcutaneously', 1767), ('subordinate', 1768), ('subtler', 1769), ('succumbed', 1770), ('such', 1771), ('sudden', 1772), ('suddenly', 1773), ('suffering', 1774), ('sufficiently', 1775), ('suggested', 1776), ('suggestion', 1777), ('suggests', 1778), ('suit', 1779), ('summer', 1780), ('sums', 1781), ('sun', 1782), ('sunk', 1783), ('superb', 1784), ('supper', 1785), ('suppose', 1786), ('supposing', 1787), ('supposition', 1788), ('suppressed', 1789), ('sure', 1790), ('surely', 1791), ('surer', 1792), ('surgery', 1793), ('surmise', 1794), ('surpass', 1795), ('surprise', 1796), ('surprised', 1797), ('suspicion', 1798), ('sweetest', 1799), ('swept', 1800), ('swinging', 1801), ('sworn', 1802), ('systematic', 1803), ('t', 1804), ('table', 1805), ('tail', 1806), ('take', 1807), ('taken', 1808), ('taking', 1809), ('talk', 1810), ('tall', 1811), ('tallow', 1812), ('task', 1813), ('taste', 1814), ('tasteless', 1815), ('tastes', 1816), ('tear', 1817), ('telegrams', 1818), ('telegraph', 1819), ('tell', 1820), ('tells', 1821), ('temples', 1822), ('ten', 1823), ('ten-pound', 1824), ('tendon-nicking', 1825), ('tendons', 1826), ('terrible', 1827), ('test', 1828), ('than', 1829), ('that', 1830), ('the', 1831), ('their', 1832), ('them', 1833), ('themselves', 1834), ('then', 1835), ('theories', 1836), ('theorists', 1837), ('theory', 1838), ('there', 1839), ('therefore', 1840), ('these', 1841), ('they', 1842), ('thief', 1843), ('thigh', 1844), ('thin', 1845), ('thing', 1846), ('things', 1847), ('think', 1848), ('third', 1849), ('thirty', 1850), ('thirty-seven', 1851), ('this', 1852), ('thoroughbred', 1853), ('those', 1854), ('though', 1855), ('thought', 1856), ('thoughts', 1857), ('thousand', 1858), ('three', 1859), ('threw', 1860), ('through', 1861), ('thrown', 1862), ('thrust', 1863), ('thumb', 1864), ('thunderstruck', 1865), ('tilted', 1866), ('time', 1867), ('tin', 1868), ('tinged', 1869), ('tip', 1870), ('to', 1871), ('to-morrow', 1872), ('to-night', 1873), ('tobacco', 1874), ('toes', 1875), ('together', 1876), ('told', 1877), ('too', 1878), ('took', 1879), ('topic', 1880), ('tossed', 1881), ('touch', 1882), ('touched', 1883), ('touts', 1884), ('towards', 1885), ('town', 1886), ('trace', 1887), ('traces', 1888), ('track', 1889), ('tracks', 1890), ('tragedy', 1891), ('tragic', 1892), ('trail', 1893), ('train', 1894), ('trainer', 1895), ('trainers', 1896), ('training', 1897), ('training-stable', 1898), ('training-stables', 1899), ('trampled', 1900), ('travelling-cap', 1901), ('treated', 1902), ('trembling', 1903), ('tricks', 1904), ('tried', 1905), ('trifle', 1906), ('trim', 1907), ('trimming', 1908), ('triumph', 1909), ('trouble', 1910), ('trudged', 1911), ('true', 1912), ('trust', 1913), ('trying', 1914), ('turf', 1915), ('turn', 1916), ('turned', 1917), ('turning', 1918), ('turns', 1919), ('tweeds', 1920), ('twenty', 1921), ('twenty-guinea', 1922), ('twice', 1923), ('two', 1924), ('unable', 1925), ('uncommon', 1926), ('undeniable', 1927), ('under', 1928), ('understand', 1929), ('understanding', 1930), ('undertake', 1931), ('undoubtedly', 1932), ('uneasy', 1933), ('unfortunate', 1934), ('unique', 1935), ('unlikely', 1936), ('unlocked', 1937), ('unloose', 1938), ('unofficial', 1939), ('unravelled', 1940), ('unthinkable', 1941), ('until', 1942), ('unturned', 1943), ('unworthy', 1944), ('up', 1945), ('upon', 1946), ('upset', 1947), ('upstairs', 1948), ('up—with', 1949), ('us', 1950), ('use', 1951), ('used', 1952), ('usual', 1953), ('utterly', 1954), ('vaguely', 1955), ('value', 1956), ('ve', 1957), ('very', 1958), ('vesta', 1959), ('vestas', 1960), ('view', 1961), ('vigorously', 1962), ('villa', 1963), ('villas', 1964), ('violent', 1965), ('violently', 1966), ('visible', 1967), ('visited', 1968), ('visitor', 1969), ('voices', 1970), ('volunteered', 1971), ('wagged', 1972), ('waistcoat', 1973), ('wait', 1974), ('waited', 1975), ('waiting', 1976), ('waking', 1977), ('walk', 1978), ('walked', 1979), ('walking', 1980), ('wandering', 1981), ('want', 1982), ('wanted', 1983), ('wants', 1984), ('warned', 1985), ('was', 1986), ('wash', 1987), ('wasted', 1988), ('watch', 1989), ('watching', 1990), ('watchman', 1991), ('water-tap', 1992), ('watered', 1993), ('waving', 1994), ('wax', 1995), ('way', 1996), ('ways', 1997), ('we', 1998), ('weapon', 1999), ('weighing', 2000), ('weighing-chair', 2001), ('weighted', 2002), ('weights', 2003), ('well', 2004), ('well-known', 2005), ('went', 2006), ('were', 2007), ('west', 2008), ('westward', 2009), ('wet', 2010), ('what', 2011), ('whatever', 2012), ('when', 2013), ('where', 2014), ('whether', 2015), ('which', 2016), ('while', 2017), ('whirled', 2018), ('whispered', 2019), ('whistled', 2020), ('white', 2021), ('who', 2022), ('whole', 2023), ('whom', 2024), ('why', 2025), ('wide', 2026), ('wife', 2027), ('wild', 2028), ('wilderness', 2029), ('will', 2030), ('win', 2031), ('winced', 2032), ('wind', 2033), ('window', 2034), ('wine', 2035), ('winning', 2036), ('wire', 2037), ('wish', 2038), ('wished', 2039), ('with', 2040), ('within', 2041), ('without', 2042), ('woman', 2043), ('women', 2044), ('won', 2045), ('wonder', 2046), ('wonders', 2047), ('wood', 2048), ('word', 2049), ('words', 2050), ('wore', 2051), ('work', 2052), ('working', 2053), ('world', 2054), ('worn', 2055), ('worth', 2056), ('would', 2057), ('wound', 2058), ('wounded', 2059), ('write', 2060), ('yards', 2061), ('year', 2062), ('years', 2063), ('yellow', 2064), ('yesterday', 2065), ('yet', 2066), ('yonder', 2067), ('you', 2068), ('young', 2069), ('your', 2070), ('yourself', 2071), ('zealous', 2072), ('£200', 2073), ('£300', 2074)])"
      ]
     },
     "execution_count": 71,
     "metadata": {},
     "output_type": "execute_result"
    }
   ],
   "source": [
    "vocab= { token:index for index, token in enumerate(tokens)}\n",
    "vocab.items()\n",
    "\n"
   ]
  },
  {
   "cell_type": "code",
   "execution_count": 59,
   "id": "14d3b4e1",
   "metadata": {},
   "outputs": [
    {
     "name": "stdout",
     "output_type": "stream",
     "text": [
      "Because I made a blunder, my dear Watson—which is, I am afraid, a more common occurrence than any one would think who only knew me through your memoirs.\n"
     ]
    }
   ],
   "source": [
    "phrase= \"Because I made a blunder, my dear Watson—which is, I am afraid, a more common occurrence than any one would think who only knew me through your memoirs.\"\n",
    "print(phrase)"
   ]
  },
  {
   "cell_type": "code",
   "execution_count": 60,
   "id": "38dd3006",
   "metadata": {},
   "outputs": [
    {
     "name": "stdout",
     "output_type": "stream",
     "text": [
      "['Because', 'I', 'made', 'a', 'blunder', ',', 'my', 'dear', 'Watson—which', 'is', ',', 'I', 'am', 'afraid', ',', 'a', 'more', 'common', 'occurrence', 'than', 'any', 'one', 'would', 'think', 'who', 'only', 'knew', 'me', 'through', 'your', 'memoirs', '.']\n"
     ]
    }
   ],
   "source": [
    "phrase= re.split(r'([.,!?:()\\'“”\"]|\\s)', phrase)\n",
    "phrase=[item for item in phrase if item.split()]\n",
    "print(phrase)"
   ]
  },
  {
   "cell_type": "code",
   "execution_count": 61,
   "id": "5073917f",
   "metadata": {},
   "outputs": [
    {
     "name": "stdout",
     "output_type": "stream",
     "text": [
      "[29, 95, 1188, 229, 402, 6, 1260, 617, 207, 1078, 6, 95, 282, 260, 6, 229, 1247, 544, 1313, 1827, 303, 1324, 2055, 1846, 2020, 1325, 1100, 1210, 1859, 2068, 1214, 7]\n"
     ]
    }
   ],
   "source": [
    "ids=[vocab[token] for token in phrase]\n",
    "print(ids)"
   ]
  },
  {
   "cell_type": "code",
   "execution_count": 62,
   "id": "fbe46623",
   "metadata": {},
   "outputs": [
    {
     "data": {
      "text/plain": [
       "dict_items([(0, '!'), (1, '\"'), (2, '&'), (3, \"'\"), (4, '('), (5, ')'), (6, ','), (7, '.'), (8, '1000'), (9, '50'), (10, '?'), (11, 'A'), (12, 'AM'), (13, 'About'), (14, 'Above'), (15, 'Afterwards'), (16, 'Again'), (17, 'Ah'), (18, 'All'), (19, 'An'), (20, 'And'), (21, 'As'), (22, 'At'), (23, 'BLAZE'), (24, 'Backwater'), (25, 'Balmoral'), (26, 'Baxter'), (27, 'Bayard'), (28, 'Be'), (29, 'Because'), (30, 'Before'), (31, 'Black'), (32, 'Blaze'), (33, 'Bless'), (34, 'Blue'), (35, 'Bond'), (36, 'Brown'), (37, 'But'), (38, 'By'), (39, 'Can'), (40, 'Capital'), (41, 'Cavendish'), (42, 'Certainly'), (43, 'Chronicle'), (44, 'Cinnamon'), (45, 'Clapham'), (46, 'Co'), (47, 'Colonel'), (48, 'Cup'), (49, 'Cup—Silver'), (50, 'D'), (51, 'Dartmoor'), (52, 'Dartmoor;'), (53, 'Dawson'), (54, 'Dear'), (55, 'Derbyshire'), (56, 'Desborough'), (57, 'Devonshire'), (58, 'Did'), (59, 'Do'), (60, 'Don'), (61, 'Dr'), (62, 'Drive'), (63, 'Duke'), (64, 'Edith'), (65, 'England'), (66, 'English'), (67, 'Every'), (68, 'Exceedingly'), (69, 'Excellent'), (70, 'Excuse'), (71, 'Exeter'), (72, 'Finally'), (73, 'Fitzroy'), (74, 'Five'), (75, 'For'), (76, 'Four'), (77, 'Fresh'), (78, 'From'), (79, 'Go'), (80, 'Good-evening'), (81, 'Gregory'), (82, 'Has'), (83, 'Have'), (84, 'He'), (85, 'Heath'), (86, 'Her'), (87, 'Here'), (88, 'His'), (89, 'Holmes'), (90, 'How'), (91, 'However'), (92, 'Hullo'), (93, 'Hum'), (94, 'Hunter'), (95, 'I'), (96, 'If'), (97, 'Immediately'), (98, 'In'), (99, 'Indeed'), (100, 'Inspector'), (101, 'Iris'), (102, 'Is'), (103, 'It'), (104, 'John'), (105, 'Junction'), (106, 'King'), (107, 'Lesurier'), (108, 'Let'), (109, 'Liberal'), (110, 'London'), (111, 'Lord'), (112, 'Madame'), (113, 'Mapleton'), (114, 'Master'), (115, 'Might'), (116, 'Monday'), (117, 'Mr'), (118, 'Mrs'), (119, 'My'), (120, 'Ned'), (121, 'Negro'), (122, 'Never'), (123, 'New'), (124, 'Newton'), (125, 'No'), (126, 'None;'), (127, 'Nor'), (128, 'Not'), (129, 'Nothing'), (130, 'Now'), (131, 'Obviously'), (132, 'Of'), (133, 'Oh'), (134, 'On'), (135, 'Once'), (136, 'One'), (137, 'Only'), (138, 'Our'), (139, 'P'), (140, 'Paddington'), (141, 'Penang-lawyer'), (142, 'Perhaps'), (143, 'Pink'), (144, 'Plate'), (145, 'Plymouth'), (146, 'Powdered'), (147, 'Pugilist'), (148, 'Pullman'), (149, 'Purple'), (150, 'Pyland'), (151, 'Quite'), (152, 'Rasper'), (153, 'Reading'), (154, 'Red'), (155, 'Ross'), (156, 'SILVER'), (157, 'Say'), (158, 'Scoundrel'), (159, 'Second'), (160, 'See'), (161, 'Shall'), (162, 'She'), (163, 'Sherlock'), (164, 'Should'), (165, 'Silas'), (166, 'Silver'), (167, 'Simpson'), (168, 'Singleford'), (169, 'So'), (170, 'Some'), (171, 'Somebody'), (172, 'Sometimes'), (173, 'Somomy'), (174, 'Straker'), (175, 'Street'), (176, 'Such'), (177, 'Surely'), (178, 'Tavistock'), (179, 'Telegraph'), (180, 'Ten'), (181, 'That'), (182, 'The'), (183, 'Then'), (184, 'There'), (185, 'Therefore'), (186, 'These'), (187, 'They'), (188, 'Third'), (189, 'This'), (190, 'Those'), (191, 'Though'), (192, 'Three'), (193, 'Thursday'), (194, 'To'), (195, 'Tuesday'), (196, 'Twenty-two'), (197, 'Two'), (198, 'Under'), (199, 'Undoubtedly'), (200, 'Up'), (201, 'Very'), (202, 'Victoria'), (203, 'Villain'), (204, 'Wardlaw'), (205, 'Watson'), (206, 'Watson;'), (207, 'Watson—which'), (208, 'We'), (209, 'Weiss'), (210, 'Well'), (211, 'Were'), (212, 'Wessex'), (213, 'What'), (214, 'When'), (215, 'Where'), (216, 'Which'), (217, 'Who'), (218, 'Why'), (219, 'William'), (220, 'Winchester'), (221, 'Wonderful'), (222, 'Yellow'), (223, 'Yes'), (224, 'Yes;'), (225, 'Yet'), (226, 'You'), (227, 'Your'), (228, '[it'), (229, 'a'), (230, 'abductor'), (231, 'ability'), (232, 'about'), (233, 'above'), (234, 'absentees'), (235, 'absolute'), (236, 'absolutely'), (237, 'absorbed'), (238, 'abundant'), (239, 'access'), (240, 'according'), (241, 'account'), (242, 'account;'), (243, 'accounts'), (244, 'accused'), (245, 'accustomed'), (246, 'acknowledges'), (247, 'acquiring'), (248, 'across'), (249, 'acted'), (250, 'action'), (251, 'actions'), (252, 'add'), (253, 'added'), (254, 'address'), (255, 'addressed'), (256, 'admittance'), (257, 'advantage'), (258, 'advice'), (259, 'affair'), (260, 'afraid'), (261, 'after'), (262, 'again'), (263, 'against'), (264, 'age'), (265, 'agent'), (266, 'agents'), (267, 'agitation'), (268, 'ago'), (269, 'air'), (270, 'alert'), (271, 'alighted'), (272, 'all'), (273, 'almost'), (274, 'alone'), (275, 'along'), (276, 'already'), (277, 'also'), (278, 'although'), (279, 'altogether'), (280, 'aluminum'), (281, 'always'), (282, 'am'), (283, 'amazement'), (284, 'amiss'), (285, 'amnesty'), (286, 'among'), (287, 'amount'), (288, 'amusement'), (289, 'an'), (290, 'analysis'), (291, 'ancestor'), (292, 'and'), (293, 'angrily'), (294, 'angry'), (295, 'animals'), (296, 'announced'), (297, 'annoyance'), (298, 'another'), (299, 'answer'), (300, 'answered'), (301, 'anticipate'), (302, 'anxiety'), (303, 'any'), (304, 'anyhow'), (305, 'anything'), (306, 'apart'), (307, 'apologies'), (308, 'apology'), (309, 'apparently'), (310, 'appeared'), (311, 'appears'), (312, 'apple'), (313, 'appointment'), (314, 'appreciable'), (315, 'appreciated'), (316, 'approached'), (317, 'are'), (318, 'argue'), (319, 'arm'), (320, 'armed'), (321, 'arms'), (322, 'arouse'), (323, 'aroused'), (324, 'arrest'), (325, 'arrested'), (326, 'arresting'), (327, 'arrival'), (328, 'art'), (329, 'as'), (330, 'ascending'), (331, 'ashy'), (332, 'aside'), (333, 'ask'), (334, 'asked'), (335, 'asphalt'), (336, 'assailants'), (337, 'associated'), (338, 'assurance'), (339, 'assure'), (340, 'astonishment'), (341, 'astute'), (342, 'at'), (343, 'attempt'), (344, 'attends'), (345, 'attention'), (346, 'avenge'), (347, 'awaiting'), (348, 'away'), (349, 'awoke'), (350, 'back'), (351, 'bad'), (352, 'bag'), (353, 'baldly'), (354, 'bank'), (355, 'barked'), (356, 'basis'), (357, 'bay'), (358, 'be'), (359, 'beads'), (360, 'bear'), (361, 'beard'), (362, 'bearing'), (363, 'beast'), (364, 'beat'), (365, 'beautiful'), (366, 'became'), (367, 'because'), (368, 'become'), (369, 'becomes'), (370, 'been'), (371, 'before'), (372, 'beg'), (373, 'begged'), (374, 'beginning'), (375, 'begun'), (376, 'behind'), (377, 'being'), (378, 'believe'), (379, 'bell'), (380, 'belongings'), (381, 'belongs'), (382, 'beside'), (383, 'best'), (384, 'bets'), (385, 'better'), (386, 'betting'), (387, 'betting-book'), (388, 'between'), (389, 'beyond'), (390, 'bill'), (391, 'bills'), (392, 'birth'), (393, 'black'), (394, 'blade'), (395, 'blind'), (396, 'blood'), (397, 'blood-stains'), (398, 'blow'), (399, 'blown'), (400, 'blows'), (401, 'blue'), (402, 'blunder'), (403, 'bluntly'), (404, 'bluster'), (405, 'body'), (406, 'bolt'), (407, 'bolted'), (408, 'book-making'), (409, 'boots'), (410, 'bore'), (411, 'boss'), (412, 'both'), (413, 'bottom'), (414, 'bound'), (415, 'bowed'), (416, 'bowl-shaped'), (417, 'box'), (418, 'boy'), (419, 'brain'), (420, 'brains'), (421, 'brambles'), (422, 'branch'), (423, 'breadth'), (424, 'breakfast'), (425, 'breath'), (426, 'bridle'), (427, 'brier-root'), (428, 'brilliant'), (429, 'brilliantly'), (430, 'bringing'), (431, 'brink'), (432, 'briskly'), (433, 'broke'), (434, 'broken'), (435, 'bronze-colored'), (436, 'brooding'), (437, 'brought'), (438, 'brow'), (439, 'browns'), (440, 'brows'), (441, 'buildings'), (442, 'built'), (443, 'bully'), (444, 'bullying'), (445, 'bundle'), (446, 'buried'), (447, 'burned'), (448, 'burst'), (449, 'bush'), (450, 'bushes'), (451, 'business'), (452, 'but'), (453, 'buy'), (454, 'by'), (455, 'calculation'), (456, 'call'), (457, 'called'), (458, 'calling'), (459, 'came'), (460, 'can'), (461, 'candle'), (462, 'cannot'), (463, 'cantered'), (464, 'cap'), (465, 'car'), (466, 'card'), (467, 'care'), (468, 'cared'), (469, 'careful'), (470, 'carefully'), (471, 'carpet'), (472, 'carriage'), (473, 'carried'), (474, 'carry'), (475, 'carrying'), (476, 'case'), (477, 'cases'), (478, 'cast'), (479, 'cataract'), (480, 'catastrophe'), (481, 'catch'), (482, 'caught'), (483, 'caused'), (484, 'cavalier'), (485, 'ceased'), (486, 'central'), (487, 'centres'), (488, 'certain'), (489, 'certainly'), (490, 'chaff-cutting'), (491, 'chain'), (492, 'chair'), (493, 'challenge'), (494, 'chance'), (495, 'change'), (496, 'characteristic'), (497, 'characters'), (498, 'charge'), (499, 'charging'), (500, 'charming'), (501, 'checking'), (502, 'chemist'), (503, 'chest'), (504, 'child'), (505, 'children'), (506, 'chin'), (507, 'chip'), (508, 'choose'), (509, 'chosen'), (510, 'chuckled'), (511, 'cigar'), (512, 'cigar-case'), (513, 'circle'), (514, 'circumstantial'), (515, 'city'), (516, 'clambered'), (517, 'clasped'), (518, 'clean'), (519, 'clear'), (520, 'clearness'), (521, 'clears'), (522, 'clever'), (523, 'clock'), (524, 'close'), (525, 'closed'), (526, 'cloth'), (527, 'clothing'), (528, 'clotted'), (529, 'clubs'), (530, 'clue'), (531, 'cluster'), (532, 'co-operation'), (533, 'coachman'), (534, 'coat'), (535, 'coated'), (536, 'coincidence'), (537, 'cold'), (538, 'colors'), (539, 'come'), (540, 'comfortable'), (541, 'comfortably'), (542, 'coming'), (543, 'committed'), (544, 'common'), (545, 'companion'), (546, 'company'), (547, 'compared'), (548, 'competent'), (549, 'complete'), (550, 'compound'), (551, 'concealed'), (552, 'concluded'), (553, 'conclusion'), (554, 'confer'), (555, 'confess'), (556, 'confidence'), (557, 'confine'), (558, 'confronted'), (559, 'conjecture'), (560, 'connect'), (561, 'connection'), (562, 'consider'), (563, 'consisted'), (564, 'consultant'), (565, 'contain'), (566, 'containing'), (567, 'contents'), (568, 'continued'), (569, 'contractor'), (570, 'contrary'), (571, 'conversation'), (572, 'conviction'), (573, 'convinced'), (574, 'convulsive'), (575, 'cork'), (576, 'corner'), (577, 'correct'), (578, 'corresponded'), (579, 'costume'), (580, 'could'), (581, 'counsel'), (582, 'country'), (583, 'course'), (584, 'covered'), (585, 'coward'), (586, 'cravat'), (587, 'crawled'), (588, 'creature'), (589, 'cried'), (590, 'crime'), (591, 'cringed'), (592, 'crossed'), (593, 'culprit'), (594, 'curious'), (595, 'curiously'), (596, 'curled'), (597, 'curried'), (598, 'curry'), (599, 'curve'), (600, 'curves'), (601, 'cushions'), (602, 'custom'), (603, 'customer'), (604, 'cut'), (605, 'damned'), (606, 'dapper'), (607, 'dared'), (608, 'dark'), (609, 'darkness'), (610, 'dashing'), (611, 'day'), (612, 'day-dreaming'), (613, 'days'), (614, 'dead'), (615, 'deaf'), (616, 'deal'), (617, 'dear'), (618, 'death'), (619, 'debt'), (620, 'deciding'), (621, 'decision'), (622, 'declared'), (623, 'declares'), (624, 'deepening'), (625, 'deepest'), (626, 'defence'), (627, 'defended'), (628, 'defer'), (629, 'delicate'), (630, 'delighted'), (631, 'deny'), (632, 'depression'), (633, 'deprived'), (634, 'descending'), (635, 'described'), (636, 'designs'), (637, 'despair'), (638, 'detach'), (639, 'detail'), (640, 'details'), (641, 'detect'), (642, 'detective'), (643, 'detectives'), (644, 'develop'), (645, 'development'), (646, 'developments'), (647, 'devil'), (648, 'devised'), (649, 'devote'), (650, 'dialogue'), (651, 'did'), (652, 'didn'), (653, 'difficulties'), (654, 'difficulty'), (655, 'dipped'), (656, 'direction'), (657, 'disagreeable'), (658, 'disappearance'), (659, 'disappeared'), (660, 'disappears'), (661, 'disappointed'), (662, 'discover'), (663, 'disguise'), (664, 'dish'), (665, 'dishonest'), (666, 'disk'), (667, 'disposal'), (668, 'dispose'), (669, 'disregarding'), (670, 'distance'), (671, 'distant'), (672, 'distrait'), (673, 'district'), (674, 'do'), (675, 'dodge'), (676, 'does'), (677, 'dog'), (678, 'doing'), (679, 'don'), (680, 'done'), (681, 'door'), (682, 'double'), (683, 'doubt'), (684, 'doubted'), (685, 'dove-colored'), (686, 'down'), (687, 'drag'), (688, 'drama'), (689, 'draw'), (690, 'drawn'), (691, 'dress'), (692, 'dressed'), (693, 'dresses'), (694, 'dressing'), (695, 'dressing-table'), (696, 'drew'), (697, 'drink'), (698, 'drive'), (699, 'driver'), (700, 'dropped'), (701, 'drove'), (702, 'drug'), (703, 'drugged'), (704, 'dry'), (705, 'duplicate'), (706, 'during'), (707, 'duty'), (708, 'each'), (709, 'eager'), (710, 'ear'), (711, 'ear-flapped'), (712, 'early'), (713, 'earn'), (714, 'earnestness'), (715, 'ears'), (716, 'earth'), (717, 'easily'), (718, 'eat'), (719, 'eater'), (720, 'eaves'), (721, 'editions'), (722, 'education'), (723, 'effect'), (724, 'effects'), (725, 'either'), (726, 'elderly'), (727, 'element'), (728, 'eliminated'), (729, 'else'), (730, 'embellishments'), (731, 'emerged'), (732, 'empty'), (733, 'en'), (734, 'encamped'), (735, 'enclosure'), (736, 'ended'), (737, 'enjoy'), (738, 'enormous'), (739, 'enough'), (740, 'ensued'), (741, 'entered'), (742, 'entirely'), (743, 'entreaties'), (744, 'entries'), (745, 'enumerate'), (746, 'envelope'), (747, 'epidemic'), (748, 'equally'), (749, 'erroneous'), (750, 'especially'), (751, 'essential'), (752, 'established'), (753, 'establishment'), (754, 'even'), (755, 'evening'), (756, 'event'), (757, 'events'), (758, 'ever'), (759, 'every'), (760, 'everything'), (761, 'evidence'), (762, 'evidently'), (763, 'exactly'), (764, 'examination'), (765, 'examined'), (766, 'examining'), (767, 'excellent'), (768, 'exception'), (769, 'excited'), (770, 'excitement'), (771, 'exclaimed'), (772, 'exercise'), (773, 'exercised'), (774, 'expect'), (775, 'expected'), (776, 'expedition'), (777, 'expense'), (778, 'expensive'), (779, 'experience'), (780, 'explained'), (781, 'explanation'), (782, 'explanations'), (783, 'expression'), (784, 'extraordinary'), (785, 'extreme'), (786, 'extremely'), (787, 'eye'), (788, 'eye-glass'), (789, 'eyes'), (790, 'eyes;'), (791, 'face'), (792, 'fact'), (793, 'factor'), (794, 'facts'), (795, 'fact—from'), (796, 'fact—of'), (797, 'faded'), (798, 'fading'), (799, 'fail'), (800, 'failed'), (801, 'fails'), (802, 'fair'), (803, 'fakir'), (804, 'fall'), (805, 'falls'), (806, 'familiar'), (807, 'family'), (808, 'famous'), (809, 'fancy'), (810, 'far'), (811, 'fatal'), (812, 'favor'), (813, 'favorite'), (814, 'feel'), (815, 'feeling'), (816, 'feet'), (817, 'fell'), (818, 'fellow'), (819, 'fellow-grooms'), (820, 'felt'), (821, 'ferns'), (822, 'fetched'), (823, 'few'), (824, 'field'), (825, 'field-glass'), (826, 'fierce-looking'), (827, 'fifteen'), (828, 'fifth'), (829, 'fifty'), (830, 'fifty-three'), (831, 'filed'), (832, 'fill'), (833, 'final'), (834, 'find'), (835, 'finding'), (836, 'finger'), (837, 'finished'), (838, 'first'), (839, 'first-class'), (840, 'first-hand'), (841, 'fit'), (842, 'fitted'), (843, 'fitting'), (844, 'five'), (845, 'fixed'), (846, 'flag'), (847, 'flapping'), (848, 'flavor'), (849, 'fled'), (850, 'flight'), (851, 'flushed'), (852, 'flying'), (853, 'folded'), (854, 'follow'), (855, 'followed'), (856, 'for'), (857, 'forcibly'), (858, 'forefinger'), (859, 'forehead'), (860, 'foretold'), (861, 'forgotten'), (862, 'form'), (863, 'formed'), (864, 'formidable'), (865, 'formulating'), (866, 'fortunate'), (867, 'fortune'), (868, 'forward'), (869, 'foul'), (870, 'found'), (871, 'four'), (872, 'framed'), (873, 'framework'), (874, 'fraud'), (875, 'fresh'), (876, 'friend'), (877, 'friends'), (878, 'frightened'), (879, 'frock'), (880, 'frock-coat'), (881, 'from'), (882, 'front'), (883, 'ft'), (884, 'full'), (885, 'furlongs'), (886, 'further'), (887, 'furze-bush'), (888, 'gadabout'), (889, 'gain'), (890, 'gaiters'), (891, 'garden-party'), (892, 'gashed'), (893, 'gasped'), (894, 'gate'), (895, 'gates'), (896, 'gave'), (897, 'gazed'), (898, 'general'), (899, 'genteel'), (900, 'gentlemanly'), (901, 'gentlemen'), (902, 'get'), (903, 'gets'), (904, 'getting'), (905, 'gifted'), (906, 'girl'), (907, 'give'), (908, 'given'), (909, 'glad'), (910, 'glanced'), (911, 'glancing'), (912, 'glare'), (913, 'gleam'), (914, 'glories'), (915, 'glossy'), (916, 'go'), (917, 'goes'), (918, 'going'), (919, 'gold'), (920, 'gone'), (921, 'good'), (922, 'gossiping'), (923, 'got'), (924, 'grand'), (925, 'grasp'), (926, 'grasped'), (927, 'grave'), (928, 'gray'), (929, 'gray-tiled'), (930, 'grays'), (931, 'great'), (932, 'greater'), (933, 'greatest'), (934, 'gregarious'), (935, 'grip'), (936, 'groom'), (937, 'ground'), (938, 'grows'), (939, 'guard'), (940, 'guarded'), (941, 'guilt'), (942, 'guineas'), (943, 'gypsies'), (944, 'h'), (945, 'had'), (946, 'haggard'), (947, 'hair'), (948, 'half'), (949, 'half-crown'), (950, 'ham'), (951, 'hand'), (952, 'handed'), (953, 'handle'), (954, 'hands'), (955, 'happened'), (956, 'happy'), (957, 'hard'), (958, 'hardly'), (959, 'harness-room'), (960, 'has'), (961, 'hastily'), (962, 'hat'), (963, 'have'), (964, 'having'), (965, 'hay-dealers'), (966, 'he'), (967, 'he;'), (968, 'head'), (969, 'heap'), (970, 'hear'), (971, 'heard'), (972, 'hearing'), (973, 'heavy'), (974, 'heel'), (975, 'heels'), (976, 'heights'), (977, 'held'), (978, 'help'), (979, 'helps'), (980, 'her'), (981, 'here'), (982, 'herself'), (983, 'hide'), (984, 'hiding-place'), (985, 'him'), (986, 'himself'), (987, 'his'), (988, 'holds'), (989, 'hollow'), (990, 'home'), (991, 'honest'), (992, 'hope'), (993, 'hoped'), (994, 'hopes'), (995, 'horror'), (996, 'horse'), (997, 'horse-fakir'), (998, 'horses'), (999, 'horseshoe'), (1000, 'hound'), (1001, 'hour'), (1002, 'hours'), (1003, 'house'), (1004, 'houses'), (1005, 'how'), (1006, 'however'), (1007, 'huddled'), (1008, 'huge'), (1009, 'hundred'), (1010, 'hung'), (1011, 'hunting-crop'), (1012, 'hurled'), (1013, 'husband'), (1014, 'hypothesis'), (1015, 'idea'), (1016, 'if'), (1017, 'ill'), (1018, 'imagination'), (1019, 'imagine'), (1020, 'imagined'), (1021, 'immediately'), (1022, 'immense'), (1023, 'impatience'), (1024, 'impertinence'), (1025, 'imperturbably'), (1026, 'import'), (1027, 'importance'), (1028, 'important'), (1029, 'impress'), (1030, 'impressed'), (1031, 'impression'), (1032, 'impressions'), (1033, 'improbable'), (1034, 'impulse'), (1035, 'in'), (1036, 'inches'), (1037, 'incident'), (1038, 'incised'), (1039, 'inclined'), (1040, 'incomprehensible'), (1041, 'indeed'), (1042, 'indications'), (1043, 'inference'), (1044, 'inferences'), (1045, 'infernal'), (1046, 'infinitely'), (1047, 'inflexible'), (1048, 'inflicted'), (1049, 'influence'), (1050, 'information'), (1051, 'inhabited'), (1052, 'injure'), (1053, 'injuries'), (1054, 'injuring'), (1055, 'injury'), (1056, 'inquest'), (1057, 'inquiries'), (1058, 'inside'), (1059, 'instant'), (1060, 'instinct'), (1061, 'instincts'), (1062, 'instructions'), (1063, 'instrument'), (1064, 'insult'), (1065, 'intended'), (1066, 'intention'), (1067, 'interest'), (1068, 'interests'), (1069, 'interjection'), (1070, 'into'), (1071, 'introduced'), (1072, 'invalids'), (1073, 'invariably'), (1074, 'inventory'), (1075, 'investigation'), (1076, 'invisible'), (1077, 'inviting'), (1078, 'is'), (1079, 'it'), (1080, 'its'), (1081, 'itself'), (1082, 'ivory-handled'), (1083, 'jacket'), (1084, 'jockey'), (1085, 'joke'), (1086, 'journey'), (1087, 'jury'), (1088, 'just'), (1089, 'justified'), (1090, 'keenly'), (1091, 'keep'), (1092, 'keeping'), (1093, 'keeps'), (1094, 'kept'), (1095, 'key'), (1096, 'kidnap'), (1097, 'kidnapping'), (1098, 'killed'), (1099, 'kitchen'), (1100, 'knew'), (1101, 'knife'), (1102, 'knitted'), (1103, 'knob'), (1104, 'knoll'), (1105, 'know'), (1106, 'knowing'), (1107, 'known'), (1108, 'knows'), (1109, 'lacks'), (1110, 'lad'), (1111, 'ladies'), (1112, 'lads'), (1113, 'lads;'), (1114, 'lady'), (1115, 'laid'), (1116, 'lain'), (1117, 'lame'), (1118, 'lameness'), (1119, 'landau'), (1120, 'landscape'), (1121, 'lantern'), (1122, 'large'), (1123, 'larger'), (1124, 'lashed'), (1125, 'last'), (1126, 'late'), (1127, 'later'), (1128, 'latter'), (1129, 'laughed'), (1130, 'laughing'), (1131, 'lay'), (1132, 'laying'), (1133, 'lead'), (1134, 'leading'), (1135, 'leads'), (1136, 'lean'), (1137, 'leaned'), (1138, 'leaning'), (1139, 'learn'), (1140, 'least'), (1141, 'leave'), (1142, 'led'), (1143, 'left'), (1144, 'leg'), (1145, 'length'), (1146, 'lengths'), (1147, 'lengthy'), (1148, 'less'), (1149, 'lessen'), (1150, 'let'), (1151, 'letter'), (1152, 'letters'), (1153, 'liberty'), (1154, 'lie'), (1155, 'lies'), (1156, 'life'), (1157, 'lifting'), (1158, 'light'), (1159, 'light;'), (1160, 'like'), (1161, 'likely'), (1162, 'line'), (1163, 'link'), (1164, 'lion-like'), (1165, 'lip'), (1166, 'liquid'), (1167, 'listened'), (1168, 'little'), (1169, 'lived'), (1170, 'll'), (1171, 'locked'), (1172, 'lodged'), (1173, 'loft'), (1174, 'loiterers'), (1175, 'lonely'), (1176, 'long'), (1177, 'long-cut'), (1178, 'look'), (1179, 'looked'), (1180, 'looking'), (1181, 'looks'), (1182, 'loser'), (1183, 'loss'), (1184, 'lost'), (1185, 'low'), (1186, 'luck'), (1187, 'mackintosh'), (1188, 'made'), (1189, 'maid'), (1190, 'maid-servant'), (1191, 'main'), (1192, 'make'), (1193, 'making'), (1194, 'man'), (1195, 'managed'), (1196, 'manner'), (1197, 'many'), (1198, 'mark'), (1199, 'marked'), (1200, 'marks'), (1201, 'married'), (1202, 'marshy'), (1203, 'marvelling'), (1204, 'master'), (1205, 'match'), (1206, 'matter'), (1207, 'matters'), (1208, 'matting'), (1209, 'may'), (1210, 'me'), (1211, 'meals'), (1212, 'means'), (1213, 'medium'), (1214, 'memoirs'), (1215, 'men'), (1216, 'menace'), (1217, 'mentioned'), (1218, 'mercy'), (1219, 'message'), (1220, 'met'), (1221, 'method'), (1222, 'methods'), (1223, 'middle'), (1224, 'midnight'), (1225, 'might'), (1226, 'mile'), (1227, 'miles'), (1228, 'milliner'), (1229, 'mind'), (1230, 'mines'), (1231, 'minor'), (1232, 'minute'), (1233, 'minutely'), (1234, 'minutes'), (1235, 'mischief'), (1236, 'miserable'), (1237, 'missing'), (1238, 'misspent'), (1239, 'mistake'), (1240, 'mistaken'), (1241, 'mixed'), (1242, 'moment'), (1243, 'money'), (1244, 'monstrous'), (1245, 'moor'), (1246, 'moors'), (1247, 'more'), (1248, 'morning'), (1249, 'most'), (1250, 'motives'), (1251, 'mottled'), (1252, 'much'), (1253, 'mud'), (1254, 'murder'), (1255, 'murdered'), (1256, 'murderer'), (1257, 'murmured'), (1258, 'must'), (1259, 'mutton'), (1260, 'my'), (1261, 'myself'), (1262, 'mystery'), (1263, 'mythical'), (1264, 'name'), (1265, 'narrative'), (1266, 'naturally'), (1267, 'nature'), (1268, 'near'), (1269, 'neat'), (1270, 'necessary'), (1271, 'neck'), (1272, 'needed'), (1273, 'neglect'), (1274, 'neighboring'), (1275, 'neighbors'), (1276, 'neither'), (1277, 'nervousness'), (1278, 'net'), (1279, 'never'), (1280, 'new'), (1281, 'news'), (1282, 'newspaper'), (1283, 'next'), (1284, 'nick'), (1285, 'night'), (1286, 'night-express'), (1287, 'night-time'), (1288, 'nine'), (1289, 'no'), (1290, 'nor'), (1291, 'north'), (1292, 'not'), (1293, 'note'), (1294, 'nothing'), (1295, 'noticed'), (1296, 'now'), (1297, 'numbers'), (1298, 'nutshell'), (1299, 'o'), (1300, 'objections'), (1301, 'obligations'), (1302, 'oblige'), (1303, 'obliged'), (1304, 'observed'), (1305, 'obtain'), (1306, 'obtained'), (1307, 'obvious'), (1308, 'obviously'), (1309, 'occasional'), (1310, 'occasionally'), (1311, 'occur'), (1312, 'occurred'), (1313, 'occurrence'), (1314, 'odds'), (1315, 'of'), (1316, 'off'), (1317, 'off-foreleg'), (1318, 'offered'), (1319, 'officer'), (1320, 'old'), (1321, 'olds'), (1322, 'on'), (1323, 'once'), (1324, 'one'), (1325, 'only'), (1326, 'open'), (1327, 'open;'), (1328, 'opened'), (1329, 'operation'), (1330, 'operations'), (1331, 'opinion'), (1332, 'opium'), (1333, 'opposite'), (1334, 'or'), (1335, 'order'), (1336, 'ordinary'), (1337, 'or—'), (1338, 'ostrich-feather'), (1339, 'other'), (1340, 'others'), (1341, 'ounce'), (1342, 'our'), (1343, 'ourselves'), (1344, 'out'), (1345, 'out-building'), (1346, 'out-house'), (1347, 'outlined'), (1348, 'outside'), (1349, 'over'), (1350, 'overbearing'), (1351, 'overcoat'), (1352, 'overhanging'), (1353, 'overlaid'), (1354, 'overlook'), (1355, 'overlooked'), (1356, 'overtaken'), (1357, 'owe'), (1358, 'own'), (1359, 'owner'), (1360, 'owners'), (1361, 'ownership'), (1362, 'paces'), (1363, 'packet'), (1364, 'paddock'), (1365, 'pale'), (1366, 'pallor'), (1367, 'palm'), (1368, 'panted'), (1369, 'paper'), (1370, 'papers'), (1371, 'parlor'), (1372, 'part'), (1373, 'partiality'), (1374, 'partook'), (1375, 'party'), (1376, 'passage'), (1377, 'passed'), (1378, 'passing'), (1379, 'past'), (1380, 'path'), (1381, 'pattering'), (1382, 'paving'), (1383, 'peculiarly'), (1384, 'pencil-case'), (1385, 'penetrating'), (1386, 'people'), (1387, 'perceive'), (1388, 'perceived'), (1389, 'perceptible'), (1390, 'perfect'), (1391, 'perfectly'), (1392, 'perhaps'), (1393, 'permission'), (1394, 'person'), (1395, 'personal'), (1396, 'perspiration'), (1397, 'pestered'), (1398, 'photograph'), (1399, 'pick'), (1400, 'picked'), (1401, 'piece'), (1402, 'pinching'), (1403, 'pipe'), (1404, 'pits'), (1405, 'place'), (1406, 'placed'), (1407, 'plain'), (1408, 'plainly'), (1409, 'play'), (1410, 'pleased'), (1411, 'plethora'), (1412, 'plot'), (1413, 'plunged'), (1414, 'pocket'), (1415, 'pockets'), (1416, 'point'), (1417, 'pointed'), (1418, 'pointing'), (1419, 'points'), (1420, 'poisoned'), (1421, 'police'), (1422, 'poor'), (1423, 'position'), (1424, 'positive'), (1425, 'possession'), (1426, 'possible'), (1427, 'possible;'), (1428, 'possibly'), (1429, 'post'), (1430, 'posts'), (1431, 'pouch'), (1432, 'pounds'), (1433, 'poured'), (1434, 'powdered'), (1435, 'power'), (1436, 'powerful'), (1437, 'powers'), (1438, 'practice'), (1439, 'practise'), (1440, 'precaution'), (1441, 'preceding'), (1442, 'prefer'), (1443, 'presence'), (1444, 'present'), (1445, 'presume'), (1446, 'presuming'), (1447, 'prettiest'), (1448, 'pretty'), (1449, 'preventing'), (1450, 'price'), (1451, 'prick'), (1452, 'pricked'), (1453, 'prime'), (1454, 'print'), (1455, 'prizes'), (1456, 'probable'), (1457, 'probably'), (1458, 'problem'), (1459, 'proceed'), (1460, 'procured'), (1461, 'produce'), (1462, 'profession'), (1463, 'progress'), (1464, 'promise'), (1465, 'promptly'), (1466, 'proofs'), (1467, 'protruding'), (1468, 'proud'), (1469, 'public'), (1470, 'puffing'), (1471, 'pulled'), (1472, 'pulling'), (1473, 'pure'), (1474, 'purely'), (1475, 'purpose'), (1476, 'purse'), (1477, 'pushed'), (1478, 'put'), (1479, 'quaint'), (1480, 'quality'), (1481, 'quantity'), (1482, 'quarter'), (1483, 'quarter-mile'), (1484, 'question'), (1485, 'questioned'), (1486, 'questions'), (1487, 'quickly'), (1488, 'quiet'), (1489, 'quietly'), (1490, 'quite'), (1491, 'race'), (1492, 'racing'), (1493, 'radius'), (1494, 'rags'), (1495, 'rain'), (1496, 'rambled'), (1497, 'ran'), (1498, 'ran]'), (1499, 'rapidly'), (1500, 'rate'), (1501, 'rather'), (1502, 'rattling'), (1503, 're'), (1504, 'reached'), (1505, 'read'), (1506, 'readiness'), (1507, 'ready'), (1508, 'real'), (1509, 'realized'), (1510, 'really'), (1511, 'reappeared'), (1512, 'reason'), (1513, 'reasoner'), (1514, 'reasoning'), (1515, 'recapitulate'), (1516, 'receipted'), (1517, 'received'), (1518, 'receiving'), (1519, 'recent'), (1520, 'recharging'), (1521, 'recognize'), (1522, 'recognized'), (1523, 'recognizing'), (1524, 'recommend'), (1525, 'record'), (1526, 'recovering'), (1527, 'red'), (1528, 'red-brick'), (1529, 'reds'), (1530, 'regard'), (1531, 'registered'), (1532, 'relative'), (1533, 'remain'), (1534, 'remained'), (1535, 'remains'), (1536, 'remarkable'), (1537, 'remarked'), (1538, 'remarks'), (1539, 'remember'), (1540, 'remove'), (1541, 'repeated'), (1542, 'replaced'), (1543, 'reply'), (1544, 'reporters'), (1545, 'reports'), (1546, 'request'), (1547, 'rest'), (1548, 'rested'), (1549, 'retired'), (1550, 'return'), (1551, 'returned'), (1552, 'reward'), (1553, 'rheumatism'), (1554, 'rich'), (1555, 'right'), (1556, 'rim'), (1557, 'ring'), (1558, 'rise'), (1559, 'rising'), (1560, 'risk'), (1561, 'rival'), (1562, 'road'), (1563, 'roaming'), (1564, 'roared'), (1565, 'rode'), (1566, 'room'), (1567, 'rooms'), (1568, 'rough'), (1569, 'round'), (1570, 'roused'), (1571, 'route'), (1572, 'row'), (1573, 'rubbed'), (1574, 'ruddy'), (1575, 'rule'), (1576, 'run'), (1577, 'running'), (1578, 'rush'), (1579, 'rushed'), (1580, 's'), (1581, 'safe'), (1582, 'said'), (1583, 'same'), (1584, 'sane'), (1585, 'sat'), (1586, 'satisfied'), (1587, 'savage'), (1588, 'saved'), (1589, 'saving'), (1590, 'saw'), (1591, 'say'), (1592, 'says'), (1593, 'scene'), (1594, 'scoured'), (1595, 'scratched'), (1596, 'seal-skin'), (1597, 'search'), (1598, 'searched'), (1599, 'seat'), (1600, 'seated'), (1601, 'second'), (1602, 'secret'), (1603, 'securing'), (1604, 'see'), (1605, 'seeing'), (1606, 'seem'), (1607, 'seemed'), (1608, 'seen'), (1609, 'seldom'), (1610, 'self-defence'), (1611, 'sell'), (1612, 'sense'), (1613, 'sent'), (1614, 'servant'), (1615, 'servants'), (1616, 'serve'), (1617, 'served'), (1618, 'service'), (1619, 'set'), (1620, 'setting'), (1621, 'settle'), (1622, 'settles'), (1623, 'seven'), (1624, 'several'), (1625, 'shall'), (1626, 'sharp'), (1627, 'shattered'), (1628, 'she'), (1629, 'sheep'), (1630, 'shield'), (1631, 'shoe'), (1632, 'shoes'), (1633, 'shone'), (1634, 'shook'), (1635, 'short'), (1636, 'shorter'), (1637, 'shot'), (1638, 'should'), (1639, 'shoulders'), (1640, 'shout'), (1641, 'shouted'), (1642, 'show'), (1643, 'showed'), (1644, 'shown'), (1645, 'shows'), (1646, 'shrug'), (1647, 'shrugged'), (1648, 'shut'), (1649, 'side'), (1650, 'side-whiskers'), (1651, 'sifting'), (1652, 'sign'), (1653, 'significance'), (1654, 'signs'), (1655, 'silence'), (1656, 'silent'), (1657, 'silk'), (1658, 'silver'), (1659, 'simple'), (1660, 'simply'), (1661, 'since'), (1662, 'single'), (1663, 'singular'), (1664, 'sinister'), (1665, 'sink'), (1666, 'sir'), (1667, 'sir;'), (1668, 'sitting'), (1669, 'sitting-room'), (1670, 'situated'), (1671, 'situation'), (1672, 'six'), (1673, 'sixty'), (1674, 'sketch'), (1675, 'skin'), (1676, 'sky'), (1677, 'sky-line'), (1678, 'sleep'), (1679, 'sleepers'), (1680, 'sleeps'), (1681, 'sleeve'), (1682, 'sleeves'), (1683, 'slept'), (1684, 'slight'), (1685, 'sloped'), (1686, 'sloping'), (1687, 'slowly'), (1688, 'small'), (1689, 'smiled'), (1690, 'smoke'), (1691, 'sneak'), (1692, 'sneer'), (1693, 'so'), (1694, 'soft'), (1695, 'sold'), (1696, 'some'), (1697, 'something'), (1698, 'somewhat'), (1699, 'sorry'), (1700, 'sound'), (1701, 'soundest'), (1702, 'sovereigns'), (1703, 'sovs'), (1704, 'sparsely'), (1705, 'special'), (1706, 'spirited'), (1707, 'spirits'), (1708, 'spite'), (1709, 'spoke'), (1710, 'sporting'), (1711, 'sportsman;'), (1712, 'spot'), (1713, 'sprang'), (1714, 'squandered'), (1715, 'square'), (1716, 'stable'), (1717, 'stable-boy'), (1718, 'stable-lad'), (1719, 'stable-lads'), (1720, 'stables'), (1721, 'stall'), (1722, 'stamped'), (1723, 'stand'), (1724, 'standing'), (1725, 'stared'), (1726, 'start'), (1727, 'started'), (1728, 'state'), (1729, 'stated'), (1730, 'statement'), (1731, 'stating'), (1732, 'station'), (1733, 'station—the'), (1734, 'stay'), (1735, 'steel'), (1736, 'steeples'), (1737, 'step'), (1738, 'stepped'), (1739, 'stick'), (1740, 'still'), (1741, 'stirring'), (1742, 'stock'), (1743, 'stone'), (1744, 'stood'), (1745, 'stop'), (1746, 'storm'), (1747, 'straight'), (1748, 'strain'), (1749, 'strange'), (1750, 'stranger'), (1751, 'stream'), (1752, 'stretched'), (1753, 'stretching'), (1754, 'stripes'), (1755, 'stripped'), (1756, 'strode'), (1757, 'stroke'), (1758, 'strong'), (1759, 'strongest'), (1760, 'struck'), (1761, 'struggle'), (1762, 'struggles'), (1763, 'study'), (1764, 'stupor'), (1765, 'subcutaneously'), (1766, 'subordinate'), (1767, 'subtler'), (1768, 'succumbed'), (1769, 'such'), (1770, 'sudden'), (1771, 'suddenly'), (1772, 'suffering'), (1773, 'sufficiently'), (1774, 'suggested'), (1775, 'suggestion'), (1776, 'suggests'), (1777, 'suit'), (1778, 'summer'), (1779, 'sums'), (1780, 'sun'), (1781, 'sunk'), (1782, 'superb'), (1783, 'supper'), (1784, 'suppose'), (1785, 'supposing'), (1786, 'supposition'), (1787, 'suppressed'), (1788, 'sure'), (1789, 'surely'), (1790, 'surer'), (1791, 'surgery'), (1792, 'surmise'), (1793, 'surpass'), (1794, 'surprise'), (1795, 'surprised'), (1796, 'suspicion'), (1797, 'sweetest'), (1798, 'swept'), (1799, 'swinging'), (1800, 'sworn'), (1801, 'systematic'), (1802, 't'), (1803, 'table'), (1804, 'tail'), (1805, 'take'), (1806, 'taken'), (1807, 'taking'), (1808, 'talk'), (1809, 'tall'), (1810, 'tallow'), (1811, 'task'), (1812, 'taste'), (1813, 'tasteless'), (1814, 'tastes'), (1815, 'tear'), (1816, 'telegrams'), (1817, 'telegraph'), (1818, 'tell'), (1819, 'tells'), (1820, 'temples'), (1821, 'ten'), (1822, 'ten-pound'), (1823, 'tendon-nicking'), (1824, 'tendons'), (1825, 'terrible'), (1826, 'test'), (1827, 'than'), (1828, 'that'), (1829, 'the'), (1830, 'their'), (1831, 'them'), (1832, 'themselves'), (1833, 'then'), (1834, 'theories'), (1835, 'theorists'), (1836, 'theory'), (1837, 'there'), (1838, 'therefore'), (1839, 'these'), (1840, 'they'), (1841, 'thief'), (1842, 'thigh'), (1843, 'thin'), (1844, 'thing'), (1845, 'things'), (1846, 'think'), (1847, 'third'), (1848, 'thirty'), (1849, 'thirty-seven'), (1850, 'this'), (1851, 'thoroughbred'), (1852, 'those'), (1853, 'though'), (1854, 'thought'), (1855, 'thoughts'), (1856, 'thousand'), (1857, 'three'), (1858, 'threw'), (1859, 'through'), (1860, 'thrown'), (1861, 'thrust'), (1862, 'thumb'), (1863, 'thunderstruck'), (1864, 'tilted'), (1865, 'time'), (1866, 'tin'), (1867, 'tinged'), (1868, 'tip'), (1869, 'to'), (1870, 'to-morrow'), (1871, 'to-night'), (1872, 'tobacco'), (1873, 'toes'), (1874, 'together'), (1875, 'told'), (1876, 'too'), (1877, 'took'), (1878, 'topic'), (1879, 'tossed'), (1880, 'touch'), (1881, 'touched'), (1882, 'touts'), (1883, 'towards'), (1884, 'town'), (1885, 'trace'), (1886, 'traces'), (1887, 'track'), (1888, 'tracks'), (1889, 'tragedy'), (1890, 'tragic'), (1891, 'trail'), (1892, 'train'), (1893, 'trainer'), (1894, 'trainers'), (1895, 'training'), (1896, 'training-stable'), (1897, 'training-stables'), (1898, 'trampled'), (1899, 'travelling-cap'), (1900, 'treated'), (1901, 'trembling'), (1902, 'tricks'), (1903, 'tried'), (1904, 'trifle'), (1905, 'trim'), (1906, 'trimming'), (1907, 'triumph'), (1908, 'trouble'), (1909, 'trudged'), (1910, 'true'), (1911, 'trust'), (1912, 'trying'), (1913, 'turf'), (1914, 'turn'), (1915, 'turned'), (1916, 'turning'), (1917, 'turns'), (1918, 'tweeds'), (1919, 'twenty'), (1920, 'twenty-guinea'), (1921, 'twice'), (1922, 'two'), (1923, 'unable'), (1924, 'uncommon'), (1925, 'undeniable'), (1926, 'under'), (1927, 'understand'), (1928, 'understanding'), (1929, 'undertake'), (1930, 'undoubtedly'), (1931, 'uneasy'), (1932, 'unfortunate'), (1933, 'unique'), (1934, 'unlikely'), (1935, 'unlocked'), (1936, 'unloose'), (1937, 'unofficial'), (1938, 'unravelled'), (1939, 'unthinkable'), (1940, 'until'), (1941, 'unturned'), (1942, 'unworthy'), (1943, 'up'), (1944, 'upon'), (1945, 'upset'), (1946, 'upstairs'), (1947, 'up—with'), (1948, 'us'), (1949, 'use'), (1950, 'used'), (1951, 'usual'), (1952, 'utterly'), (1953, 'vaguely'), (1954, 'value'), (1955, 've'), (1956, 'very'), (1957, 'vesta'), (1958, 'vestas'), (1959, 'view'), (1960, 'vigorously'), (1961, 'villa'), (1962, 'villas'), (1963, 'violent'), (1964, 'violently'), (1965, 'visible'), (1966, 'visited'), (1967, 'visitor'), (1968, 'voices'), (1969, 'volunteered'), (1970, 'wagged'), (1971, 'waistcoat'), (1972, 'wait'), (1973, 'waited'), (1974, 'waiting'), (1975, 'waking'), (1976, 'walk'), (1977, 'walked'), (1978, 'walking'), (1979, 'wandering'), (1980, 'want'), (1981, 'wanted'), (1982, 'wants'), (1983, 'warned'), (1984, 'was'), (1985, 'wash'), (1986, 'wasted'), (1987, 'watch'), (1988, 'watching'), (1989, 'watchman'), (1990, 'water-tap'), (1991, 'watered'), (1992, 'waving'), (1993, 'wax'), (1994, 'way'), (1995, 'ways'), (1996, 'we'), (1997, 'weapon'), (1998, 'weighing'), (1999, 'weighing-chair'), (2000, 'weighted'), (2001, 'weights'), (2002, 'well'), (2003, 'well-known'), (2004, 'went'), (2005, 'were'), (2006, 'west'), (2007, 'westward'), (2008, 'wet'), (2009, 'what'), (2010, 'whatever'), (2011, 'when'), (2012, 'where'), (2013, 'whether'), (2014, 'which'), (2015, 'while'), (2016, 'whirled'), (2017, 'whispered'), (2018, 'whistled'), (2019, 'white'), (2020, 'who'), (2021, 'whole'), (2022, 'whom'), (2023, 'why'), (2024, 'wide'), (2025, 'wife'), (2026, 'wild'), (2027, 'wilderness'), (2028, 'will'), (2029, 'win'), (2030, 'winced'), (2031, 'wind'), (2032, 'window'), (2033, 'wine'), (2034, 'winning'), (2035, 'wire'), (2036, 'wish'), (2037, 'wished'), (2038, 'with'), (2039, 'within'), (2040, 'without'), (2041, 'woman'), (2042, 'women'), (2043, 'won'), (2044, 'wonder'), (2045, 'wonders'), (2046, 'wood'), (2047, 'word'), (2048, 'words'), (2049, 'wore'), (2050, 'work'), (2051, 'working'), (2052, 'world'), (2053, 'worn'), (2054, 'worth'), (2055, 'would'), (2056, 'wound'), (2057, 'wounded'), (2058, 'write'), (2059, 'yards'), (2060, 'year'), (2061, 'years'), (2062, 'yellow'), (2063, 'yesterday'), (2064, 'yet'), (2065, 'yonder'), (2066, 'you'), (2067, 'young'), (2068, 'your'), (2069, 'yourself'), (2070, 'zealous'), (2071, '£200'), (2072, '£300')])"
      ]
     },
     "execution_count": 62,
     "metadata": {},
     "output_type": "execute_result"
    }
   ],
   "source": [
    "reverse_vocab={index: token for token, index in vocab.items()}\n",
    "reverse_vocab.items()\n"
   ]
  },
  {
   "cell_type": "code",
   "execution_count": 63,
   "id": "7b2097ff",
   "metadata": {},
   "outputs": [
    {
     "name": "stdout",
     "output_type": "stream",
     "text": [
      "Because I made a blunder , my dear Watson—which is , I am afraid , a more common occurrence than any one would think who only knew me through your memoirs .\n"
     ]
    }
   ],
   "source": [
    "print(\" \".join([reverse_vocab[id]for id in ids]))\n"
   ]
  },
  {
   "cell_type": "code",
   "execution_count": null,
   "id": "e6426768",
   "metadata": {},
   "outputs": [],
   "source": []
  },
  {
   "cell_type": "code",
   "execution_count": 82,
   "id": "a8ae5ce9",
   "metadata": {},
   "outputs": [],
   "source": [
    "class SimpleTokenizer: \n",
    "    def __init__(self,vocab):\n",
    "        self.str_to_int= vocab\n",
    "        self.int_to_str={index:token for token, index in vocab.items()}\n",
    "\n",
    "    def encode(self, text):\n",
    "        tokens= re.split(r'([.,!?:()\\'“”\"]|\\s)', text)\n",
    "        tokens=[item if item in self.str_to_int else \"<|unk|>\" for item in tokens if item.split()]\n",
    "        ids= [self.str_to_int[token]for token in tokens]\n",
    "        return ids\n",
    "    \n",
    "    def decode(self, ids):\n",
    "        text= \" \".join([self.int_to_str[id]for id in ids])\n",
    "        text= re.sub( r'\\s+([.,!?:()\\'“”\"])', r'\\1',text)\n",
    "        return text\n"
   ]
  },
  {
   "cell_type": "code",
   "execution_count": 83,
   "id": "77d039e0",
   "metadata": {},
   "outputs": [],
   "source": [
    "tokenizer= SimpleTokenizer(vocab)\n"
   ]
  },
  {
   "cell_type": "code",
   "execution_count": 90,
   "id": "67190480",
   "metadata": {},
   "outputs": [],
   "source": [
    "phrase=\"Because I made a sandwich, my dear Watson—which is, I am afraid, a more common occurrence than any one would think who only knew me through your memoirs.\""
   ]
  },
  {
   "cell_type": "code",
   "execution_count": 91,
   "id": "7a94a6d2",
   "metadata": {},
   "outputs": [
    {
     "name": "stdout",
     "output_type": "stream",
     "text": [
      "[31, 97, 1190, 231, 11, 6, 1262, 619, 209, 1080, 6, 97, 284, 262, 6, 231, 1249, 546, 1315, 1829, 305, 1326, 2057, 1848, 2022, 1327, 1102, 1212, 1861, 2070, 1216, 7]\n"
     ]
    }
   ],
   "source": [
    "ids= tokenizer.encode(phrase)\n",
    "print(ids)"
   ]
  },
  {
   "cell_type": "code",
   "execution_count": 92,
   "id": "fffa571f",
   "metadata": {},
   "outputs": [
    {
     "name": "stdout",
     "output_type": "stream",
     "text": [
      "Because I made a <|unk|>, my dear Watson—which is, I am afraid, a more common occurrence than any one would think who only knew me through your memoirs.\n"
     ]
    }
   ],
   "source": [
    "text= tokenizer.decode(ids)\n",
    "print(text)"
   ]
  },
  {
   "cell_type": "code",
   "execution_count": 93,
   "id": "84e02b36",
   "metadata": {},
   "outputs": [],
   "source": [
    "import tiktoken"
   ]
  },
  {
   "cell_type": "code",
   "execution_count": 96,
   "id": "6a14d1b8",
   "metadata": {},
   "outputs": [],
   "source": [
    "tokenizer= tiktoken.get_encoding(\"gpt2\")"
   ]
  },
  {
   "cell_type": "code",
   "execution_count": 97,
   "id": "68b640a4",
   "metadata": {},
   "outputs": [],
   "source": [
    "phrase= \"idndiewsoismsowm\""
   ]
  },
  {
   "cell_type": "code",
   "execution_count": 98,
   "id": "f35f2cc5",
   "metadata": {},
   "outputs": [
    {
     "name": "stdout",
     "output_type": "stream",
     "text": [
      "[312, 358, 769, 568, 6583, 322, 76]\n"
     ]
    }
   ],
   "source": [
    "ids= tokenizer.encode(phrase)\n",
    "print(ids)"
   ]
  },
  {
   "cell_type": "code",
   "execution_count": 99,
   "id": "4e537227",
   "metadata": {},
   "outputs": [
    {
     "data": {
      "text/plain": [
       "'idndiewsoismsowm'"
      ]
     },
     "execution_count": 99,
     "metadata": {},
     "output_type": "execute_result"
    }
   ],
   "source": [
    "tokenizer.decode(ids)"
   ]
  }
 ],
 "metadata": {
  "kernelspec": {
   "display_name": "Python 3",
   "language": "python",
   "name": "python3"
  },
  "language_info": {
   "codemirror_mode": {
    "name": "ipython",
    "version": 3
   },
   "file_extension": ".py",
   "mimetype": "text/x-python",
   "name": "python",
   "nbconvert_exporter": "python",
   "pygments_lexer": "ipython3",
   "version": "3.12.3"
  }
 },
 "nbformat": 4,
 "nbformat_minor": 5
}
