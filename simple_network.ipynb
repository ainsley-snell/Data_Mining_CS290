{
  "nbformat": 4,
  "nbformat_minor": 0,
  "metadata": {
    "colab": {
      "provenance": [],
      "authorship_tag": "ABX9TyPUuGp8x4EIHcVXm2R4GpZg",
      "include_colab_link": true
    },
    "kernelspec": {
      "name": "python3",
      "display_name": "Python 3"
    },
    "language_info": {
      "name": "python"
    }
  },
  "cells": [
    {
      "cell_type": "markdown",
      "metadata": {
        "id": "view-in-github",
        "colab_type": "text"
      },
      "source": [
        "<a href=\"https://colab.research.google.com/github/ainsley-snell/Data_Mining_CS290/blob/main/simple_network.ipynb\" target=\"_parent\"><img src=\"https://colab.research.google.com/assets/colab-badge.svg\" alt=\"Open In Colab\"/></a>"
      ]
    },
    {
      "cell_type": "code",
      "execution_count": null,
      "metadata": {
        "id": "JxWe_JPqg6DA"
      },
      "outputs": [],
      "source": [
        "import torch\n",
        "import torch.nn as nn"
      ]
    },
    {
      "cell_type": "code",
      "source": [
        "# one way to make some typical input:\n",
        "input = torch.randn( 1, 3 )\n",
        "input"
      ],
      "metadata": {
        "colab": {
          "base_uri": "https://localhost:8080/"
        },
        "id": "KpFpa_ze4fEC",
        "outputId": "84ec97e6-fade-462d-efa6-fd70b2c3ac42"
      },
      "execution_count": null,
      "outputs": [
        {
          "output_type": "execute_result",
          "data": {
            "text/plain": [
              "tensor([[0.7478, 0.5352, 1.8176]])"
            ]
          },
          "metadata": {},
          "execution_count": 2
        }
      ]
    },
    {
      "cell_type": "code",
      "source": [
        "input = torch.tensor([[ 1.0, 2.0, 3.0 ]])\n",
        "input"
      ],
      "metadata": {
        "colab": {
          "base_uri": "https://localhost:8080/"
        },
        "id": "-1MQ9Has4ioH",
        "outputId": "9ef1fd8f-2b87-4613-e16c-7a21d28cc11a"
      },
      "execution_count": null,
      "outputs": [
        {
          "output_type": "execute_result",
          "data": {
            "text/plain": [
              "tensor([[1., 2., 3.]])"
            ]
          },
          "metadata": {},
          "execution_count": 3
        }
      ]
    },
    {
      "cell_type": "code",
      "source": [
        "\n",
        "# a simple neural network:\n",
        "model = nn.Sequential(\n",
        "    # a layer that takes 3 inputs, gives 2 outputs\n",
        "    nn.Linear( 3, 2 ),\n",
        "    # a nonlinear activation function\n",
        "    nn.ReLU(),\n",
        "    # output layer takes 2 inputs, gives scalar output\n",
        "    nn.Linear( 2, 1)\n",
        ")"
      ],
      "metadata": {
        "id": "8g0PCwCX4k4j"
      },
      "execution_count": null,
      "outputs": []
    },
    {
      "cell_type": "code",
      "source": [
        "model[0].weight.data = torch.tensor([[ 2.0, 1.0, -1.0 ],\n",
        "                                     [ -2.0, -1.0, 1.0 ]])\n",
        "model[0].weight.data"
      ],
      "metadata": {
        "colab": {
          "base_uri": "https://localhost:8080/"
        },
        "id": "ynYGSkNs4m9i",
        "outputId": "1a01875c-7872-4286-ac04-aab6ddf35b60"
      },
      "execution_count": null,
      "outputs": [
        {
          "output_type": "execute_result",
          "data": {
            "text/plain": [
              "tensor([[ 2.,  1., -1.],\n",
              "        [-2., -1.,  1.]])"
            ]
          },
          "metadata": {},
          "execution_count": 5
        }
      ]
    },
    {
      "cell_type": "code",
      "source": [
        "model[0].bias.data = torch.tensor([[0.0, 0.0]])"
      ],
      "metadata": {
        "id": "2fRsfXIz4pCG"
      },
      "execution_count": null,
      "outputs": []
    },
    {
      "cell_type": "code",
      "source": [
        "input @ model[0].weight.data.T + model[0].bias.data"
      ],
      "metadata": {
        "colab": {
          "base_uri": "https://localhost:8080/"
        },
        "id": "C9nNqw-W4rkD",
        "outputId": "4b6d30eb-9fa0-415c-b9bd-cd6ca2472eb7"
      },
      "execution_count": null,
      "outputs": [
        {
          "output_type": "execute_result",
          "data": {
            "text/plain": [
              "tensor([[ 1., -1.]])"
            ]
          },
          "metadata": {},
          "execution_count": 7
        }
      ]
    },
    {
      "cell_type": "code",
      "source": [
        "activation = nn.ReLU()\n",
        "middle = activation( input @ model[0].weight.data.T + model[0].bias.data)\n",
        "middle"
      ],
      "metadata": {
        "colab": {
          "base_uri": "https://localhost:8080/"
        },
        "id": "FDm7V6_84t3w",
        "outputId": "4f30cffe-963f-492f-e9a4-03f50914883c"
      },
      "execution_count": null,
      "outputs": [
        {
          "output_type": "execute_result",
          "data": {
            "text/plain": [
              "tensor([[1., 0.]])"
            ]
          },
          "metadata": {},
          "execution_count": 8
        }
      ]
    },
    {
      "cell_type": "code",
      "source": [
        "middle @ model[2].weight.data.T + model[2].bias.data"
      ],
      "metadata": {
        "colab": {
          "base_uri": "https://localhost:8080/"
        },
        "id": "S0H3Di1i4v1y",
        "outputId": "b125794b-6dd3-4746-a676-1305f99f57ca"
      },
      "execution_count": null,
      "outputs": [
        {
          "output_type": "execute_result",
          "data": {
            "text/plain": [
              "tensor([[-0.5749]])"
            ]
          },
          "metadata": {},
          "execution_count": 9
        }
      ]
    },
    {
      "cell_type": "code",
      "source": [
        "model(input)"
      ],
      "metadata": {
        "colab": {
          "base_uri": "https://localhost:8080/"
        },
        "id": "uzyUCRXy4x1a",
        "outputId": "20abc272-22c9-48fb-ffdf-0707f2bff5f7"
      },
      "execution_count": null,
      "outputs": [
        {
          "output_type": "execute_result",
          "data": {
            "text/plain": [
              "tensor([[-0.5749]], grad_fn=<AddmmBackward0>)"
            ]
          },
          "metadata": {},
          "execution_count": 10
        }
      ]
    }
  ]
}