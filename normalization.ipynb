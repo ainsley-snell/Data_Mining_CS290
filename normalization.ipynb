{
  "nbformat": 4,
  "nbformat_minor": 0,
  "metadata": {
    "colab": {
      "provenance": [],
      "authorship_tag": "ABX9TyNQnHeQjMFcweEUEtJzWMFV",
      "include_colab_link": true
    },
    "kernelspec": {
      "name": "python3",
      "display_name": "Python 3"
    },
    "language_info": {
      "name": "python"
    }
  },
  "cells": [
    {
      "cell_type": "markdown",
      "metadata": {
        "id": "view-in-github",
        "colab_type": "text"
      },
      "source": [
        "<a href=\"https://colab.research.google.com/github/ainsley-snell/Data_Mining_CS290/blob/main/normalization.ipynb\" target=\"_parent\"><img src=\"https://colab.research.google.com/assets/colab-badge.svg\" alt=\"Open In Colab\"/></a>"
      ]
    },
    {
      "cell_type": "code",
      "source": [
        "import torch\n",
        "import torch.nn as nn"
      ],
      "metadata": {
        "id": "SQzJjg9J_Ymv"
      },
      "execution_count": 2,
      "outputs": []
    },
    {
      "cell_type": "code",
      "execution_count": 5,
      "metadata": {
        "colab": {
          "base_uri": "https://localhost:8080/"
        },
        "id": "Jc93OBi25VCb",
        "outputId": "11f91ab0-11ce-4a1e-9cac-d1dc5eb42e38"
      },
      "outputs": [
        {
          "output_type": "execute_result",
          "data": {
            "text/plain": [
              "tensor([[ 0.1497,  0.5646,  1.4936, -1.1590, -1.3580,  0.4137],\n",
              "        [-0.3466, -2.5903,  0.6336,  1.4549,  1.3155,  0.7850],\n",
              "        [ 1.0674,  0.8205, -0.8584,  0.1572, -2.1006, -0.2919]])"
            ]
          },
          "metadata": {},
          "execution_count": 5
        }
      ],
      "source": [
        "outputs= torch.randn(3,6)\n",
        "outputs"
      ]
    },
    {
      "cell_type": "code",
      "source": [
        "mean= outputs.mean(dim=-1, keepdim=True)\n",
        "mean"
      ],
      "metadata": {
        "colab": {
          "base_uri": "https://localhost:8080/"
        },
        "id": "193P6aVW_jvr",
        "outputId": "c2c811c8-0d3f-42f4-9cf5-80fdb25fca6b"
      },
      "execution_count": 7,
      "outputs": [
        {
          "output_type": "execute_result",
          "data": {
            "text/plain": [
              "tensor([[ 0.0175],\n",
              "        [ 0.2087],\n",
              "        [-0.2010]])"
            ]
          },
          "metadata": {},
          "execution_count": 7
        }
      ]
    },
    {
      "cell_type": "code",
      "source": [
        "sd= outputs.std(dim=-1, keepdim=True)\n",
        "sd\n",
        "#author uses outputs.var"
      ],
      "metadata": {
        "colab": {
          "base_uri": "https://localhost:8080/"
        },
        "id": "nRbAMQY7_8vj",
        "outputId": "694c269a-0fd7-4fdc-87b4-ef936075e0c5"
      },
      "execution_count": 8,
      "outputs": [
        {
          "output_type": "execute_result",
          "data": {
            "text/plain": [
              "tensor([[1.0889],\n",
              "        [1.5122],\n",
              "        [1.1687]])"
            ]
          },
          "metadata": {},
          "execution_count": 8
        }
      ]
    },
    {
      "cell_type": "code",
      "source": [
        "normalized_outputs= (outputs-mean)/sd\n",
        "normalized_outputs"
      ],
      "metadata": {
        "colab": {
          "base_uri": "https://localhost:8080/"
        },
        "id": "casdNyyyAL10",
        "outputId": "eafab90f-f8ca-4dc6-cc19-44516d610afe"
      },
      "execution_count": 9,
      "outputs": [
        {
          "output_type": "execute_result",
          "data": {
            "text/plain": [
              "tensor([[ 0.1215,  0.5025,  1.3556, -1.0804, -1.2631,  0.3639],\n",
              "        [-0.3672, -1.8510,  0.2810,  0.8241,  0.7319,  0.3811],\n",
              "        [ 1.0853,  0.8740, -0.5625,  0.3065, -1.6254, -0.0778]])"
            ]
          },
          "metadata": {},
          "execution_count": 9
        }
      ]
    },
    {
      "cell_type": "code",
      "source": [
        "normalized_outputs.mean(dim=-1, keepdim=True)"
      ],
      "metadata": {
        "colab": {
          "base_uri": "https://localhost:8080/"
        },
        "id": "QwBOxP6oAcoI",
        "outputId": "6d6f8f30-f152-44fd-b884-4c2bd8eee82f"
      },
      "execution_count": 10,
      "outputs": [
        {
          "output_type": "execute_result",
          "data": {
            "text/plain": [
              "tensor([[-1.9868e-08],\n",
              "        [ 0.0000e+00],\n",
              "        [-9.9341e-09]])"
            ]
          },
          "metadata": {},
          "execution_count": 10
        }
      ]
    },
    {
      "cell_type": "code",
      "source": [
        "normalized_outputs.std(dim=-1, keepdim=True)"
      ],
      "metadata": {
        "colab": {
          "base_uri": "https://localhost:8080/"
        },
        "id": "_lLbt5WMAmqU",
        "outputId": "ecd17963-2eeb-4501-fa3b-011860d63920"
      },
      "execution_count": 11,
      "outputs": [
        {
          "output_type": "execute_result",
          "data": {
            "text/plain": [
              "tensor([[1.],\n",
              "        [1.],\n",
              "        [1.]])"
            ]
          },
          "metadata": {},
          "execution_count": 11
        }
      ]
    },
    {
      "cell_type": "code",
      "source": [
        "torch.set_printoptions(sci_mode=False)"
      ],
      "metadata": {
        "id": "OTh_w9muAyyN"
      },
      "execution_count": 12,
      "outputs": []
    }
  ]
}